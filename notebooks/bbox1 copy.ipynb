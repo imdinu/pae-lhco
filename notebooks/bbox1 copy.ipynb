{
 "cells": [
  {
   "cell_type": "markdown",
   "metadata": {},
   "source": [
    "# Probabilistic Autoencoder on LHCO data"
   ]
  },
  {
   "cell_type": "markdown",
   "metadata": {},
   "source": [
    "## Import machine lerning libraries"
   ]
  },
  {
   "cell_type": "code",
   "execution_count": null,
   "metadata": {},
   "outputs": [],
   "source": [
    "import sys\n",
    "import numpy as np\n",
    "\n",
    "sys.path.append(\"../\")\n",
    "\n",
    "from pae.models.autoencoder import DenseAutoencoder\n",
    "from pae.models.flows import MAF\n",
    "from pae.models.nn import PaeBuilder\n",
    "\n",
    "import tensorflow as tf\n",
    "import tensorflow_probability as tfp\n",
    "import tensorflow.keras as tfk"
   ]
  },
  {
   "cell_type": "code",
   "execution_count": null,
   "metadata": {},
   "outputs": [],
   "source": [
    "gpus = tf.config.list_physical_devices('GPU')\n",
    "if gpus:\n",
    "  try:\n",
    "    # Currently, memory growth needs to be the same across GPUs\n",
    "    for gpu in gpus:\n",
    "      tf.config.experimental.set_memory_growth(gpu, True)\n",
    "    logical_gpus = tf.config.experimental.list_logical_devices('GPU')\n",
    "    print(len(gpus), \"Physical GPUs,\", len(logical_gpus), \"Logical GPUs\")\n",
    "  except RuntimeError as e:\n",
    "    # Memory growth must be set before GPUs have been initialized\n",
    "    print(e)"
   ]
  },
  {
   "cell_type": "code",
   "execution_count": null,
   "metadata": {},
   "outputs": [],
   "source": [
    "from tensorflow.python.client import device_lib\n",
    "\n",
    "devices = tf.config.list_physical_devices()\n",
    "print(\"tensorflow\", tf.__version__)\n",
    "print(\"tensorflow-probability\", tfp.__version__)\n",
    "print(\"Available devices:\", *[dev[1] for dev in devices])\n",
    "\n",
    "# SEED = 100\n",
    "# np.random.seed(SEED) \n",
    "# tf.random.set_seed(SEED)"
   ]
  },
  {
   "cell_type": "markdown",
   "metadata": {},
   "source": [
    "## Plotting libraries "
   ]
  },
  {
   "cell_type": "code",
   "execution_count": null,
   "metadata": {},
   "outputs": [],
   "source": [
    "import plotly.graph_objects as go\n",
    "import plotly.express as px\n",
    "import plotly.io as pio\n",
    "\n",
    "from plotly.offline import download_plotlyjs, init_notebook_mode\n",
    "init_notebook_mode(connected = True)\n",
    "pio.templates.default = \"plotly_dark\"\n",
    "pio.templates.default = \"presentation\""
   ]
  },
  {
   "cell_type": "markdown",
   "metadata": {},
   "source": [
    "## Data loading and preprocessing"
   ]
  },
  {
   "cell_type": "code",
   "execution_count": null,
   "metadata": {},
   "outputs": [],
   "source": [
    "from pae.utils import load_json, dump_json\n",
    "\n",
    "from pae.loaders.LHCO import ScalarLoaderLHCO, DatasetBuilder\n",
    "\n",
    "x = ScalarLoaderLHCO.from_json(\"../pae/configs/loader/bbox1_scalar_2j.json\")\n",
    "mjj = ScalarLoaderLHCO.from_json(\"../pae/configs/loader/bbox1_scalar_mjj.json\")\n",
    "builder = DatasetBuilder(x, mjj)\n",
    "builder.data_preparation(sample_sizes ={'box_s':834, 'box_b': 999166, 'bkg': 500_000}, fit_key='bkg')\n",
    "dataset = builder.make_dataset(train = {'box_s':834, 'box_b': 999166}, test={'box_s':834, 'box_b': 999166}, replace=True)"
   ]
  },
  {
   "cell_type": "code",
   "execution_count": null,
   "metadata": {},
   "outputs": [],
   "source": [
    "import sys\n",
    "from pae.plotting import feature_plots\n",
    "sys.path.append('..')\n",
    "\n",
    "fig = feature_plots(dataset['x_train'], 'dijet')\n",
    "fig.update_layout(title=\"Training features transformed\")\n",
    "fig.show('svg')\n",
    "fig = feature_plots(dataset['x_test'], 'dijet', color='coral')\n",
    "fig.update_layout(title=\"Testing features transformed\")\n",
    "fig.show('svg')"
   ]
  },
  {
   "cell_type": "markdown",
   "metadata": {},
   "source": [
    "## Density estimation of $m_{jj}$"
   ]
  },
  {
   "cell_type": "code",
   "execution_count": null,
   "metadata": {},
   "outputs": [],
   "source": [
    "from pae.density import GMM, ConvKDE, KNNDensity, ExpnormFit\n",
    "\n",
    "fit_data = dataset[\"train\"]\n",
    "\n",
    "# gmm = GMM(n_components=200, covariance_type='full', max_iter=1_000, n_init=5)\n",
    "# gmm.fit(fit_data)\n",
    "#y_gmm = gmm.evaluate(fit_data)\n",
    "\n",
    "fftkde = ConvKDE(bw=\"silverman\", kernel=\"box\")\n",
    "fftkde.fit(fit_data)\n",
    "#y_kde = fftkde.evaluate(fit_data)\n",
    "\n",
    "knn = KNNDensity()\n",
    "knn.fit(fit_data)\n",
    "#y_knn = knn.evaluate(fit_data)\n",
    "\n",
    "# expn = ExpnormFit()\n",
    "# expn.fit(fit_data)"
   ]
  },
  {
   "cell_type": "code",
   "execution_count": null,
   "metadata": {},
   "outputs": [],
   "source": [
    "x_ref = np.arange(1600, 8000)\n",
    "# y_gmm = gmm.evaluate(x_ref)\n",
    "y_kde = fftkde.evaluate(x_ref)\n",
    "y_knn = knn.evaluate(x_ref)\n",
    "# y_exp = expn.evaluate(x_ref)"
   ]
  },
  {
   "cell_type": "markdown",
   "metadata": {},
   "source": [
    "$$m_{jj}$$"
   ]
  },
  {
   "cell_type": "code",
   "execution_count": null,
   "metadata": {},
   "outputs": [],
   "source": [
    "fig = go.Figure()\n",
    "# fig.add_trace(go.Scatter(x=x_ref, y=y_gmm, mode='lines', name='GMM',\n",
    "#                          line={'color': 'greenyellow', 'width': 2, 'dash': 'dot'}))\n",
    "# fig.add_trace(go.Scatter(x=x_ref, y=y_kde, mode='lines', name='FFTKDE',\n",
    "#                          line={'color': 'turquoise', 'width': 2, 'dash': 'dash'}))\n",
    "fig.add_trace(go.Scatter(x=x_ref, y=y_knn, mode='lines', name='KNN',\n",
    "                         line={'color': 'indianred', 'width': 2.5, 'dash': 'longdashdot'}))\n",
    "# fig.add_trace(go.Scatter(x=x_ref, y=y_exp, mode='lines', name='expnorm',\n",
    "#                          line={'color': 'indigo', 'width': 2, 'dash': 'solid'}))\n",
    "fig.add_trace(go.Histogram(x=dataset[\"mjj_test\"].ravel(), nbinsx=100, histnorm='probability density', \n",
    "                           marker_color='steelblue', name='Histnorm'))\n",
    "fig.update_layout(\n",
    "    title_text='Dijet mass distribution and density estimation',\n",
    "    xaxis_title_text=r'$$m_{jj}$$',\n",
    "    yaxis_title_text=r'probability density',\n",
    "    width=800,\n",
    "    height=600,\n",
    "    xaxis_range=[1500,6500]\n",
    ")\n",
    "fig.write_image(\"mjj.pdf\")\n",
    "fig.show('svg')"
   ]
  },
  {
   "cell_type": "markdown",
   "metadata": {},
   "source": [
    "### Computing Weights"
   ]
  },
  {
   "cell_type": "code",
   "execution_count": null,
   "metadata": {},
   "outputs": [],
   "source": [
    "data = dataset['mjj_train'].ravel()\n",
    "\n",
    "data_key = 'mjj_train'\n",
    "\n",
    "# w_gmm = gmm.get_weights(dataset[data_key])\n",
    "w_kde = fftkde.get_weights(dataset[data_key])\n",
    "# w_expnorm = expn.get_weights(dataset[data_key])\n",
    "#w_knn = knn.get_weights(dataset[data_key])\n",
    "fig = go.Figure()\n",
    "# fig.add_trace(go.Scattergl(x=data, y=w_gmm, \n",
    "#                            mode='markers', name='GMM', opacity=0.8,\n",
    "#                            marker=dict(color='greenyellow',symbol='diamond'))\n",
    "#             )\n",
    "# fig.add_trace(go.Scattergl(x=data, y=w_kde, \n",
    "#                            mode='markers', name='FFTKDE', opacity=0.8,\n",
    "#                            marker=dict(color='indianred',symbol='star-square'))\n",
    "#             )\n",
    "# fig.add_trace(go.Scattergl(x=data, y=w_expnorm, \n",
    "#                            mode='markers', name='expnorm', opacity=0.8,\n",
    "#                            marker=dict(color='indigo',symbol='circle'))\n",
    "#             )\n",
    "fig.add_trace(go.Scattergl(x=data, y=w_kde, \n",
    "                           mode='markers', name='KNN', opacity=0.8,\n",
    "                           marker=dict(color='indianred',symbol='triangle-nw-dot'))\n",
    "            )\n",
    "fig.update_layout(\n",
    "    title_text='Weights relative to dijetmass scatter plot',\n",
    "    xaxis_title_text=r'$$m_{jj}$$',\n",
    "    yaxis_title_text=r'weight',\n",
    "    yaxis_type=\"log\",\n",
    "    xaxis_range=[1500,6500]\n",
    ")\n",
    "fig.write_image(\"mjj_w.pdf\")\n",
    "fig.show('svg')"
   ]
  },
  {
   "cell_type": "code",
   "execution_count": null,
   "metadata": {},
   "outputs": [],
   "source": [
    "n_kde, b = np.histogram(data, bins=27, weights=w_kde)\n",
    "# n_gmm, _ = np.histogram(data, bins=b, weights=w_gmm)\n",
    "# n_exp, _ = np.histogram(data, bins=b, weights=w_expnorm)\n",
    "# n_knn, _ = np.histogram(data, bins=b, weights=w_knn)\n",
    "fig = go.Figure()       \n",
    "fig.add_trace(go.Bar(x=b[:-1], y=n_kde, name='FFTKDE',\n",
    "                           marker=dict(color='indianred'))\n",
    "            )\n",
    "# fig.add_trace(go.Bar(x=b[:-1], y=n_gmm, name='GMM',\n",
    "#                         marker=dict(color='yellowgreen'))\n",
    "#             )\n",
    "# fig.add_trace(go.Bar(x=b[:-1], y=n_exp, name='expnorm',\n",
    "#                         marker=dict(color='indigo'))\n",
    "#             )\n",
    "# fig.add_trace(go.Bar(x=b[:-1], y=n_knn, name='KNN',\n",
    "#                         marker=dict(color='indianred'))\n",
    "#             )\n",
    "fig.update_layout(\n",
    "    title_text=r'Weighted dijet mass bins',\n",
    "    xaxis_title_text=r'$$m_{jj}$$',\n",
    "    yaxis_title_text=r'Reweighted Counts',\n",
    "    yaxis_type=\"log\",\n",
    "    bargap=0.1,\n",
    "    xaxis_range=[1400,6600]\n",
    ")\n",
    "fig.write_image(\"mjj_r.pdf\")\n",
    "fig.show('svg')"
   ]
  },
  {
   "cell_type": "markdown",
   "metadata": {},
   "source": [
    "## Network creation"
   ]
  },
  {
   "cell_type": "code",
   "execution_count": null,
   "metadata": {},
   "outputs": [],
   "source": [
    "# from models import OPTIMIZERS, ACTIVATIONS, REGULARIZERS, MODELS, CALLBACKS\n",
    "# pae_config = {\n",
    "#     'ae_model': 'dense_ae',\n",
    "#     'nf_model': 'maf',\n",
    "#     'AE:input_dim': 47,\n",
    "#     'AE:encoding_dim': 10,\n",
    "#     'AE:units': [30, 20 ,15],\n",
    "#     'AE:hidden_activation': 'relu',\n",
    "#     'AE:output_activation': 'sigmoid',\n",
    "#     'AE:weight_reg': {'l1': 1e-6},\n",
    "#     'AE:bias_reg': {},\n",
    "#     'AE:output_reg': {},\n",
    "#     'NF:n_dims': 10,\n",
    "#     'NF:n_layers':5, \n",
    "#     'NF:units':[32 for i in range(4)]\n",
    "#     'ae_optimizer': 'adam',\n",
    "#     'nf_optimizer': 'adam',\n",
    "#     'ae_optim_kwargs': dict(lr=0.05),\n",
    "#     'nf_optim_kwargs': dict(lr=0.005),\n",
    "#     # 'ae_callbacks': ['reduce_lr_on_plateau']\n",
    "#     # 'ae_callbacks_kwargs': [dict(factor=0.2, patience=10, verbose=1)]\n",
    "#     # 'nf_callbacks': ['reduce_lr_on_plateau']\n",
    "#     # 'nf_callbacks_kwargs': [dict(factor=0.2, patience=5, verbose=1)]\n",
    "# }"
   ]
  },
  {
   "cell_type": "code",
   "execution_count": null,
   "metadata": {},
   "outputs": [],
   "source": [
    "builder = PaeBuilder()\n",
    "\n",
    "ae_config = {\n",
    "    'input_dim':47, \n",
    "    'encoding_dim':12, \n",
    "    'units':[30, 20, 15],\n",
    "    'weight_reg':tfk.regularizers.L1L2(l1=20e-6, l2=20e-5),\n",
    "    'output_activation':tf.nn.sigmoid\n",
    "}\n",
    "nf_config = {\n",
    "    'n_dims':12, \n",
    "    'n_layers':6, \n",
    "    'units':[32 for _ in range(4)]\n",
    "}\n",
    "optimizer_ae = {\n",
    "    'learning_rate': 0.001\n",
    "}\n",
    "optimizer_nf = {\n",
    "    'learning_rate': 0.005\n",
    "}\n",
    "\n",
    "builder.make_ae_model(DenseAutoencoder, ae_config)\n",
    "builder.make_ae_optimizer(tfk.optimizers.Adam, optimizer_ae)\n",
    "builder.make_nf_model(MAF, nf_config)\n",
    "builder.make_nf_optimizer(tfk.optimizers.Adam, optimizer_nf)\n",
    "builder.compile_ae()\n",
    "builder.compile_nf()\n",
    "pae = builder.pae"
   ]
  },
  {
   "cell_type": "code",
   "execution_count": null,
   "metadata": {},
   "outputs": [],
   "source": [
    "from sklearn.model_selection import KFold\n",
    "\n",
    "fold5 = KFold(8, shuffle=True)\n",
    "q= fold5.split(dataset[\"x_train\"])\n",
    "x_train, x_valid = next(q)\n",
    "print(x_train.shape)\n",
    "print(x_valid.shape)"
   ]
  },
  {
   "cell_type": "code",
   "execution_count": null,
   "metadata": {
    "tags": [
     "outputPrepend"
    ]
   },
   "outputs": [],
   "source": [
    "#w_kde_valid = fftkde.get_weights(dataset[\"x_train\"][x_valid])\n",
    "# w_gmm_valid = gmm.get_weights(dataset[\"x_train\"][x_valid])\n",
    "\n",
    "weights = w_kde\n",
    "\n",
    "ae_train ={\n",
    "    'batch_size':200,\n",
    "    'epochs':120,\n",
    "    'sample_weight':weights[x_train],\n",
    "    'validation_data':(dataset[\"x_train\"][x_valid],dataset[\"x_train\"][x_valid], weights[x_valid]),\n",
    "    'callbacks':tfk.callbacks.ReduceLROnPlateau(\n",
    "        factor=0.2,\n",
    "        patience=10,\n",
    "        verbose=1\n",
    "    ),\n",
    "    \"verbose\":0\n",
    "}\n",
    "\n",
    "nf_train ={\n",
    "    'batch_size':200,\n",
    "    'epochs':80,\n",
    "    'validation_data':(dataset[\"x_train\"][x_valid],dataset[\"x_train\"][x_valid]),\n",
    "    'callbacks':tfk.callbacks.ReduceLROnPlateau(\n",
    "        factor=0.2,\n",
    "        patience=5,\n",
    "        verbose=1\n",
    "    ),\n",
    "    \"verbose\":0\n",
    "}\n",
    "with tf.device(\"/device:GPU:0\"):\n",
    "    %time pae.fit(dataset[\"x_train\"][x_train],None,ae_train,nf_train)\n"
   ]
  },
  {
   "cell_type": "markdown",
   "metadata": {},
   "source": [
    "### Training metrics"
   ]
  },
  {
   "cell_type": "code",
   "execution_count": null,
   "metadata": {},
   "outputs": [],
   "source": [
    "from pae.plotting import loss_plot\n",
    "\n",
    "fig = loss_plot(pae.history)\n",
    "fig.show('svg')"
   ]
  },
  {
   "cell_type": "code",
   "execution_count": null,
   "metadata": {},
   "outputs": [],
   "source": [
    "# builder = PaeBuilder()\n",
    "# builder.make_ae_model(DenseAutoencoder, ae_config)\n",
    "# builder.make_ae_optimizer(tfk.optimizers.Adam, optimizer_ae)\n",
    "# builder.make_nf_model(MAF, nf_config)\n",
    "# builder.make_nf_optimizer(tfk.optimizers.Adam, optimizer_nf)\n",
    "# builder.compile_ae()\n",
    "# builder.compile_nf()\n",
    "# pae = builder.pae\n",
    "# pae.ae(np.zeros(47).reshape(1,-1))\n",
    "# pae.nf(np.zeros(10).reshape(1,-1))\n",
    "# pae.ae.load_weights(\"./save_testing/ae.h5\")\n",
    "# pae.nf.load_weights(\"./save_testing/nf.h5\")"
   ]
  },
  {
   "cell_type": "code",
   "execution_count": null,
   "metadata": {},
   "outputs": [],
   "source": [
    "z_true = pae.ae.encode(dataset['x_train'])\n",
    "z_sample = pae.nf.sample(dataset['x_train'].shape[0])"
   ]
  },
  {
   "cell_type": "code",
   "execution_count": null,
   "metadata": {
    "tags": []
   },
   "outputs": [],
   "source": [
    "from pae.plotting import latent_space_plot\n",
    "\n",
    "fig = latent_space_plot(z_true, z_sample)\n",
    "fig.show('svg')"
   ]
  },
  {
   "cell_type": "markdown",
   "metadata": {},
   "source": [
    "## Analysis"
   ]
  },
  {
   "cell_type": "code",
   "execution_count": null,
   "metadata": {},
   "outputs": [],
   "source": [
    "import tensorflow_probability as tfp\n",
    "tfd = tfp.distributions\n",
    "pae.compute_implicit_sigma(dataset['x_train'][x_valid])\n"
   ]
  },
  {
   "cell_type": "code",
   "execution_count": null,
   "metadata": {},
   "outputs": [],
   "source": [
    "mse = pae.reco_error(dataset['x_train'][x_train])\n",
    "pae.compute_implicit_sigma(dataset['x_train'][x_valid])\n",
    "ascore = -pae.anomaly_score(dataset['x_train'][x_train])"
   ]
  },
  {
   "cell_type": "code",
   "execution_count": null,
   "metadata": {},
   "outputs": [],
   "source": [
    "# test_fractions = {\n",
    "#     'bkg':100_000,\n",
    "#     'sig':1000\n",
    "# }\n",
    "test2 = dataset#loader.make_test(test_fractions, replace=False)#dataset\n",
    "\n",
    "ascore = -pae.anomaly_score(test2['x_test'])\n",
    "mse = pae.reco_error(test2['x_test'])"
   ]
  },
  {
   "cell_type": "code",
   "execution_count": null,
   "metadata": {},
   "outputs": [],
   "source": [
    "x=test2['x_test']\n",
    "mses = np.dot(np.square(pae.ae(x)-x),pae.sigma_square**(-1))\n",
    "lp = np.exp(np.array(pae.log_prob_encoding(x)))\n",
    "synergy= -np.sqrt(mse*lp)\n"
   ]
  },
  {
   "cell_type": "markdown",
   "metadata": {},
   "source": [
    "# Load previous result"
   ]
  },
  {
   "cell_type": "code",
   "execution_count": null,
   "metadata": {},
   "outputs": [],
   "source": [
    "# mjj = np.fromfile(\"figures/sig-inj/mjj.npy\")\n",
    "# ascore = np.fromfile(\"figures/sig-inj/ascore.npy\", dtype=np.float32)\n",
    "# import json\n",
    "\n",
    "# with open(\"figures/sig-inj/labels.json\", \"r\") as fp:\n",
    "#     labels = json.load(fp)"
   ]
  },
  {
   "cell_type": "code",
   "execution_count": null,
   "metadata": {},
   "outputs": [],
   "source": [
    "# ascore.tofile(\"./figures/sig-inj/ascore.npy\")\n",
    "# mjj.tofile(\"./figures/sig-inj/mjj.npy\")"
   ]
  },
  {
   "cell_type": "code",
   "execution_count": null,
   "metadata": {},
   "outputs": [],
   "source": [
    "import plotly.graph_objects as go\n",
    "import plotly.express as px\n",
    "import plotly.io as pio\n",
    "#pio.templates.default = \"plotly_dark\"\n",
    "from plotly.subplots import make_subplots\n",
    "\n",
    "prc=50\n",
    "\n",
    "x_min = np.percentile(ascore, 1)\n",
    "x_max = np.percentile(ascore, 99)\n",
    "x_prc = np.percentile(ascore, prc)\n",
    "i_prc = (ascore >= x_prc)\n",
    "\n",
    "fig = go.Figure(layout_xaxis_range=[-30,30])\n",
    "fig.add_trace(go.Histogram(x=ascore, name='Test dataset',\n",
    "                           marker_color='plum', nbinsx=200),\n",
    "              )\n",
    "fig.add_vline(x=x_prc, y1=5100, line_width=2, line_color='firebrick', \n",
    "              annotation_text=f\"{prc}th percentile\", \n",
    "              annotation_position=\"top right\",\n",
    "              )\n",
    "\n",
    "fig.update_layout(\n",
    "    xaxis_title='Anomaly Score',\n",
    "    #title_text=r'Cut on Anomaly Score',\n",
    "    margin={'l': 80, 'b': 40, 't': 40, 'r': 40},\n",
    "    width=600, height=300,\n",
    "    paper_bgcolor='rgba(0,0,0,1)',\n",
    "        font=dict(size=18))\n",
    "fig.write_image(\"./figures/ascore.svg\")\n",
    "fig.show('svg')\n"
   ]
  },
  {
   "cell_type": "markdown",
   "metadata": {},
   "source": [
    "$m_{jj}$"
   ]
  },
  {
   "cell_type": "code",
   "execution_count": null,
   "metadata": {},
   "outputs": [],
   "source": [
    "# import json\n",
    "\n",
    "# with open(\"./figures/sig-inj/labels.json\", \"w\") as fp:\n",
    "#     json.dump(dict(labels=labels.tolist()),fp)\n",
    "np.save"
   ]
  },
  {
   "cell_type": "code",
   "execution_count": null,
   "metadata": {},
   "outputs": [],
   "source": [
    "def adj(x, prc_min=1, prc_max=99):\n",
    "    xmin, xmax = np.percentile(x,prc_min), np.percentile(x,prc_max)\n",
    "    return x[(x >= xmin) & (x<= xmax)]"
   ]
  },
  {
   "cell_type": "code",
   "execution_count": null,
   "metadata": {},
   "outputs": [],
   "source": [
    "mjj=test2['mjj_test']\n",
    "\n",
    "\n",
    "def binarize(label):\n",
    "    return 1 if label == 'box_s' else 0\n",
    "labels = np.array(list(map(binarize, test2['labels_test'])))\n",
    "sig_label = (labels==1)\n",
    "bkg_label = (labels==0)\n",
    "\n",
    "fig = go.Figure()\n",
    "fig.add_trace(go.Histogram(x=adj(mjj[bkg_label].ravel()), name=\"SM - QCD\",\n",
    "                          marker_color='steelblue', nbinsx=150))\n",
    "fig.add_trace(go.Histogram(x=mjj[sig_label][:2000].ravel(), name=\"BSM - Signal\",\n",
    "                          marker_color='darkorange'))\n",
    "sb = 100*sum(sig_label)/sum(bkg_label)\n",
    "fig.update_layout(\n",
    "    xaxis_title=r'$m_{jj}$',\n",
    "    title_text=f'Dijet mass spectrum',\n",
    "    barmode='stack',\n",
    "    legend = dict(x=0.78, y=1,\n",
    "        traceorder='normal',\n",
    "        font=dict(size=15)),\n",
    "    paper_bgcolor='rgba(0,0,0,1)',\n",
    "    width=800, height=500)\n",
    "\n",
    "fig.show('svg')\n",
    "fig.write_image(\"anomaly.pdf\") "
   ]
  },
  {
   "cell_type": "code",
   "execution_count": null,
   "metadata": {},
   "outputs": [],
   "source": [
    "fig = go.Figure()\n",
    "fig.add_trace(go.Histogram(x=mjj[i_prc&bkg_label].ravel(), name=\"Full test bkg\",\n",
    "                          marker_color='steelblue', nbinsx=100))\n",
    "fig.add_trace(go.Histogram(x=mjj[i_prc&sig_label].ravel(), name=\"Full test sig\",\n",
    "                          marker_color='darkorange'))\n",
    "sb = 100*sum(i_prc&sig_label)/sum(i_prc&bkg_label)\n",
    "fig.update_layout(\n",
    "    xaxis_title='$m_{jj}$',\n",
    "    title_text=f'Dijet mass spectrum after cut S/B={sb:.2f}%',\n",
    "    width=600,\n",
    "    barmode='stack'\n",
    "    )\n",
    "fig.show('svg')\n",
    "fig.write_image(\"initial.svg\") "
   ]
  },
  {
   "cell_type": "code",
   "execution_count": null,
   "metadata": {},
   "outputs": [],
   "source": [
    "from pyBumpHunter import BumpHunter\n",
    "import matplotlib.pyplot as plt\n",
    "\n",
    "bkg = mjj.ravel()\n",
    "data = mjj[i_prc].ravel()\n",
    "weights = np.repeat(1/(bkg.shape[0]/data.shape[0]),bkg.shape[0])\n",
    "\n",
    "hunter = BumpHunter(rang=(2500,4500),\n",
    "                    width_min=2,\n",
    "                    width_max=5,\n",
    "                    width_step=1,\n",
    "                    scan_step=1,\n",
    "                    Npe=10000,\n",
    "                    Nworker=1,\n",
    "                    seed=666,\n",
    "                    bins=50,\n",
    "                    weights=weights,\n",
    "                    useSideBand = True\n",
    "                    )\n",
    "\n",
    "hunter.bump_scan(data,bkg)\n",
    "hunter.min_loc_ar[0]\n",
    "b = np.histogram_bin_edges(bkg, range=(2500,4500), bins=50)\n",
    "fig = plt.figure(figsize=(12,8))\n",
    "plt.hist([mjj[~sig_label&i_prc].ravel(), mjj[sig_label&i_prc].ravel()], bins=b, range=(2500,4500),\n",
    "            label=[\"data(bkg)\", \"data(sig)\"],stacked = True)\n",
    "plt.hist(bkg, bins=b, range=(2500,4500), label=\"bkg(ref)\",stacked = True, histtype='step', weights=weights)\n",
    "plt.legend()\n",
    "plt.title(\"Distributions with bump\")"
   ]
  },
  {
   "cell_type": "code",
   "execution_count": null,
   "metadata": {},
   "outputs": [],
   "source": [
    "hunter.print_bump_true(data,bkg)"
   ]
  },
  {
   "cell_type": "code",
   "execution_count": null,
   "metadata": {},
   "outputs": [],
   "source": [
    "print(\"Eff:\",mjj[i_prc&sig_label].shape[0]/1000)\n",
    "print(\"Rej:\",1-mjj[i_prc&bkg_label].shape[0]/200_000)"
   ]
  },
  {
   "cell_type": "code",
   "execution_count": null,
   "metadata": {},
   "outputs": [],
   "source": [
    "ascore = -pae.anomaly_score(dataset['x_test'])\n",
    "mse = pae.reco_error(dataset['x_test'])\n",
    "x=dataset['x_test']\n",
    "mses = np.dot(np.square(pae.ae(x)-x),pae.sigma_square**(-1))\n",
    "lp = np.exp(np.array(pae.log_prob_encoding(x)))\n",
    "\n",
    "\n",
    "# CLCULATE TEST MAP\n",
    "tfd = tfp.distributions\n",
    "\n",
    "sigma = tf.constant(tf.sqrt(pae.sigma_square))\n",
    "BATCH_SIZE_MAP = np.min([10_000, dataset['x_test'].shape[0]//10])\n",
    "z_ = tf.Variable(pae.ae.encoder(dataset['x_test'][:BATCH_SIZE_MAP].astype(np.float32))) #tf.Variable(pae.ae.encoder(dataset['x_test']))\n",
    "opt = tf.optimizers.Adam(learning_rate=0.001)\n",
    "STEPS=500\n",
    "\n",
    "\n",
    "@tf.function\n",
    "def max_apriori_prob(x, z, sigma, pae):\n",
    "    distrs = tfd.MultivariateNormalDiag(loc=x, scale_diag=sigma)\n",
    "    nf_ll = pae.nf(z)\n",
    "    reco = pae.ae.decoder(z)\n",
    "    gauss_ll = distrs.log_prob(reco)\n",
    "    return  tf.reduce_mean(-nf_ll - gauss_ll) \n",
    "\n",
    "\n",
    "@tf.function\n",
    "def find_map(x_):\n",
    "    global z_\n",
    "    if z_ is None:\n",
    "        z_ = tf.Variable(pae.ae.encoder(x_))\n",
    "    z_.assign(pae.ae.encoder(x_))\n",
    "    for _ in range(STEPS):\n",
    "        with tf.GradientTape() as tape:\n",
    "            tape.watch(z_)\n",
    "            nll = max_apriori_prob(x_, z_, sigma, pae)\n",
    "        grad = tape.gradient(nll, [z_])\n",
    "        opt.apply_gradients(zip(grad, [z_]))\n",
    "    return z_\n",
    "\n",
    "ds_ = tf.convert_to_tensor(dataset['x_test'], dtype=tf.float32)\n",
    "ds = tf.data.Dataset.from_tensor_slices(ds_)\n",
    "ds = ds.cache()\n",
    "ds = ds.batch(BATCH_SIZE_MAP)\n",
    "ds = ds.prefetch(BATCH_SIZE_MAP)\n",
    "\n",
    "#tf.profiler.experimental.start(str(run_dir / \"map\"))\n",
    "with tf.device(\"/device:GPU:0\"):\n",
    "#with tf.device(\"/device:CPU:0\"):\n",
    "    ta = tf.TensorArray(tf.float32, size=0, dynamic_size=True, clear_after_read=True)\n",
    "    for i, batch in enumerate(ds):\n",
    "        ta = ta.write(i, find_map(batch))\n",
    "    z_map = ta.concat()\n",
    "    del ta\n",
    "#tf.profiler.experimental.stop()\n",
    "\n",
    "with tf.device(\"/device:GPU:0\"):\n",
    "    byz = pae.nf.inverse(z_map)\n",
    "    detJ = pae.nf.inverse_log_det_jacobian(z_map)\n",
    "    x = pae.ae.decode(z_map)\n",
    "    reco_error = np.square(x-dataset['x_test'])\n",
    "    ascore2 = +0.5*np.dot(reco_error,pae.sigma_square**(-1)) + \\\n",
    "            0.5*np.linalg.norm(byz,axis=1)**2 - detJ\n",
    "    lp2 = -pae.nf(z_map)\n",
    "    mse2 = np.mean(reco_error, axis=1)\n",
    "    mses2 = np.dot(reco_error,pae.sigma_square**(-1))"
   ]
  },
  {
   "cell_type": "code",
   "execution_count": null,
   "metadata": {},
   "outputs": [],
   "source": [
    "x_min2 = np.percentile(ascore2, 1)\n",
    "x_max2 = np.percentile(ascore2, 99)\n",
    "x_prc2 = np.percentile(ascore2, prc)\n",
    "i_prc2 = (ascore2 >= x_prc2)\n",
    "\n",
    "#bump 2\n",
    "bkg = mjj.ravel()\n",
    "data = mjj[i_prc2].ravel()\n",
    "weights = np.repeat(1/(bkg.shape[0]/data.shape[0]),bkg.shape[0])\n",
    "\n",
    "hunter = BumpHunter(rang=(2500,4500),\n",
    "                    width_min=2,\n",
    "                    width_max=5,\n",
    "                    width_step=1,\n",
    "                    scan_step=1,\n",
    "                    Npe=10000,\n",
    "                    Nworker=1,\n",
    "                    seed=666,\n",
    "                    bins=50,\n",
    "                    weights=weights,\n",
    "                    useSideBand = True\n",
    "                    )\n",
    "\n",
    "hunter.bump_scan(data,bkg)\n",
    "hunter.min_loc_ar[0]\n",
    "b = np.histogram_bin_edges(bkg, range=(2500,4500), bins=50)\n",
    "fig = plt.figure(figsize=(12,8))\n",
    "plt.hist([mjj[~sig_label&i_prc2].ravel(), mjj[sig_label&i_prc2].ravel()], bins=b, range=(2500,4500),\n",
    "            label=[\"data(bkg)\", \"data(sig)\"],stacked = True)\n",
    "plt.hist(bkg, bins=b, range=(2500,4500), label=\"bkg(ref)\",stacked = True, histtype='step', weights=weights)\n",
    "plt.legend()\n",
    "plt.title(\"Distributions with bump\")"
   ]
  },
  {
   "cell_type": "code",
   "execution_count": null,
   "metadata": {},
   "outputs": [],
   "source": [
    "hunter.plot_bump(data,bkg)"
   ]
  },
  {
   "cell_type": "code",
   "execution_count": null,
   "metadata": {},
   "outputs": [],
   "source": [
    "inrange = (mjj >= 2800) & (mjj <=4500)\n",
    "fig = go.Figure()\n",
    "fig.add_trace(go.Histogram(x=mjj[inrange].ravel(), name=\"Full Test Set\", histnorm='probability density',\n",
    "                          nbinsx=40, bingroup='1',\n",
    "                          marker=dict(color='rgba(135, 206, 250, 0.0)', \n",
    "                                  line=dict(\n",
    "                                        color='SteelBlue',\n",
    "                                        width=2\n",
    "            ))))\n",
    "fig.add_trace(go.Histogram(x=mjj[inrange.ravel()&i_prc].ravel(), name=\"Events Left After Cut\", opacity=0.5, nbinsx=40,\n",
    "                          marker_color='darkorange', bingroup='1', histnorm='probability density',\n",
    "                          marker=dict(line=dict(\n",
    "                                        color='Tomato',\n",
    "                                        width=2\n",
    "            ))))\n",
    "#sb = 100*sum(i_prc&sig_label)/sum(i_prc&bkg_label)\n",
    "fig.update_layout(\n",
    "    xaxis_title='$$m_{jj}$$',\n",
    "    #title_text=f'Dijet mass spectra',\n",
    "    margin={'l': 80, 'b': 40, 't': 40, 'r': 40},\n",
    "    width=600, height=300,\n",
    "    paper_bgcolor='rgba(0,0,0,1)',\n",
    "        font=dict(size=18),\n",
    "    barmode='overlay',\n",
    "    legend = dict(x=0.6, y=0.95,\n",
    "        traceorder='normal',\n",
    "        font=dict(size=18)),\n",
    "    )\n",
    "fig.write_image(\"./figures/mjj_demo.svg\")\n",
    "fig.show('svg') "
   ]
  },
  {
   "cell_type": "code",
   "execution_count": null,
   "metadata": {},
   "outputs": [],
   "source": [
    "bkg = mjj.ravel()\n",
    "data = mjj[i_prc].ravel()\n",
    "weights = np.repeat(1/(bkg.shape[0]/data.shape[0]),bkg.shape[0])\n",
    "#weights_k = np.repeat(1/(data.shape[0]/data2.shape[0]),data.shape[0])"
   ]
  },
  {
   "cell_type": "code",
   "execution_count": null,
   "metadata": {},
   "outputs": [],
   "source": [
    "from pyBumpHunter import BumpHunter\n",
    "\n",
    "hunter = BumpHunter(rang=(3000,4000),\n",
    "                       width_min=2,\n",
    "                       width_max=5,\n",
    "                       width_step=1,\n",
    "                       scan_step=1,\n",
    "                       Npe=10000,\n",
    "                       Nworker=1,\n",
    "                       seed=666,\n",
    "                       bins=50,\n",
    "                       weights=weights,\n",
    "                       useSideBand = True\n",
    "                    )\n",
    "\n",
    "# x_prc_50 = np.percentile(ascore_test, 50)\n",
    "\n",
    "# high_prc = np.where(ascore_test >= x_prc_50)\n",
    "# low_prc = np.where(ascore_test <= x_prc_50)\n",
    "\n",
    "# data, bkg = test2['excl_test'][high_prc][:,0], test2['excl_test'][low_prc][:,0]\n",
    "\n",
    "%time hunter.bump_scan(data,bkg)"
   ]
  },
  {
   "cell_type": "code",
   "execution_count": null,
   "metadata": {},
   "outputs": [],
   "source": [
    "hunter.plot_bump(data,bkg)"
   ]
  },
  {
   "cell_type": "code",
   "execution_count": null,
   "metadata": {},
   "outputs": [],
   "source": [
    "hunter.print_bump_true(data,bkg)"
   ]
  },
  {
   "cell_type": "code",
   "execution_count": null,
   "metadata": {},
   "outputs": [],
   "source": [
    "import matplotlib.pyplot as plt\n",
    "\n",
    "sig_mask = sig_label\n",
    "\n",
    "hunter.min_loc_ar[0]\n",
    "b = np.histogram_bin_edges(bkg, range=(3000,4000), bins=20)\n",
    "fig = plt.figure(figsize=(12,8))\n",
    "plt.hist([mjj[~sig_mask&i_prc].ravel(), mjj[sig_mask&i_prc].ravel()], bins=b, range=(3000,4000),label=[\"data(bkg)\", \"data(sig)\"],stacked = True)\n",
    "plt.hist(bkg, bins=b, range=(3000,4000), label=\"bkg(ref)\",stacked = True, histtype='step', weights=weights)\n",
    "plt.legend()\n",
    "# line = plt.axvline(x=3520.000, color='red', linestyle=\"--\")\n",
    "# line.set_label('Label via method')\n",
    "# plt.axvline(x=3580.000, color='red', linestyle=\"--\")\n",
    "plt.title(\"Distributions with bump\")\n",
    "plt.show()"
   ]
  },
  {
   "cell_type": "markdown",
   "metadata": {},
   "source": [
    "## Plots"
   ]
  },
  {
   "cell_type": "code",
   "execution_count": null,
   "metadata": {},
   "outputs": [],
   "source": [
    "from scipy.spatial.distance import jensenshannon\n",
    "\n",
    "def mass_sculpting(mjj, score):\n",
    "    max_prc = 99\n",
    "    n_full, b = np.histogram(mjj, bins=60, density=True)\n",
    "    js_div = {}\n",
    "    for prc in range(1, max_prc+1):\n",
    "        x_prc = np.percentile(score, prc)\n",
    "        i_prc = np.where(score >= x_prc)[0]\n",
    "        n_prc, _ = np.histogram(mjj[i_prc], bins=b, density=True)\n",
    "        js_div[prc] = jensenshannon(n_full,n_prc)\n",
    "\n",
    "    return js_div\n",
    "\n",
    "def nmse(x, pae):\n",
    "    reco_error = np.square(pae.ae(x)-x)\n",
    "    return np.dot(reco_error,pae.sigma_square**(-1))\n"
   ]
  },
  {
   "cell_type": "code",
   "execution_count": null,
   "metadata": {},
   "outputs": [],
   "source": [
    "js_div_nf = load_json(\"./nf-js.json\")"
   ]
  },
  {
   "cell_type": "code",
   "execution_count": null,
   "metadata": {},
   "outputs": [],
   "source": [
    "from scipy.spatial.distance import jensenshannon\n",
    "#pio.templates.default = \"plotly_dark\"\n",
    "mjj = dataset['mjj_test']\n",
    "\n",
    "score = pae.anomaly_score(dataset['x_test'])\n",
    "js_div_pae = mass_sculpting(mjj,score)\n",
    "\n",
    "score = nmse(dataset['x_test'], pae)\n",
    "js_div_nmse = mass_sculpting(mjj,score)\n",
    "\n",
    "score = pae.reco_error(dataset['x_test'])\n",
    "js_div_mse = mass_sculpting(mjj,score)\n",
    "\n",
    "score = -pae.log_prob_encoding(dataset['x_test'])\n",
    "js_div_lpz = mass_sculpting(mjj,score)\n",
    "\n",
    "fig = go.Figure()\n",
    "# fig.add_shape(\n",
    "#     type='line', line=dict(dash='dash', color=\"tomato\", width=1),\n",
    "#     x0=90, x1=90, y0=0, y1=0.04, \n",
    "# )\n",
    "\n",
    "fig.add_trace(\n",
    "    go.Scatter(x=list(js_div_pae.keys()), y=list(js_div_lpz.values()), mode='lines',\n",
    "        name=r\"$-\\log p_z$\", line=dict(color=\"chocolate\", width=3))\n",
    ")\n",
    "fig.add_trace(\n",
    "    go.Scatter(x=list(js_div_pae.keys()), y=list(js_div_mse.values()), mode='lines',\n",
    "        name=r\"$\\text{MSE}$\", line=dict(color=\"steelblue\", width=3))\n",
    ")\n",
    "fig.add_trace(\n",
    "    go.Scatter(x=list(js_div_pae.keys()), y=list(js_div_nmse.values()), mode='lines',\n",
    "        name=r\"$\\text{MSE} \\cdot \\sigma^{\\circ-2}$\", line=dict(color=\"cornflowerblue\", width=3))\n",
    ")\n",
    "fig.add_trace(\n",
    "    go.Scatter(x=list(js_div_pae.keys()), y=list(js_div_pae.values()), mode='lines',\n",
    "        name=r\"$\\text{PAE}$\", line=dict(color=\"plum\", width=3))\n",
    ")\n",
    "\n",
    "\n",
    "\n",
    "# fig.add_trace(go.Scatter(\n",
    "#     x=[86],\n",
    "#     y=[0.003],\n",
    "#     mode=\"text\",\n",
    "#     text=[\"97th percentile\"],\n",
    "#     textposition=\"top center\",\n",
    "#     showlegend=False\n",
    "# ))\n",
    "\n",
    "fig.update_layout(\n",
    "    title_text = \"Mass sculpting\",\n",
    "    xaxis_title = \"Percentile Cut\",\n",
    "    yaxis_title = \"Jensen–Shannon\",\n",
    "    margin={'l': 80, 'b': 40, 't': 40, 'r': 0},\n",
    "    width=600, height=500,\n",
    "    paper_bgcolor='rgba(0,0,0,1)',\n",
    "        legend = dict(x=0, y=1,\n",
    "        traceorder='normal',\n",
    "        font=dict(size=15))\n",
    ")\n",
    "fig.show('svg')\n",
    "fig.write_image(\"JS-plot.pdf\")\n"
   ]
  },
  {
   "cell_type": "code",
   "execution_count": null,
   "metadata": {},
   "outputs": [],
   "source": [
    "def make_trace(labels, score, c, n=\"\"):\n",
    "    fpr, tpr, _ = roc_curve(labels, score)\n",
    "    aauc = auc(1-fpr, tpr)\n",
    "    print(n,aauc)\n",
    "    return go.Scatter(x=tpr, y=1-fpr, mode='lines',\n",
    "        name=n+f\"AUC:{aauc:.2f}\", line=dict(color=c, width=2))\n",
    "\n",
    "nf_roc = load_json(\"./nf-roc.json\")"
   ]
  },
  {
   "cell_type": "code",
   "execution_count": null,
   "metadata": {},
   "outputs": [],
   "source": [
    "from sklearn.metrics import roc_curve, auc\n",
    "import plotly.express as px\n",
    "\n",
    "def binarize(label):\n",
    "    return 1 if label == 'box_s' else 0\n",
    "labels = np.array(list(map(binarize, test2['labels_test'])))\n",
    "\n",
    "fpr, tpr, _ = roc_curve(labels, ascore)\n",
    "pae_auc = auc(1-fpr, tpr)\n",
    "\n",
    "score = pae.reco_error(dataset['x_test'])\n",
    "roc_mse = make_trace(labels, score, 'steelblue')\n",
    "\n",
    "score = nmse(dataset['x_test'], pae)\n",
    "roc_nmse = make_trace(labels, score, 'cornflowerblue')\n",
    "\n",
    "score = -pae.log_prob_encoding(dataset['x_test'])\n",
    "roc_lpz = make_trace(labels, score, 'chocolate')\n",
    "\n",
    "fig = go.Figure()\n",
    "fig.add_trace(\n",
    "    go.Scatter(x=nf_roc[\"eff\"], y=nf_roc[\"rej\"], mode='lines',\n",
    "        name=f\"AUC:{nf_roc['auc']:.2f}\", line=dict(color=\"rosybrown\", width=2))\n",
    ")\n",
    "\n",
    "fig.add_trace(\n",
    "    go.Scatter(x=tpr, y=1-fpr, mode='lines',\n",
    "        name=f\"AUC:{pae_auc:.2f}\", line=dict(color=\"Plum\", width=2))\n",
    ")\n",
    "\n",
    "fig.add_trace(roc_mse)\n",
    "fig.add_trace(roc_nmse)\n",
    "fig.add_trace(roc_lpz)\n",
    "fig.update_layout(\n",
    "    width=500, height=500,\n",
    "    xaxis_title = \"Signal efficiency\",\n",
    "    yaxis_title = \"Background Rejection\",\n",
    "    margin={'l': 60, 'b': 60, 't': 40, 'r': 0},\n",
    "    legend = dict(x=0.1, y=0.05,\n",
    "        traceorder='normal',\n",
    "        font=dict(size=15)),\n",
    "    title_text=\"ROC curves\",\n",
    "    showlegend=True,\n",
    "    paper_bgcolor='rgba(0,0,0,1)',\n",
    ")\n",
    "fig.update_yaxes(scaleanchor=\"x\", scaleratio=1)\n",
    "fig.update_xaxes(constrain='domain')\n",
    "fig.write_image(\"ROC2jet.pdf\")\n",
    "fig.show(\"svg\")"
   ]
  },
  {
   "cell_type": "code",
   "execution_count": null,
   "metadata": {},
   "outputs": [],
   "source": [
    "def make_trace2(labels, score, c, n=\"\"):\n",
    "    fpr, tpr, _ = roc_curve(labels, score)\n",
    "    aauc = auc(1-fpr, tpr)\n",
    "    print(n,aauc)\n",
    "    return go.Scatter(x=tpr, y=1-fpr, mode='lines',\n",
    "        name=n+f\"AUC:{aauc:.2f}\", line=dict(color=c, width=2)), 1-fpr, tpr, aauc\n",
    "\n",
    "roc_lpz2, fpr, tpr, a = make_trace2(labels, lp2, 'coral')\n",
    "roc_pae2, fpr, tpr, a = make_trace2(labels, ascore2, 'indigo')\n",
    "roc_mse2, fpr, tpr, a = make_trace2(labels, mse2, 'royalblue')\n",
    "roc_nmse2, fpr, tpr, a = make_trace2(labels, mses2, 'deepskyblue')\n",
    "\n",
    "fig = go.Figure()\n",
    "fig.add_trace(roc_lpz2)\n",
    "fig.add_trace(roc_mse2)\n",
    "fig.add_trace(roc_nmse2)\n",
    "fig.add_trace(roc_pae2)\n",
    "fig.update_layout(\n",
    "    width=500, height=500,\n",
    "    xaxis_title = \"Signal efficiency\",\n",
    "    yaxis_title = \"Background Rejection\",\n",
    "    margin={'l': 60, 'b': 60, 't': 40, 'r': 0},\n",
    "    legend = dict(x=0.1, y=0.05,\n",
    "        traceorder='normal',\n",
    "        font=dict(size=15)),\n",
    "    title_text=\"ROC curves\",\n",
    "    showlegend=True,\n",
    "    paper_bgcolor='rgba(0,0,0,1)',\n",
    ")\n",
    "fig.update_yaxes(scaleanchor=\"x\", scaleratio=1)\n",
    "fig.update_xaxes(constrain='domain')"
   ]
  },
  {
   "cell_type": "code",
   "execution_count": null,
   "metadata": {},
   "outputs": [],
   "source": []
  }
 ],
 "metadata": {
  "interpreter": {
   "hash": "70f45a738872f66498ef9def3ce24bedd18274b41618f938c7df5c328e4074a6"
  },
  "kernelspec": {
   "display_name": "Python 3.9.7 64-bit ('tf-gpu': conda)",
   "name": "python3"
  },
  "language_info": {
   "codemirror_mode": {
    "name": "ipython",
    "version": 3
   },
   "file_extension": ".py",
   "mimetype": "text/x-python",
   "name": "python",
   "nbconvert_exporter": "python",
   "pygments_lexer": "ipython3",
   "version": "3.9.7"
  }
 },
 "nbformat": 4,
 "nbformat_minor": 2
}
