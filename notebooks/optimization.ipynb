{
 "metadata": {
  "language_info": {
   "codemirror_mode": {
    "name": "ipython",
    "version": 3
   },
   "file_extension": ".py",
   "mimetype": "text/x-python",
   "name": "python",
   "nbconvert_exporter": "python",
   "pygments_lexer": "ipython3",
   "version": "3.8.6"
  },
  "orig_nbformat": 2,
  "kernelspec": {
   "name": "tf-gpu",
   "display_name": "tf-gpu",
   "language": "python"
  }
 },
 "nbformat": 4,
 "nbformat_minor": 2,
 "cells": [
  {
   "cell_type": "code",
   "execution_count": 1,
   "metadata": {},
   "outputs": [],
   "source": [
    "import sys\n",
    "\n",
    "sys.path.append(\"../\")\n",
    "\n",
    "from loaders.LHCO import LhcoRnDLoader\n",
    "from analysis.scalar import HLFAnalysis\n",
    "from models.nn import PaeBuilder\n",
    "from utils import load_json, dump_json\n",
    "\n",
    "import tensorflow as tf\n",
    "import numpy as np"
   ]
  },
  {
   "cell_type": "code",
   "execution_count": 2,
   "metadata": {},
   "outputs": [
    {
     "output_type": "stream",
     "name": "stdout",
     "text": [
      "1 Physical GPUs, 1 Logical GPUs\n"
     ]
    }
   ],
   "source": [
    "gpus = tf.config.list_physical_devices('GPU')\n",
    "if gpus:\n",
    "  try:\n",
    "    # Currently, memory growth needs to be the same across GPUs\n",
    "    for gpu in gpus:\n",
    "      tf.config.experimental.set_memory_growth(gpu, True)\n",
    "    logical_gpus = tf.config.experimental.list_logical_devices('GPU')\n",
    "    print(len(gpus), \"Physical GPUs,\", len(logical_gpus), \"Logical GPUs\")\n",
    "  except RuntimeError as e:\n",
    "    # Memory growth must be set before GPUs have been initialized\n",
    "    print(e)"
   ]
  },
  {
   "cell_type": "code",
   "execution_count": 3,
   "metadata": {},
   "outputs": [],
   "source": [
    "import glob\n",
    "\n",
    "configs_folder = '../configs/analysis'\n",
    "config_files = glob.glob(configs_folder+'/*.json')\n",
    "config_files = ['../configs/configs/c3d4.json']"
   ]
  },
  {
   "cell_type": "code",
   "execution_count": 4,
   "metadata": {},
   "outputs": [
    {
     "output_type": "execute_result",
     "data": {
      "text/plain": [
       "'c3d4'"
      ]
     },
     "metadata": {},
     "execution_count": 4
    }
   ],
   "source": [
    "config_files[0].replace('.', '/').split('/')[-2]"
   ]
  },
  {
   "cell_type": "code",
   "execution_count": 5,
   "metadata": {},
   "outputs": [],
   "source": [
    "import os\n",
    "\n",
    "plots_dir = './figures/'\n",
    "if not os.path.exists(plots_dir):\n",
    "    os.mkdir(plots_dir)\n",
    "results_history = {\n",
    " 'id': [],\n",
    " 'config': [],\n",
    " 'js_div_train': [],\n",
    " 'js_div_test': [],\n",
    " 'sig_eff': [],\n",
    " 'bkg_rej': [],\n",
    " 'auc': []}"
   ]
  },
  {
   "cell_type": "code",
   "execution_count": 6,
   "metadata": {},
   "outputs": [
    {
     "output_type": "stream",
     "name": "stdout",
     "text": [
      "[PhysicalDevice(name='/physical_device:CPU:0', device_type='CPU'), PhysicalDevice(name='/physical_device:GPU:0', device_type='GPU')]\n",
      "800/800 [==============================] - 6s 7ms/step - loss: 582.9951 - val_loss: 617.0740\n",
      "800/800 [==============================] - 9s 9ms/step - loss: -15.4158 - val_loss: -24.8004\n"
     ]
    }
   ],
   "source": [
    " for file in config_files:\n",
    "    analysis_cfg = load_json(file)\n",
    "    analysis_cfg\n",
    "\n",
    "    analysis_cfg[\"NF:n_dims\"] = analysis_cfg[\"AE:encoding_dim\"]\n",
    "    config = analysis_cfg.copy()\n",
    "\n",
    "    loader_json = analysis_cfg.pop('ANA:loader')\n",
    "    dataset_json = analysis_cfg.pop('ANA:dataset')\n",
    "    density_estimator = analysis_cfg.pop('ANA:estimator')\n",
    "    prc = analysis_cfg.pop('ANA:percentile')\n",
    "\n",
    "    loader = LhcoRnDLoader.from_json(loader_json)\n",
    "    dataset_cfg = load_json(dataset_json)\n",
    "    dataset = loader.make_full_dataset(**dataset_cfg)\n",
    "\n",
    "    builder = PaeBuilder()\n",
    "\n",
    "    pae, ae_train, nf_train = builder.from_json(analysis_cfg)\n",
    "    task = HLFAnalysis(pae, dataset=dataset)\n",
    "    task.reweighting(estimator=density_estimator, fit_key='mjj_train')\n",
    "    if 'cond' in config['nf_model']:\n",
    "        task.make_cond_inputs(['mjj_train', 'mjj_test', 'mjj_valid'])\n",
    "    task.train(ae_train,nf_train)\n",
    "    result = task.evaluate(prc = prc)\n",
    "    for key in result.keys():\n",
    "        results_history[key].append(result[key])\n",
    "    \n",
    "    id = config_files[0].replace('.', '/').split('/')[-2]\n",
    "    results_history['id'].append(id)\n",
    "    results_history['config'].append(config)\n",
    "    task.plot_training(plots_dir+id+'_train.png')\n",
    "    task.plot_latent_space(plots_dir+id+'_latent.png')\n",
    "\n"
   ]
  },
  {
   "cell_type": "code",
   "execution_count": 7,
   "metadata": {},
   "outputs": [
    {
     "output_type": "execute_result",
     "data": {
      "text/plain": [
       "{'id': ['c3d4'],\n",
       " 'config': [{'ANA:loader': '../configs/loader/default_rnd.json',\n",
       "   'ANA:dataset': '../configs/loader/default_dataset.json',\n",
       "   'ANA:estimator': 'gmm',\n",
       "   'ANA:percentile': 95,\n",
       "   'ae_model': 'dense_ae',\n",
       "   'nf_model': 'maf',\n",
       "   'AE:input_dim': 47,\n",
       "   'AE:encoding_dim': 12,\n",
       "   'AE:units': [30, 20, 15],\n",
       "   'AE:hidden_activation': 'relu',\n",
       "   'AE:output_activation': 'sigmoid',\n",
       "   'AE:weight_reg': {'l1': 1e-06},\n",
       "   'AE:bias_reg': {},\n",
       "   'AE:output_reg': {},\n",
       "   'NF:n_dims': 12,\n",
       "   'NF:n_layers': 5,\n",
       "   'NF:units': [32, 32, 32, 32],\n",
       "   'ae_optimizer': 'adam',\n",
       "   'nf_optimizer': 'adam',\n",
       "   'ae_optimizer_kwargs': {'lr': 0.001},\n",
       "   'nf_optimizer_kwargs': {'lr': 0.005},\n",
       "   'ae_callbacks': ['reduce_lr_on_plateau'],\n",
       "   'ae_callbacks_kwargs': [{'factor': 0.2, 'patience': 10, 'verbose': 1}],\n",
       "   'nf_callbacks': ['reduce_lr_on_plateau'],\n",
       "   'nf_callbacks_kwargs': [{'factor': 0.2, 'patience': 5, 'verbose': 1}],\n",
       "   'ae_epochs': 1,\n",
       "   'ae_batch_size': 200,\n",
       "   'nf_epochs': 1,\n",
       "   'nf_batch_size': 200}],\n",
       " 'js_div_train': [0.12589319577969577],\n",
       " 'js_div_test': [0.261892601281216],\n",
       " 'sig_eff': [0.09501],\n",
       " 'bkg_rej': [0.99501],\n",
       " 'auc': [0.84252200825]}"
      ]
     },
     "metadata": {},
     "execution_count": 7
    }
   ],
   "source": [
    "results_history"
   ]
  },
  {
   "source": [
    "# Plotting results"
   ],
   "cell_type": "markdown",
   "metadata": {}
  },
  {
   "cell_type": "code",
   "execution_count": 1,
   "metadata": {},
   "outputs": [
    {
     "output_type": "display_data",
     "data": {
      "text/html": "        <script type=\"text/javascript\">\n        window.PlotlyConfig = {MathJaxConfig: 'local'};\n        if (window.MathJax) {MathJax.Hub.Config({SVG: {font: \"STIX-Web\"}});}\n        if (typeof require !== 'undefined') {\n        require.undef(\"plotly\");\n        requirejs.config({\n            paths: {\n                'plotly': ['https://cdn.plot.ly/plotly-latest.min']\n            }\n        });\n        require(['plotly'], function(Plotly) {\n            window._Plotly = Plotly;\n        });\n        }\n        </script>\n        "
     },
     "metadata": {}
    }
   ],
   "source": [
    "import sys\n",
    "\n",
    "sys.path.append(\"../\")\n",
    "\n",
    "from utils import load_json, dump_json\n",
    "\n",
    "import plotly.graph_objects as go\n",
    "import plotly.express as px\n",
    "import plotly.io as pio\n",
    "from plotly.subplots import make_subplots\n",
    "\n",
    "import pandas as pd\n",
    "\n",
    "from plotly.offline import download_plotlyjs, init_notebook_mode\n",
    "init_notebook_mode(connected = True)\n",
    "pio.templates.default = \"plotly_dark\""
   ]
  },
  {
   "cell_type": "code",
   "execution_count": 2,
   "metadata": {},
   "outputs": [],
   "source": [
    "results = load_json(\"./regularization_result2.json\")"
   ]
  },
  {
   "cell_type": "code",
   "execution_count": 3,
   "metadata": {},
   "outputs": [
    {
     "output_type": "execute_result",
     "data": {
      "text/plain": [
       "dict_keys(['id', 'config', 'js_div_train', 'js_div_test', 'sig_eff', 'bkg_rej', 'auc'])"
      ]
     },
     "metadata": {},
     "execution_count": 3
    }
   ],
   "source": [
    "results.keys()"
   ]
  },
  {
   "cell_type": "code",
   "execution_count": 4,
   "metadata": {},
   "outputs": [],
   "source": [
    "cfgs = results.pop('config')"
   ]
  },
  {
   "cell_type": "code",
   "execution_count": 5,
   "metadata": {},
   "outputs": [],
   "source": [
    "relevant_keys = ['ANA:estimator', 'nf_model', 'AE:encoding_dim', 'AE:weight_reg', 'ANA:loader']\n",
    "cfgs_merged = {}\n",
    "for d in cfgs:\n",
    "    for k in relevant_keys: \n",
    "        cfgs_merged.setdefault(k, []).append(d[k])"
   ]
  },
  {
   "cell_type": "code",
   "execution_count": 6,
   "metadata": {},
   "outputs": [],
   "source": [
    "cfgs_merged['l1'] = [x['l1'] for x in cfgs_merged['AE:weight_reg']]\n",
    "cfgs_merged['l2'] = [x['l2'] for x in cfgs_merged['AE:weight_reg']]"
   ]
  },
  {
   "cell_type": "code",
   "execution_count": 16,
   "metadata": {},
   "outputs": [
    {
     "output_type": "stream",
     "name": "stderr",
     "text": [
      "<ipython-input-16-ac1d0b97ee8b>:11: SettingWithCopyWarning:\n\n\nA value is trying to be set on a copy of a slice from a DataFrame\n\nSee the caveats in the documentation: https://pandas.pydata.org/pandas-docs/stable/user_guide/indexing.html#returning-a-view-versus-a-copy\n\n<ipython-input-16-ac1d0b97ee8b>:12: SettingWithCopyWarning:\n\n\nA value is trying to be set on a copy of a slice from a DataFrame\n\nSee the caveats in the documentation: https://pandas.pydata.org/pandas-docs/stable/user_guide/indexing.html#returning-a-view-versus-a-copy\n\n<ipython-input-16-ac1d0b97ee8b>:13: SettingWithCopyWarning:\n\n\nA value is trying to be set on a copy of a slice from a DataFrame\n\nSee the caveats in the documentation: https://pandas.pydata.org/pandas-docs/stable/user_guide/indexing.html#returning-a-view-versus-a-copy\n\n<ipython-input-16-ac1d0b97ee8b>:14: SettingWithCopyWarning:\n\n\nA value is trying to be set on a copy of a slice from a DataFrame\n\nSee the caveats in the documentation: https://pandas.pydata.org/pandas-docs/stable/user_guide/indexing.html#returning-a-view-versus-a-copy\n\n"
     ]
    }
   ],
   "source": [
    "data = {**results, **cfgs_merged}\n",
    "data['encoding_dim'] = data.pop('AE:encoding_dim')\n",
    "data['js_div'] = data.pop('js_div_train')\n",
    "data.pop('AE:weight_reg')\n",
    "data['density_estimator'] = data.pop('ANA:estimator')\n",
    "data['reg_l1_l2'] =['' for x in data['density_estimator']]\n",
    "data['mjj_cut'] = data['ANA:loader'] == \"../configs/loader/louis_rnd.json\"\n",
    "\n",
    "df = pd.DataFrame(data)\n",
    "df['mjj_cut'] = df['ANA:loader'].str.contains( '../configs/loader/louis_rnd.json')\n",
    "df['reg_l1_l2'][(df['l1'] == 1e-5) & (df['l2'] == 1e-5)] = '1e-5/1e-5'\n",
    "df['reg_l1_l2'][(df['l1'] == 1e-6) & (df['l2'] == 1e-5)] = '1e-6/1e-5'\n",
    "df['reg_l1_l2'][(df['l1'] == 1e-6) & (df['l2'] == 1e-4)] = '1e-6/1e-4'\n",
    "df['reg_l1_l2'][(df['l1'] == 1e-5) & (df['l2'] == 1e-4)] = '1e-5/1e-4'"
   ]
  },
  {
   "cell_type": "code",
   "execution_count": 25,
   "metadata": {},
   "outputs": [
    {
     "output_type": "display_data",
     "data": {
      "application/vnd.plotly.v1+json": {
       "config": {
        "plotlyServerURL": "https://plot.ly"
       },
       "data": [
        {
         "customdata": [
          [
           0.03421808742114773,
           0.000001,
           0.0001,
           "0cb6"
          ],
          [
           0.043835616025200905,
           0.000001,
           0.0001,
           "4a07"
          ],
          [
           0.04006542237970632,
           0.000001,
           0.0001,
           "462d"
          ],
          [
           0.03816404343630608,
           0.000001,
           0.0001,
           "d5ef"
          ],
          [
           0.04067985812919702,
           0.000001,
           0.0001,
           "ca95"
          ]
         ],
         "hovertemplate": "reg_l1_l2=1e-6/1e-4<br>encoding_dim=%{x}<br>auc=%{y}<br>js_div=%{customdata[0]}<br>l1=%{customdata[1]}<br>l2=%{customdata[2]}<br>id=%{customdata[3]}<extra></extra>",
         "legendgroup": "1e-6/1e-4",
         "marker": {
          "color": "#636efa",
          "size": [
           0.03421808742114773,
           0.043835616025200905,
           0.04006542237970632,
           0.03816404343630608,
           0.04067985812919702
          ],
          "sizemode": "area",
          "sizeref": 0.00016876265989307273,
          "symbol": "circle"
         },
         "mode": "markers",
         "name": "1e-6/1e-4",
         "orientation": "v",
         "showlegend": true,
         "type": "scatter",
         "x": [
          5,
          6,
          9,
          10,
          11
         ],
         "xaxis": "x",
         "y": [
          0.815132427,
          0.76431685385,
          0.7112204274,
          0.79653153005,
          0.72589291825
         ],
         "yaxis": "y"
        },
        {
         "customdata": [
          [
           0.06428320558648501,
           0.00001,
           0.00001,
           "d9c1"
          ],
          [
           0.06750506395722909,
           0.00001,
           0.00001,
           "0385"
          ],
          [
           0.027313603331759265,
           0.00001,
           0.00001,
           "8bed"
          ],
          [
           0.0532250300424164,
           0.00001,
           0.00001,
           "cba1"
          ],
          [
           0.050418917831897406,
           0.00001,
           0.00001,
           "0436"
          ]
         ],
         "hovertemplate": "reg_l1_l2=1e-5/1e-5<br>encoding_dim=%{x}<br>auc=%{y}<br>js_div=%{customdata[0]}<br>l1=%{customdata[1]}<br>l2=%{customdata[2]}<br>id=%{customdata[3]}<extra></extra>",
         "legendgroup": "1e-5/1e-5",
         "marker": {
          "color": "#EF553B",
          "size": [
           0.06428320558648501,
           0.06750506395722909,
           0.027313603331759265,
           0.0532250300424164,
           0.050418917831897406
          ],
          "sizemode": "area",
          "sizeref": 0.00016876265989307273,
          "symbol": "circle"
         },
         "mode": "markers",
         "name": "1e-5/1e-5",
         "orientation": "v",
         "showlegend": true,
         "type": "scatter",
         "x": [
          5,
          6,
          9,
          10,
          11
         ],
         "xaxis": "x",
         "y": [
          0.81366074795,
          0.8081795239,
          0.7040528618999999,
          0.8336262907499999,
          0.7975091603
         ],
         "yaxis": "y"
        },
        {
         "customdata": [
          [
           0.04789009264781362,
           0.00001,
           0.0001,
           "1eed"
          ],
          [
           0.034391138527539555,
           0.00001,
           0.0001,
           "ca3a"
          ],
          [
           0.04038812492283407,
           0.00001,
           0.0001,
           "6915"
          ],
          [
           0.032860488443771284,
           0.00001,
           0.0001,
           "4b82"
          ],
          [
           0.036432567954359986,
           0.00001,
           0.0001,
           "1c68"
          ]
         ],
         "hovertemplate": "reg_l1_l2=1e-5/1e-4<br>encoding_dim=%{x}<br>auc=%{y}<br>js_div=%{customdata[0]}<br>l1=%{customdata[1]}<br>l2=%{customdata[2]}<br>id=%{customdata[3]}<extra></extra>",
         "legendgroup": "1e-5/1e-4",
         "marker": {
          "color": "#00cc96",
          "size": [
           0.04789009264781362,
           0.034391138527539555,
           0.04038812492283407,
           0.032860488443771284,
           0.036432567954359986
          ],
          "sizemode": "area",
          "sizeref": 0.00016876265989307273,
          "symbol": "circle"
         },
         "mode": "markers",
         "name": "1e-5/1e-4",
         "orientation": "v",
         "showlegend": true,
         "type": "scatter",
         "x": [
          5,
          6,
          9,
          10,
          11
         ],
         "xaxis": "x",
         "y": [
          0.82636423805,
          0.81934538375,
          0.8456061879500001,
          0.8082337805500001,
          0.7517204743
         ],
         "yaxis": "y"
        },
        {
         "customdata": [
          [
           0.03541660469589577,
           0.000001,
           0.00001,
           "f515"
          ],
          [
           0.03830847713864206,
           0.000001,
           0.00001,
           "520d"
          ],
          [
           0.028622555192084006,
           0.000001,
           0.00001,
           "4aa9"
          ],
          [
           0.033227073928711486,
           0.000001,
           0.00001,
           "b2d7"
          ],
          [
           0.027438134248877023,
           0.000001,
           0.00001,
           "18f6"
          ]
         ],
         "hovertemplate": "reg_l1_l2=1e-6/1e-5<br>encoding_dim=%{x}<br>auc=%{y}<br>js_div=%{customdata[0]}<br>l1=%{customdata[1]}<br>l2=%{customdata[2]}<br>id=%{customdata[3]}<extra></extra>",
         "legendgroup": "1e-6/1e-5",
         "marker": {
          "color": "#ab63fa",
          "size": [
           0.03541660469589577,
           0.03830847713864206,
           0.028622555192084006,
           0.033227073928711486,
           0.027438134248877023
          ],
          "sizemode": "area",
          "sizeref": 0.00016876265989307273,
          "symbol": "circle"
         },
         "mode": "markers",
         "name": "1e-6/1e-5",
         "orientation": "v",
         "showlegend": true,
         "type": "scatter",
         "x": [
          5,
          6,
          9,
          10,
          11
         ],
         "xaxis": "x",
         "y": [
          0.7897290484,
          0.8095015434,
          0.7729640073500001,
          0.74407847185,
          0.75259038045
         ],
         "yaxis": "y"
        }
       ],
       "layout": {
        "legend": {
         "itemsizing": "constant",
         "title": {
          "text": "reg_l1_l2"
         },
         "tracegroupgap": 0
        },
        "margin": {
         "t": 60
        },
        "template": {
         "data": {
          "bar": [
           {
            "error_x": {
             "color": "#f2f5fa"
            },
            "error_y": {
             "color": "#f2f5fa"
            },
            "marker": {
             "line": {
              "color": "rgb(17,17,17)",
              "width": 0.5
             }
            },
            "type": "bar"
           }
          ],
          "barpolar": [
           {
            "marker": {
             "line": {
              "color": "rgb(17,17,17)",
              "width": 0.5
             }
            },
            "type": "barpolar"
           }
          ],
          "carpet": [
           {
            "aaxis": {
             "endlinecolor": "#A2B1C6",
             "gridcolor": "#506784",
             "linecolor": "#506784",
             "minorgridcolor": "#506784",
             "startlinecolor": "#A2B1C6"
            },
            "baxis": {
             "endlinecolor": "#A2B1C6",
             "gridcolor": "#506784",
             "linecolor": "#506784",
             "minorgridcolor": "#506784",
             "startlinecolor": "#A2B1C6"
            },
            "type": "carpet"
           }
          ],
          "choropleth": [
           {
            "colorbar": {
             "outlinewidth": 0,
             "ticks": ""
            },
            "type": "choropleth"
           }
          ],
          "contour": [
           {
            "colorbar": {
             "outlinewidth": 0,
             "ticks": ""
            },
            "colorscale": [
             [
              0,
              "#0d0887"
             ],
             [
              0.1111111111111111,
              "#46039f"
             ],
             [
              0.2222222222222222,
              "#7201a8"
             ],
             [
              0.3333333333333333,
              "#9c179e"
             ],
             [
              0.4444444444444444,
              "#bd3786"
             ],
             [
              0.5555555555555556,
              "#d8576b"
             ],
             [
              0.6666666666666666,
              "#ed7953"
             ],
             [
              0.7777777777777778,
              "#fb9f3a"
             ],
             [
              0.8888888888888888,
              "#fdca26"
             ],
             [
              1,
              "#f0f921"
             ]
            ],
            "type": "contour"
           }
          ],
          "contourcarpet": [
           {
            "colorbar": {
             "outlinewidth": 0,
             "ticks": ""
            },
            "type": "contourcarpet"
           }
          ],
          "heatmap": [
           {
            "colorbar": {
             "outlinewidth": 0,
             "ticks": ""
            },
            "colorscale": [
             [
              0,
              "#0d0887"
             ],
             [
              0.1111111111111111,
              "#46039f"
             ],
             [
              0.2222222222222222,
              "#7201a8"
             ],
             [
              0.3333333333333333,
              "#9c179e"
             ],
             [
              0.4444444444444444,
              "#bd3786"
             ],
             [
              0.5555555555555556,
              "#d8576b"
             ],
             [
              0.6666666666666666,
              "#ed7953"
             ],
             [
              0.7777777777777778,
              "#fb9f3a"
             ],
             [
              0.8888888888888888,
              "#fdca26"
             ],
             [
              1,
              "#f0f921"
             ]
            ],
            "type": "heatmap"
           }
          ],
          "heatmapgl": [
           {
            "colorbar": {
             "outlinewidth": 0,
             "ticks": ""
            },
            "colorscale": [
             [
              0,
              "#0d0887"
             ],
             [
              0.1111111111111111,
              "#46039f"
             ],
             [
              0.2222222222222222,
              "#7201a8"
             ],
             [
              0.3333333333333333,
              "#9c179e"
             ],
             [
              0.4444444444444444,
              "#bd3786"
             ],
             [
              0.5555555555555556,
              "#d8576b"
             ],
             [
              0.6666666666666666,
              "#ed7953"
             ],
             [
              0.7777777777777778,
              "#fb9f3a"
             ],
             [
              0.8888888888888888,
              "#fdca26"
             ],
             [
              1,
              "#f0f921"
             ]
            ],
            "type": "heatmapgl"
           }
          ],
          "histogram": [
           {
            "marker": {
             "colorbar": {
              "outlinewidth": 0,
              "ticks": ""
             }
            },
            "type": "histogram"
           }
          ],
          "histogram2d": [
           {
            "colorbar": {
             "outlinewidth": 0,
             "ticks": ""
            },
            "colorscale": [
             [
              0,
              "#0d0887"
             ],
             [
              0.1111111111111111,
              "#46039f"
             ],
             [
              0.2222222222222222,
              "#7201a8"
             ],
             [
              0.3333333333333333,
              "#9c179e"
             ],
             [
              0.4444444444444444,
              "#bd3786"
             ],
             [
              0.5555555555555556,
              "#d8576b"
             ],
             [
              0.6666666666666666,
              "#ed7953"
             ],
             [
              0.7777777777777778,
              "#fb9f3a"
             ],
             [
              0.8888888888888888,
              "#fdca26"
             ],
             [
              1,
              "#f0f921"
             ]
            ],
            "type": "histogram2d"
           }
          ],
          "histogram2dcontour": [
           {
            "colorbar": {
             "outlinewidth": 0,
             "ticks": ""
            },
            "colorscale": [
             [
              0,
              "#0d0887"
             ],
             [
              0.1111111111111111,
              "#46039f"
             ],
             [
              0.2222222222222222,
              "#7201a8"
             ],
             [
              0.3333333333333333,
              "#9c179e"
             ],
             [
              0.4444444444444444,
              "#bd3786"
             ],
             [
              0.5555555555555556,
              "#d8576b"
             ],
             [
              0.6666666666666666,
              "#ed7953"
             ],
             [
              0.7777777777777778,
              "#fb9f3a"
             ],
             [
              0.8888888888888888,
              "#fdca26"
             ],
             [
              1,
              "#f0f921"
             ]
            ],
            "type": "histogram2dcontour"
           }
          ],
          "mesh3d": [
           {
            "colorbar": {
             "outlinewidth": 0,
             "ticks": ""
            },
            "type": "mesh3d"
           }
          ],
          "parcoords": [
           {
            "line": {
             "colorbar": {
              "outlinewidth": 0,
              "ticks": ""
             }
            },
            "type": "parcoords"
           }
          ],
          "pie": [
           {
            "automargin": true,
            "type": "pie"
           }
          ],
          "scatter": [
           {
            "marker": {
             "line": {
              "color": "#283442"
             }
            },
            "type": "scatter"
           }
          ],
          "scatter3d": [
           {
            "line": {
             "colorbar": {
              "outlinewidth": 0,
              "ticks": ""
             }
            },
            "marker": {
             "colorbar": {
              "outlinewidth": 0,
              "ticks": ""
             }
            },
            "type": "scatter3d"
           }
          ],
          "scattercarpet": [
           {
            "marker": {
             "colorbar": {
              "outlinewidth": 0,
              "ticks": ""
             }
            },
            "type": "scattercarpet"
           }
          ],
          "scattergeo": [
           {
            "marker": {
             "colorbar": {
              "outlinewidth": 0,
              "ticks": ""
             }
            },
            "type": "scattergeo"
           }
          ],
          "scattergl": [
           {
            "marker": {
             "line": {
              "color": "#283442"
             }
            },
            "type": "scattergl"
           }
          ],
          "scattermapbox": [
           {
            "marker": {
             "colorbar": {
              "outlinewidth": 0,
              "ticks": ""
             }
            },
            "type": "scattermapbox"
           }
          ],
          "scatterpolar": [
           {
            "marker": {
             "colorbar": {
              "outlinewidth": 0,
              "ticks": ""
             }
            },
            "type": "scatterpolar"
           }
          ],
          "scatterpolargl": [
           {
            "marker": {
             "colorbar": {
              "outlinewidth": 0,
              "ticks": ""
             }
            },
            "type": "scatterpolargl"
           }
          ],
          "scatterternary": [
           {
            "marker": {
             "colorbar": {
              "outlinewidth": 0,
              "ticks": ""
             }
            },
            "type": "scatterternary"
           }
          ],
          "surface": [
           {
            "colorbar": {
             "outlinewidth": 0,
             "ticks": ""
            },
            "colorscale": [
             [
              0,
              "#0d0887"
             ],
             [
              0.1111111111111111,
              "#46039f"
             ],
             [
              0.2222222222222222,
              "#7201a8"
             ],
             [
              0.3333333333333333,
              "#9c179e"
             ],
             [
              0.4444444444444444,
              "#bd3786"
             ],
             [
              0.5555555555555556,
              "#d8576b"
             ],
             [
              0.6666666666666666,
              "#ed7953"
             ],
             [
              0.7777777777777778,
              "#fb9f3a"
             ],
             [
              0.8888888888888888,
              "#fdca26"
             ],
             [
              1,
              "#f0f921"
             ]
            ],
            "type": "surface"
           }
          ],
          "table": [
           {
            "cells": {
             "fill": {
              "color": "#506784"
             },
             "line": {
              "color": "rgb(17,17,17)"
             }
            },
            "header": {
             "fill": {
              "color": "#2a3f5f"
             },
             "line": {
              "color": "rgb(17,17,17)"
             }
            },
            "type": "table"
           }
          ]
         },
         "layout": {
          "annotationdefaults": {
           "arrowcolor": "#f2f5fa",
           "arrowhead": 0,
           "arrowwidth": 1
          },
          "autotypenumbers": "strict",
          "coloraxis": {
           "colorbar": {
            "outlinewidth": 0,
            "ticks": ""
           }
          },
          "colorscale": {
           "diverging": [
            [
             0,
             "#8e0152"
            ],
            [
             0.1,
             "#c51b7d"
            ],
            [
             0.2,
             "#de77ae"
            ],
            [
             0.3,
             "#f1b6da"
            ],
            [
             0.4,
             "#fde0ef"
            ],
            [
             0.5,
             "#f7f7f7"
            ],
            [
             0.6,
             "#e6f5d0"
            ],
            [
             0.7,
             "#b8e186"
            ],
            [
             0.8,
             "#7fbc41"
            ],
            [
             0.9,
             "#4d9221"
            ],
            [
             1,
             "#276419"
            ]
           ],
           "sequential": [
            [
             0,
             "#0d0887"
            ],
            [
             0.1111111111111111,
             "#46039f"
            ],
            [
             0.2222222222222222,
             "#7201a8"
            ],
            [
             0.3333333333333333,
             "#9c179e"
            ],
            [
             0.4444444444444444,
             "#bd3786"
            ],
            [
             0.5555555555555556,
             "#d8576b"
            ],
            [
             0.6666666666666666,
             "#ed7953"
            ],
            [
             0.7777777777777778,
             "#fb9f3a"
            ],
            [
             0.8888888888888888,
             "#fdca26"
            ],
            [
             1,
             "#f0f921"
            ]
           ],
           "sequentialminus": [
            [
             0,
             "#0d0887"
            ],
            [
             0.1111111111111111,
             "#46039f"
            ],
            [
             0.2222222222222222,
             "#7201a8"
            ],
            [
             0.3333333333333333,
             "#9c179e"
            ],
            [
             0.4444444444444444,
             "#bd3786"
            ],
            [
             0.5555555555555556,
             "#d8576b"
            ],
            [
             0.6666666666666666,
             "#ed7953"
            ],
            [
             0.7777777777777778,
             "#fb9f3a"
            ],
            [
             0.8888888888888888,
             "#fdca26"
            ],
            [
             1,
             "#f0f921"
            ]
           ]
          },
          "colorway": [
           "#636efa",
           "#EF553B",
           "#00cc96",
           "#ab63fa",
           "#FFA15A",
           "#19d3f3",
           "#FF6692",
           "#B6E880",
           "#FF97FF",
           "#FECB52"
          ],
          "font": {
           "color": "#f2f5fa"
          },
          "geo": {
           "bgcolor": "rgb(17,17,17)",
           "lakecolor": "rgb(17,17,17)",
           "landcolor": "rgb(17,17,17)",
           "showlakes": true,
           "showland": true,
           "subunitcolor": "#506784"
          },
          "hoverlabel": {
           "align": "left"
          },
          "hovermode": "closest",
          "mapbox": {
           "style": "dark"
          },
          "paper_bgcolor": "rgb(17,17,17)",
          "plot_bgcolor": "rgb(17,17,17)",
          "polar": {
           "angularaxis": {
            "gridcolor": "#506784",
            "linecolor": "#506784",
            "ticks": ""
           },
           "bgcolor": "rgb(17,17,17)",
           "radialaxis": {
            "gridcolor": "#506784",
            "linecolor": "#506784",
            "ticks": ""
           }
          },
          "scene": {
           "xaxis": {
            "backgroundcolor": "rgb(17,17,17)",
            "gridcolor": "#506784",
            "gridwidth": 2,
            "linecolor": "#506784",
            "showbackground": true,
            "ticks": "",
            "zerolinecolor": "#C8D4E3"
           },
           "yaxis": {
            "backgroundcolor": "rgb(17,17,17)",
            "gridcolor": "#506784",
            "gridwidth": 2,
            "linecolor": "#506784",
            "showbackground": true,
            "ticks": "",
            "zerolinecolor": "#C8D4E3"
           },
           "zaxis": {
            "backgroundcolor": "rgb(17,17,17)",
            "gridcolor": "#506784",
            "gridwidth": 2,
            "linecolor": "#506784",
            "showbackground": true,
            "ticks": "",
            "zerolinecolor": "#C8D4E3"
           }
          },
          "shapedefaults": {
           "line": {
            "color": "#f2f5fa"
           }
          },
          "sliderdefaults": {
           "bgcolor": "#C8D4E3",
           "bordercolor": "rgb(17,17,17)",
           "borderwidth": 1,
           "tickwidth": 0
          },
          "ternary": {
           "aaxis": {
            "gridcolor": "#506784",
            "linecolor": "#506784",
            "ticks": ""
           },
           "baxis": {
            "gridcolor": "#506784",
            "linecolor": "#506784",
            "ticks": ""
           },
           "bgcolor": "rgb(17,17,17)",
           "caxis": {
            "gridcolor": "#506784",
            "linecolor": "#506784",
            "ticks": ""
           }
          },
          "title": {
           "x": 0.05
          },
          "updatemenudefaults": {
           "bgcolor": "#506784",
           "borderwidth": 0
          },
          "xaxis": {
           "automargin": true,
           "gridcolor": "#283442",
           "linecolor": "#506784",
           "ticks": "",
           "title": {
            "standoff": 15
           },
           "zerolinecolor": "#283442",
           "zerolinewidth": 2
          },
          "yaxis": {
           "automargin": true,
           "gridcolor": "#283442",
           "linecolor": "#506784",
           "ticks": "",
           "title": {
            "standoff": 15
           },
           "zerolinecolor": "#283442",
           "zerolinewidth": 2
          }
         }
        },
        "title": {
         "text": "Initial Hyperparameter Scan"
        },
        "xaxis": {
         "anchor": "y",
         "domain": [
          0,
          1
         ],
         "title": {
          "text": "encoding_dim"
         }
        },
        "yaxis": {
         "anchor": "x",
         "domain": [
          0,
          1
         ],
         "title": {
          "text": "auc"
         }
        }
       }
      }
     },
     "metadata": {}
    },
    {
     "output_type": "display_data",
     "data": {
      "application/vnd.plotly.v1+json": {
       "config": {
        "plotlyServerURL": "https://plot.ly"
       },
       "data": [
        {
         "customdata": [
          [
           0.03471988852000127,
           0.000001,
           0.0001,
           "6653"
          ],
          [
           0.0393769880767908,
           0.000001,
           0.0001,
           "13a5"
          ],
          [
           0.035295530998594234,
           0.000001,
           0.0001,
           "5a71"
          ],
          [
           0.03714569456686155,
           0.000001,
           0.0001,
           "04ec"
          ],
          [
           0.03532996765789397,
           0.000001,
           0.0001,
           "6e2a"
          ]
         ],
         "hovertemplate": "reg_l1_l2=1e-6/1e-4<br>encoding_dim=%{x}<br>auc=%{y}<br>js_div=%{customdata[0]}<br>l1=%{customdata[1]}<br>l2=%{customdata[2]}<br>id=%{customdata[3]}<extra></extra>",
         "legendgroup": "1e-6/1e-4",
         "marker": {
          "color": "#636efa",
          "size": [
           0.03471988852000127,
           0.0393769880767908,
           0.035295530998594234,
           0.03714569456686155,
           0.03532996765789397
          ],
          "sizemode": "area",
          "sizeref": 0.00014715187811086342,
          "symbol": "circle"
         },
         "mode": "markers",
         "name": "1e-6/1e-4",
         "orientation": "v",
         "showlegend": true,
         "type": "scatter",
         "x": [
          5,
          6,
          9,
          10,
          11
         ],
         "xaxis": "x",
         "y": [
          0.6618243712754794,
          0.7024213348681327,
          0.661689102244135,
          0.672913808917457,
          0.6763789247404932
         ],
         "yaxis": "y"
        },
        {
         "customdata": [
          [
           0.031885167331400927,
           0.00001,
           0.00001,
           "d5c1"
          ],
          [
           0.058860751244345366,
           0.00001,
           0.00001,
           "bde1"
          ],
          [
           0.03380231428595651,
           0.00001,
           0.00001,
           "2c3f"
          ],
          [
           0.03837381381515258,
           0.00001,
           0.00001,
           "1069"
          ],
          [
           0.0316577967899954,
           0.00001,
           0.00001,
           "de02"
          ]
         ],
         "hovertemplate": "reg_l1_l2=1e-5/1e-5<br>encoding_dim=%{x}<br>auc=%{y}<br>js_div=%{customdata[0]}<br>l1=%{customdata[1]}<br>l2=%{customdata[2]}<br>id=%{customdata[3]}<extra></extra>",
         "legendgroup": "1e-5/1e-5",
         "marker": {
          "color": "#EF553B",
          "size": [
           0.031885167331400927,
           0.058860751244345366,
           0.03380231428595651,
           0.03837381381515258,
           0.0316577967899954
          ],
          "sizemode": "area",
          "sizeref": 0.00014715187811086342,
          "symbol": "circle"
         },
         "mode": "markers",
         "name": "1e-5/1e-5",
         "orientation": "v",
         "showlegend": true,
         "type": "scatter",
         "x": [
          5,
          6,
          9,
          10,
          11
         ],
         "xaxis": "x",
         "y": [
          0.6922352675542698,
          0.6955487381706682,
          0.6571494816995528,
          0.6705502200841423,
          0.6523411242576426
         ],
         "yaxis": "y"
        },
        {
         "customdata": [
          [
           0.030018336671732173,
           0.00001,
           0.0001,
           "9929"
          ],
          [
           0.038838279344870975,
           0.00001,
           0.0001,
           "8f98"
          ],
          [
           0.03319496233974934,
           0.00001,
           0.0001,
           "937f"
          ],
          [
           0.030237828062132984,
           0.00001,
           0.0001,
           "bc41"
          ],
          [
           0.03762778767400053,
           0.00001,
           0.0001,
           "e15b"
          ]
         ],
         "hovertemplate": "reg_l1_l2=1e-5/1e-4<br>encoding_dim=%{x}<br>auc=%{y}<br>js_div=%{customdata[0]}<br>l1=%{customdata[1]}<br>l2=%{customdata[2]}<br>id=%{customdata[3]}<extra></extra>",
         "legendgroup": "1e-5/1e-4",
         "marker": {
          "color": "#00cc96",
          "size": [
           0.030018336671732173,
           0.038838279344870975,
           0.03319496233974934,
           0.030237828062132984,
           0.03762778767400053
          ],
          "sizemode": "area",
          "sizeref": 0.00014715187811086342,
          "symbol": "circle"
         },
         "mode": "markers",
         "name": "1e-5/1e-4",
         "orientation": "v",
         "showlegend": true,
         "type": "scatter",
         "x": [
          5,
          6,
          9,
          10,
          11
         ],
         "xaxis": "x",
         "y": [
          0.6828856946835495,
          0.6680467530840303,
          0.6618046202389805,
          0.6410734522293642,
          0.66283636710911
         ],
         "yaxis": "y"
        },
        {
         "customdata": [
          [
           0.032918100112281586,
           0.000001,
           0.00001,
           "e400"
          ],
          [
           0.02969041702989606,
           0.000001,
           0.00001,
           "32b8"
          ],
          [
           0.03247061503895389,
           0.000001,
           0.00001,
           "aa37"
          ],
          [
           0.03583887712502216,
           0.000001,
           0.00001,
           "24c3"
          ],
          [
           0.03294700185769368,
           0.000001,
           0.00001,
           "0104"
          ]
         ],
         "hovertemplate": "reg_l1_l2=1e-6/1e-5<br>encoding_dim=%{x}<br>auc=%{y}<br>js_div=%{customdata[0]}<br>l1=%{customdata[1]}<br>l2=%{customdata[2]}<br>id=%{customdata[3]}<extra></extra>",
         "legendgroup": "1e-6/1e-5",
         "marker": {
          "color": "#ab63fa",
          "size": [
           0.032918100112281586,
           0.02969041702989606,
           0.03247061503895389,
           0.03583887712502216,
           0.03294700185769368
          ],
          "sizemode": "area",
          "sizeref": 0.00014715187811086342,
          "symbol": "circle"
         },
         "mode": "markers",
         "name": "1e-6/1e-5",
         "orientation": "v",
         "showlegend": true,
         "type": "scatter",
         "x": [
          5,
          6,
          9,
          10,
          11
         ],
         "xaxis": "x",
         "y": [
          0.6847894467590943,
          0.6888523136084427,
          0.667055856550572,
          0.6652898403231229,
          0.6779666643067426
         ],
         "yaxis": "y"
        }
       ],
       "layout": {
        "legend": {
         "itemsizing": "constant",
         "title": {
          "text": "reg_l1_l2"
         },
         "tracegroupgap": 0
        },
        "margin": {
         "t": 60
        },
        "template": {
         "data": {
          "bar": [
           {
            "error_x": {
             "color": "#f2f5fa"
            },
            "error_y": {
             "color": "#f2f5fa"
            },
            "marker": {
             "line": {
              "color": "rgb(17,17,17)",
              "width": 0.5
             }
            },
            "type": "bar"
           }
          ],
          "barpolar": [
           {
            "marker": {
             "line": {
              "color": "rgb(17,17,17)",
              "width": 0.5
             }
            },
            "type": "barpolar"
           }
          ],
          "carpet": [
           {
            "aaxis": {
             "endlinecolor": "#A2B1C6",
             "gridcolor": "#506784",
             "linecolor": "#506784",
             "minorgridcolor": "#506784",
             "startlinecolor": "#A2B1C6"
            },
            "baxis": {
             "endlinecolor": "#A2B1C6",
             "gridcolor": "#506784",
             "linecolor": "#506784",
             "minorgridcolor": "#506784",
             "startlinecolor": "#A2B1C6"
            },
            "type": "carpet"
           }
          ],
          "choropleth": [
           {
            "colorbar": {
             "outlinewidth": 0,
             "ticks": ""
            },
            "type": "choropleth"
           }
          ],
          "contour": [
           {
            "colorbar": {
             "outlinewidth": 0,
             "ticks": ""
            },
            "colorscale": [
             [
              0,
              "#0d0887"
             ],
             [
              0.1111111111111111,
              "#46039f"
             ],
             [
              0.2222222222222222,
              "#7201a8"
             ],
             [
              0.3333333333333333,
              "#9c179e"
             ],
             [
              0.4444444444444444,
              "#bd3786"
             ],
             [
              0.5555555555555556,
              "#d8576b"
             ],
             [
              0.6666666666666666,
              "#ed7953"
             ],
             [
              0.7777777777777778,
              "#fb9f3a"
             ],
             [
              0.8888888888888888,
              "#fdca26"
             ],
             [
              1,
              "#f0f921"
             ]
            ],
            "type": "contour"
           }
          ],
          "contourcarpet": [
           {
            "colorbar": {
             "outlinewidth": 0,
             "ticks": ""
            },
            "type": "contourcarpet"
           }
          ],
          "heatmap": [
           {
            "colorbar": {
             "outlinewidth": 0,
             "ticks": ""
            },
            "colorscale": [
             [
              0,
              "#0d0887"
             ],
             [
              0.1111111111111111,
              "#46039f"
             ],
             [
              0.2222222222222222,
              "#7201a8"
             ],
             [
              0.3333333333333333,
              "#9c179e"
             ],
             [
              0.4444444444444444,
              "#bd3786"
             ],
             [
              0.5555555555555556,
              "#d8576b"
             ],
             [
              0.6666666666666666,
              "#ed7953"
             ],
             [
              0.7777777777777778,
              "#fb9f3a"
             ],
             [
              0.8888888888888888,
              "#fdca26"
             ],
             [
              1,
              "#f0f921"
             ]
            ],
            "type": "heatmap"
           }
          ],
          "heatmapgl": [
           {
            "colorbar": {
             "outlinewidth": 0,
             "ticks": ""
            },
            "colorscale": [
             [
              0,
              "#0d0887"
             ],
             [
              0.1111111111111111,
              "#46039f"
             ],
             [
              0.2222222222222222,
              "#7201a8"
             ],
             [
              0.3333333333333333,
              "#9c179e"
             ],
             [
              0.4444444444444444,
              "#bd3786"
             ],
             [
              0.5555555555555556,
              "#d8576b"
             ],
             [
              0.6666666666666666,
              "#ed7953"
             ],
             [
              0.7777777777777778,
              "#fb9f3a"
             ],
             [
              0.8888888888888888,
              "#fdca26"
             ],
             [
              1,
              "#f0f921"
             ]
            ],
            "type": "heatmapgl"
           }
          ],
          "histogram": [
           {
            "marker": {
             "colorbar": {
              "outlinewidth": 0,
              "ticks": ""
             }
            },
            "type": "histogram"
           }
          ],
          "histogram2d": [
           {
            "colorbar": {
             "outlinewidth": 0,
             "ticks": ""
            },
            "colorscale": [
             [
              0,
              "#0d0887"
             ],
             [
              0.1111111111111111,
              "#46039f"
             ],
             [
              0.2222222222222222,
              "#7201a8"
             ],
             [
              0.3333333333333333,
              "#9c179e"
             ],
             [
              0.4444444444444444,
              "#bd3786"
             ],
             [
              0.5555555555555556,
              "#d8576b"
             ],
             [
              0.6666666666666666,
              "#ed7953"
             ],
             [
              0.7777777777777778,
              "#fb9f3a"
             ],
             [
              0.8888888888888888,
              "#fdca26"
             ],
             [
              1,
              "#f0f921"
             ]
            ],
            "type": "histogram2d"
           }
          ],
          "histogram2dcontour": [
           {
            "colorbar": {
             "outlinewidth": 0,
             "ticks": ""
            },
            "colorscale": [
             [
              0,
              "#0d0887"
             ],
             [
              0.1111111111111111,
              "#46039f"
             ],
             [
              0.2222222222222222,
              "#7201a8"
             ],
             [
              0.3333333333333333,
              "#9c179e"
             ],
             [
              0.4444444444444444,
              "#bd3786"
             ],
             [
              0.5555555555555556,
              "#d8576b"
             ],
             [
              0.6666666666666666,
              "#ed7953"
             ],
             [
              0.7777777777777778,
              "#fb9f3a"
             ],
             [
              0.8888888888888888,
              "#fdca26"
             ],
             [
              1,
              "#f0f921"
             ]
            ],
            "type": "histogram2dcontour"
           }
          ],
          "mesh3d": [
           {
            "colorbar": {
             "outlinewidth": 0,
             "ticks": ""
            },
            "type": "mesh3d"
           }
          ],
          "parcoords": [
           {
            "line": {
             "colorbar": {
              "outlinewidth": 0,
              "ticks": ""
             }
            },
            "type": "parcoords"
           }
          ],
          "pie": [
           {
            "automargin": true,
            "type": "pie"
           }
          ],
          "scatter": [
           {
            "marker": {
             "line": {
              "color": "#283442"
             }
            },
            "type": "scatter"
           }
          ],
          "scatter3d": [
           {
            "line": {
             "colorbar": {
              "outlinewidth": 0,
              "ticks": ""
             }
            },
            "marker": {
             "colorbar": {
              "outlinewidth": 0,
              "ticks": ""
             }
            },
            "type": "scatter3d"
           }
          ],
          "scattercarpet": [
           {
            "marker": {
             "colorbar": {
              "outlinewidth": 0,
              "ticks": ""
             }
            },
            "type": "scattercarpet"
           }
          ],
          "scattergeo": [
           {
            "marker": {
             "colorbar": {
              "outlinewidth": 0,
              "ticks": ""
             }
            },
            "type": "scattergeo"
           }
          ],
          "scattergl": [
           {
            "marker": {
             "line": {
              "color": "#283442"
             }
            },
            "type": "scattergl"
           }
          ],
          "scattermapbox": [
           {
            "marker": {
             "colorbar": {
              "outlinewidth": 0,
              "ticks": ""
             }
            },
            "type": "scattermapbox"
           }
          ],
          "scatterpolar": [
           {
            "marker": {
             "colorbar": {
              "outlinewidth": 0,
              "ticks": ""
             }
            },
            "type": "scatterpolar"
           }
          ],
          "scatterpolargl": [
           {
            "marker": {
             "colorbar": {
              "outlinewidth": 0,
              "ticks": ""
             }
            },
            "type": "scatterpolargl"
           }
          ],
          "scatterternary": [
           {
            "marker": {
             "colorbar": {
              "outlinewidth": 0,
              "ticks": ""
             }
            },
            "type": "scatterternary"
           }
          ],
          "surface": [
           {
            "colorbar": {
             "outlinewidth": 0,
             "ticks": ""
            },
            "colorscale": [
             [
              0,
              "#0d0887"
             ],
             [
              0.1111111111111111,
              "#46039f"
             ],
             [
              0.2222222222222222,
              "#7201a8"
             ],
             [
              0.3333333333333333,
              "#9c179e"
             ],
             [
              0.4444444444444444,
              "#bd3786"
             ],
             [
              0.5555555555555556,
              "#d8576b"
             ],
             [
              0.6666666666666666,
              "#ed7953"
             ],
             [
              0.7777777777777778,
              "#fb9f3a"
             ],
             [
              0.8888888888888888,
              "#fdca26"
             ],
             [
              1,
              "#f0f921"
             ]
            ],
            "type": "surface"
           }
          ],
          "table": [
           {
            "cells": {
             "fill": {
              "color": "#506784"
             },
             "line": {
              "color": "rgb(17,17,17)"
             }
            },
            "header": {
             "fill": {
              "color": "#2a3f5f"
             },
             "line": {
              "color": "rgb(17,17,17)"
             }
            },
            "type": "table"
           }
          ]
         },
         "layout": {
          "annotationdefaults": {
           "arrowcolor": "#f2f5fa",
           "arrowhead": 0,
           "arrowwidth": 1
          },
          "autotypenumbers": "strict",
          "coloraxis": {
           "colorbar": {
            "outlinewidth": 0,
            "ticks": ""
           }
          },
          "colorscale": {
           "diverging": [
            [
             0,
             "#8e0152"
            ],
            [
             0.1,
             "#c51b7d"
            ],
            [
             0.2,
             "#de77ae"
            ],
            [
             0.3,
             "#f1b6da"
            ],
            [
             0.4,
             "#fde0ef"
            ],
            [
             0.5,
             "#f7f7f7"
            ],
            [
             0.6,
             "#e6f5d0"
            ],
            [
             0.7,
             "#b8e186"
            ],
            [
             0.8,
             "#7fbc41"
            ],
            [
             0.9,
             "#4d9221"
            ],
            [
             1,
             "#276419"
            ]
           ],
           "sequential": [
            [
             0,
             "#0d0887"
            ],
            [
             0.1111111111111111,
             "#46039f"
            ],
            [
             0.2222222222222222,
             "#7201a8"
            ],
            [
             0.3333333333333333,
             "#9c179e"
            ],
            [
             0.4444444444444444,
             "#bd3786"
            ],
            [
             0.5555555555555556,
             "#d8576b"
            ],
            [
             0.6666666666666666,
             "#ed7953"
            ],
            [
             0.7777777777777778,
             "#fb9f3a"
            ],
            [
             0.8888888888888888,
             "#fdca26"
            ],
            [
             1,
             "#f0f921"
            ]
           ],
           "sequentialminus": [
            [
             0,
             "#0d0887"
            ],
            [
             0.1111111111111111,
             "#46039f"
            ],
            [
             0.2222222222222222,
             "#7201a8"
            ],
            [
             0.3333333333333333,
             "#9c179e"
            ],
            [
             0.4444444444444444,
             "#bd3786"
            ],
            [
             0.5555555555555556,
             "#d8576b"
            ],
            [
             0.6666666666666666,
             "#ed7953"
            ],
            [
             0.7777777777777778,
             "#fb9f3a"
            ],
            [
             0.8888888888888888,
             "#fdca26"
            ],
            [
             1,
             "#f0f921"
            ]
           ]
          },
          "colorway": [
           "#636efa",
           "#EF553B",
           "#00cc96",
           "#ab63fa",
           "#FFA15A",
           "#19d3f3",
           "#FF6692",
           "#B6E880",
           "#FF97FF",
           "#FECB52"
          ],
          "font": {
           "color": "#f2f5fa"
          },
          "geo": {
           "bgcolor": "rgb(17,17,17)",
           "lakecolor": "rgb(17,17,17)",
           "landcolor": "rgb(17,17,17)",
           "showlakes": true,
           "showland": true,
           "subunitcolor": "#506784"
          },
          "hoverlabel": {
           "align": "left"
          },
          "hovermode": "closest",
          "mapbox": {
           "style": "dark"
          },
          "paper_bgcolor": "rgb(17,17,17)",
          "plot_bgcolor": "rgb(17,17,17)",
          "polar": {
           "angularaxis": {
            "gridcolor": "#506784",
            "linecolor": "#506784",
            "ticks": ""
           },
           "bgcolor": "rgb(17,17,17)",
           "radialaxis": {
            "gridcolor": "#506784",
            "linecolor": "#506784",
            "ticks": ""
           }
          },
          "scene": {
           "xaxis": {
            "backgroundcolor": "rgb(17,17,17)",
            "gridcolor": "#506784",
            "gridwidth": 2,
            "linecolor": "#506784",
            "showbackground": true,
            "ticks": "",
            "zerolinecolor": "#C8D4E3"
           },
           "yaxis": {
            "backgroundcolor": "rgb(17,17,17)",
            "gridcolor": "#506784",
            "gridwidth": 2,
            "linecolor": "#506784",
            "showbackground": true,
            "ticks": "",
            "zerolinecolor": "#C8D4E3"
           },
           "zaxis": {
            "backgroundcolor": "rgb(17,17,17)",
            "gridcolor": "#506784",
            "gridwidth": 2,
            "linecolor": "#506784",
            "showbackground": true,
            "ticks": "",
            "zerolinecolor": "#C8D4E3"
           }
          },
          "shapedefaults": {
           "line": {
            "color": "#f2f5fa"
           }
          },
          "sliderdefaults": {
           "bgcolor": "#C8D4E3",
           "bordercolor": "rgb(17,17,17)",
           "borderwidth": 1,
           "tickwidth": 0
          },
          "ternary": {
           "aaxis": {
            "gridcolor": "#506784",
            "linecolor": "#506784",
            "ticks": ""
           },
           "baxis": {
            "gridcolor": "#506784",
            "linecolor": "#506784",
            "ticks": ""
           },
           "bgcolor": "rgb(17,17,17)",
           "caxis": {
            "gridcolor": "#506784",
            "linecolor": "#506784",
            "ticks": ""
           }
          },
          "title": {
           "x": 0.05
          },
          "updatemenudefaults": {
           "bgcolor": "#506784",
           "borderwidth": 0
          },
          "xaxis": {
           "automargin": true,
           "gridcolor": "#283442",
           "linecolor": "#506784",
           "ticks": "",
           "title": {
            "standoff": 15
           },
           "zerolinecolor": "#283442",
           "zerolinewidth": 2
          },
          "yaxis": {
           "automargin": true,
           "gridcolor": "#283442",
           "linecolor": "#506784",
           "ticks": "",
           "title": {
            "standoff": 15
           },
           "zerolinecolor": "#283442",
           "zerolinewidth": 2
          }
         }
        },
        "title": {
         "text": "Initial Hyperparameter Scan"
        },
        "xaxis": {
         "anchor": "y",
         "domain": [
          0,
          1
         ],
         "title": {
          "text": "encoding_dim"
         }
        },
        "yaxis": {
         "anchor": "x",
         "domain": [
          0,
          1
         ],
         "title": {
          "text": "auc"
         }
        }
       }
      }
     },
     "metadata": {}
    }
   ],
   "source": [
    "fig = px.scatter(df[df['mjj_cut']==False], y='auc', x='encoding_dim', size='js_div', color='reg_l1_l2', hover_data=['auc', 'js_div', 'l1', 'l2', 'id'])\n",
    "fig.update_layout(title_text='Initial Hyperparameter Scan')\n",
    "fig.write_html('results.html')\n",
    "fig.show('vscode')\n",
    "fig = px.scatter(df[df['mjj_cut']==True], y='auc', x='encoding_dim', size='js_div', color='reg_l1_l2', hover_data=['auc', 'js_div', 'l1', 'l2', 'id'])\n",
    "fig.update_layout(title_text='Initial Hyperparameter Scan')\n",
    "#fig.write_html('results.html')\n",
    "fig.show('vscode')"
   ]
  },
  {
   "cell_type": "code",
   "execution_count": 11,
   "metadata": {},
   "outputs": [
    {
     "output_type": "stream",
     "name": "stdout",
     "text": [
      "64\n"
     ]
    }
   ],
   "source": [
    "print(len(data['l1']))"
   ]
  },
  {
   "cell_type": "code",
   "execution_count": null,
   "metadata": {},
   "outputs": [],
   "source": []
  }
 ]
}