{
 "metadata": {
  "language_info": {
   "codemirror_mode": {
    "name": "ipython",
    "version": 3
   },
   "file_extension": ".py",
   "mimetype": "text/x-python",
   "name": "python",
   "nbconvert_exporter": "python",
   "pygments_lexer": "ipython3",
   "version": "3.8.6-final"
  },
  "orig_nbformat": 2,
  "kernelspec": {
   "name": "tf-gpu",
   "display_name": "tf-gpu"
  }
 },
 "nbformat": 4,
 "nbformat_minor": 2,
 "cells": [
  {
   "cell_type": "code",
   "execution_count": 1,
   "metadata": {},
   "outputs": [],
   "source": [
    "import sys\n",
    "\n",
    "sys.path.append(\"../\")\n",
    "\n",
    "from loaders.LHCO import LhcoRnDLoader\n",
    "from analysis.scalar import HLFAnalysis\n",
    "from models.nn import PaeBuilder\n",
    "from utils import load_json, dump_json\n",
    "\n",
    "import tensorflow as tf\n",
    "import numpy as np"
   ]
  },
  {
   "cell_type": "code",
   "execution_count": 2,
   "metadata": {},
   "outputs": [
    {
     "output_type": "stream",
     "name": "stdout",
     "text": [
      "1 Physical GPUs, 1 Logical GPUs\n"
     ]
    }
   ],
   "source": [
    "gpus = tf.config.list_physical_devices('GPU')\n",
    "if gpus:\n",
    "  try:\n",
    "    # Currently, memory growth needs to be the same across GPUs\n",
    "    for gpu in gpus:\n",
    "      tf.config.experimental.set_memory_growth(gpu, True)\n",
    "    logical_gpus = tf.config.experimental.list_logical_devices('GPU')\n",
    "    print(len(gpus), \"Physical GPUs,\", len(logical_gpus), \"Logical GPUs\")\n",
    "  except RuntimeError as e:\n",
    "    # Memory growth must be set before GPUs have been initialized\n",
    "    print(e)"
   ]
  },
  {
   "cell_type": "code",
   "execution_count": 3,
   "metadata": {},
   "outputs": [],
   "source": [
    "import glob\n",
    "\n",
    "configs_folder = '../configs/analysis'\n",
    "config_files = glob.glob(configs_folder+'/*.json')\n",
    "config_files = ['../configs/configs/c3d4.json']"
   ]
  },
  {
   "cell_type": "code",
   "execution_count": 4,
   "metadata": {},
   "outputs": [
    {
     "output_type": "execute_result",
     "data": {
      "text/plain": [
       "'c3d4'"
      ]
     },
     "metadata": {},
     "execution_count": 4
    }
   ],
   "source": [
    "config_files[0].replace('.', '/').split('/')[-2]"
   ]
  },
  {
   "cell_type": "code",
   "execution_count": 5,
   "metadata": {},
   "outputs": [],
   "source": [
    "import os\n",
    "\n",
    "plots_dir = './figures/'\n",
    "if not os.path.exists(plots_dir):\n",
    "    os.mkdir(plots_dir)\n",
    "results_history = {\n",
    " 'id': [],\n",
    " 'config': [],\n",
    " 'js_div_train': [],\n",
    " 'js_div_test': [],\n",
    " 'sig_eff': [],\n",
    " 'bkg_rej': [],\n",
    " 'auc': []}"
   ]
  },
  {
   "cell_type": "code",
   "execution_count": 6,
   "metadata": {},
   "outputs": [
    {
     "output_type": "stream",
     "name": "stdout",
     "text": [
      "[PhysicalDevice(name='/physical_device:CPU:0', device_type='CPU'), PhysicalDevice(name='/physical_device:GPU:0', device_type='GPU')]\n",
      "800/800 [==============================] - 6s 7ms/step - loss: 582.9951 - val_loss: 617.0740\n",
      "800/800 [==============================] - 9s 9ms/step - loss: -15.4158 - val_loss: -24.8004\n"
     ]
    }
   ],
   "source": [
    " for file in config_files:\n",
    "    analysis_cfg = load_json(file)\n",
    "    analysis_cfg\n",
    "\n",
    "    analysis_cfg[\"NF:n_dims\"] = analysis_cfg[\"AE:encoding_dim\"]\n",
    "    config = analysis_cfg.copy()\n",
    "\n",
    "    loader_json = analysis_cfg.pop('ANA:loader')\n",
    "    dataset_json = analysis_cfg.pop('ANA:dataset')\n",
    "    density_estimator = analysis_cfg.pop('ANA:estimator')\n",
    "    prc = analysis_cfg.pop('ANA:percentile')\n",
    "\n",
    "    loader = LhcoRnDLoader.from_json(loader_json)\n",
    "    dataset_cfg = load_json(dataset_json)\n",
    "    dataset = loader.make_full_dataset(**dataset_cfg)\n",
    "\n",
    "    builder = PaeBuilder()\n",
    "\n",
    "    pae, ae_train, nf_train = builder.from_json(analysis_cfg)\n",
    "    task = HLFAnalysis(pae, dataset=dataset)\n",
    "    task.reweighting(estimator=density_estimator, fit_key='mjj_train')\n",
    "    if 'cond' in config['nf_model']:\n",
    "        task.make_cond_inputs(['mjj_train', 'mjj_test', 'mjj_valid'])\n",
    "    task.train(ae_train,nf_train)\n",
    "    result = task.evaluate(prc = prc)\n",
    "    for key in result.keys():\n",
    "        results_history[key].append(result[key])\n",
    "    \n",
    "    id = config_files[0].replace('.', '/').split('/')[-2]\n",
    "    results_history['id'].append(id)\n",
    "    results_history['config'].append(config)\n",
    "    task.plot_training(plots_dir+id+'_train.png')\n",
    "    task.plot_latent_space(plots_dir+id+'_latent.png')\n",
    "\n"
   ]
  },
  {
   "cell_type": "code",
   "execution_count": 7,
   "metadata": {},
   "outputs": [
    {
     "output_type": "execute_result",
     "data": {
      "text/plain": [
       "{'id': ['c3d4'],\n",
       " 'config': [{'ANA:loader': '../configs/loader/default_rnd.json',\n",
       "   'ANA:dataset': '../configs/loader/default_dataset.json',\n",
       "   'ANA:estimator': 'gmm',\n",
       "   'ANA:percentile': 95,\n",
       "   'ae_model': 'dense_ae',\n",
       "   'nf_model': 'maf',\n",
       "   'AE:input_dim': 47,\n",
       "   'AE:encoding_dim': 12,\n",
       "   'AE:units': [30, 20, 15],\n",
       "   'AE:hidden_activation': 'relu',\n",
       "   'AE:output_activation': 'sigmoid',\n",
       "   'AE:weight_reg': {'l1': 1e-06},\n",
       "   'AE:bias_reg': {},\n",
       "   'AE:output_reg': {},\n",
       "   'NF:n_dims': 12,\n",
       "   'NF:n_layers': 5,\n",
       "   'NF:units': [32, 32, 32, 32],\n",
       "   'ae_optimizer': 'adam',\n",
       "   'nf_optimizer': 'adam',\n",
       "   'ae_optimizer_kwargs': {'lr': 0.001},\n",
       "   'nf_optimizer_kwargs': {'lr': 0.005},\n",
       "   'ae_callbacks': ['reduce_lr_on_plateau'],\n",
       "   'ae_callbacks_kwargs': [{'factor': 0.2, 'patience': 10, 'verbose': 1}],\n",
       "   'nf_callbacks': ['reduce_lr_on_plateau'],\n",
       "   'nf_callbacks_kwargs': [{'factor': 0.2, 'patience': 5, 'verbose': 1}],\n",
       "   'ae_epochs': 1,\n",
       "   'ae_batch_size': 200,\n",
       "   'nf_epochs': 1,\n",
       "   'nf_batch_size': 200}],\n",
       " 'js_div_train': [0.12589319577969577],\n",
       " 'js_div_test': [0.261892601281216],\n",
       " 'sig_eff': [0.09501],\n",
       " 'bkg_rej': [0.99501],\n",
       " 'auc': [0.84252200825]}"
      ]
     },
     "metadata": {},
     "execution_count": 7
    }
   ],
   "source": [
    "results_history"
   ]
  },
  {
   "source": [
    "# Plotting results"
   ],
   "cell_type": "markdown",
   "metadata": {}
  },
  {
   "cell_type": "code",
   "execution_count": 1,
   "metadata": {},
   "outputs": [
    {
     "output_type": "display_data",
     "data": {
      "text/html": "        <script type=\"text/javascript\">\n        window.PlotlyConfig = {MathJaxConfig: 'local'};\n        if (window.MathJax) {MathJax.Hub.Config({SVG: {font: \"STIX-Web\"}});}\n        if (typeof require !== 'undefined') {\n        require.undef(\"plotly\");\n        requirejs.config({\n            paths: {\n                'plotly': ['https://cdn.plot.ly/plotly-latest.min']\n            }\n        });\n        require(['plotly'], function(Plotly) {\n            window._Plotly = Plotly;\n        });\n        }\n        </script>\n        "
     },
     "metadata": {}
    }
   ],
   "source": [
    "import sys\n",
    "\n",
    "sys.path.append(\"../\")\n",
    "\n",
    "from utils import load_json, dump_json\n",
    "\n",
    "import plotly.graph_objects as go\n",
    "import plotly.express as px\n",
    "import plotly.io as pio\n",
    "from plotly.subplots import make_subplots\n",
    "\n",
    "import pandas as pd\n",
    "\n",
    "from plotly.offline import download_plotlyjs, init_notebook_mode\n",
    "init_notebook_mode(connected = True)\n",
    "pio.templates.default = \"plotly_dark\""
   ]
  },
  {
   "cell_type": "code",
   "execution_count": 3,
   "metadata": {},
   "outputs": [],
   "source": [
    "results = load_json(\"./regularization_result.json\")"
   ]
  },
  {
   "cell_type": "code",
   "execution_count": 4,
   "metadata": {},
   "outputs": [
    {
     "output_type": "execute_result",
     "data": {
      "text/plain": [
       "dict_keys(['id', 'config', 'js_div_train', 'js_div_test', 'sig_eff', 'bkg_rej', 'auc'])"
      ]
     },
     "metadata": {},
     "execution_count": 4
    }
   ],
   "source": [
    "results.keys()"
   ]
  },
  {
   "cell_type": "code",
   "execution_count": 5,
   "metadata": {},
   "outputs": [],
   "source": [
    "cfgs = results.pop('config')"
   ]
  },
  {
   "cell_type": "code",
   "execution_count": 6,
   "metadata": {},
   "outputs": [],
   "source": [
    "relevant_keys = ['ANA:estimator', 'nf_model', 'AE:encoding_dim', 'AE:weight_reg']\n",
    "cfgs_merged = {}\n",
    "for d in cfgs:\n",
    "    for k in relevant_keys: \n",
    "        cfgs_merged.setdefault(k, []).append(d[k])"
   ]
  },
  {
   "cell_type": "code",
   "execution_count": 7,
   "metadata": {},
   "outputs": [],
   "source": [
    "cfgs_merged['l1'] = [x['l1'] for x in cfgs_merged['AE:weight_reg']]\n",
    "cfgs_merged['l2'] = [x['l2'] for x in cfgs_merged['AE:weight_reg']]"
   ]
  },
  {
   "cell_type": "code",
   "execution_count": 8,
   "metadata": {},
   "outputs": [],
   "source": [
    "data = {**results, **cfgs_merged}\n",
    "data['encoding_dim'] = data.pop('AE:encoding_dim')\n",
    "data['js_div'] = data.pop('js_div_train')\n",
    "data.pop('AE:weight_reg')\n",
    "data['density_estimator'] = data.pop('ANA:estimator')\n",
    "data['reg_l1_l2'] =['' for x in data['density_estimator']]\n",
    "\n",
    "df = pd.DataFrame(data)\n",
    "df['reg_l1_l2'][(df['l1'] == 1e-5) & (df['l2'] == 1e-5)] = '1e-5/1e-5'\n",
    "df['reg_l1_l2'][(df['l1'] == 1e-6) & (df['l2'] == 1e-5)] = '1e-6/1e-5'\n",
    "df['reg_l1_l2'][(df['l1'] == 1e-6) & (df['l2'] == 1e-6)] = '1e-6/1e-6'\n",
    "df['reg_l1_l2'][(df['l1'] == 1e-5) & (df['l2'] == 1e-6)] = '1e-5/1e-6'"
   ]
  },
  {
   "cell_type": "code",
   "execution_count": 9,
   "metadata": {},
   "outputs": [
    {
     "output_type": "display_data",
     "data": {
      "application/vnd.plotly.v1+json": {
       "config": {
        "plotlyServerURL": "https://plot.ly"
       },
       "data": [
        {
         "customdata": [
          [
           0.031254850686203615,
           0.000001,
           0.000001
          ],
          [
           0.09999287262801952,
           0.000001,
           0.000001
          ],
          [
           0.03918890353930624,
           0.000001,
           0.000001
          ],
          [
           0.04582119720434522,
           0.000001,
           0.000001
          ],
          [
           0.040087906020228686,
           0.000001,
           0.000001
          ],
          [
           0.03834689290711252,
           0.000001,
           0.000001
          ],
          [
           0.05433469324804139,
           0.000001,
           0.000001
          ],
          [
           0.033574703855592254,
           0.000001,
           0.000001
          ]
         ],
         "hovertemplate": "reg_l1_l2=1e-6/1e-6<br>encoding_dim=%{x}<br>auc=%{y}<br>js_div=%{customdata[0]}<br>l1=%{customdata[1]}<br>l2=%{customdata[2]}<extra></extra>",
         "legendgroup": "1e-6/1e-6",
         "marker": {
          "color": "#636efa",
          "size": [
           0.031254850686203615,
           0.09999287262801952,
           0.03918890353930624,
           0.04582119720434522,
           0.040087906020228686,
           0.03834689290711252,
           0.05433469324804139,
           0.033574703855592254
          ],
          "sizemode": "area",
          "sizeref": 0.0002649660976761309,
          "symbol": "circle"
         },
         "mode": "markers",
         "name": "1e-6/1e-6",
         "orientation": "v",
         "showlegend": true,
         "type": "scatter",
         "x": [
          5,
          6,
          7,
          8,
          9,
          10,
          11,
          12
         ],
         "xaxis": "x",
         "y": [
          0.78829655555,
          0.7701494202000001,
          0.73156647345,
          0.8258271614,
          0.7196477203,
          0.7449106064000001,
          0.82713181085,
          0.7686632708
         ],
         "yaxis": "y"
        },
        {
         "customdata": [
          [
           0.03916347092644198,
           0.00001,
           0.00001
          ],
          [
           0.033537009333243925,
           0.00001,
           0.00001
          ],
          [
           0.029040633437244806,
           0.00001,
           0.00001
          ],
          [
           0.057498650076736,
           0.00001,
           0.00001
          ],
          [
           0.0317919229703798,
           0.00001,
           0.00001
          ],
          [
           0.05391374506381847,
           0.00001,
           0.00001
          ],
          [
           0.03245845963786931,
           0.00001,
           0.00001
          ],
          [
           0.09149620978095703,
           0.00001,
           0.00001
          ]
         ],
         "hovertemplate": "reg_l1_l2=1e-5/1e-5<br>encoding_dim=%{x}<br>auc=%{y}<br>js_div=%{customdata[0]}<br>l1=%{customdata[1]}<br>l2=%{customdata[2]}<extra></extra>",
         "legendgroup": "1e-5/1e-5",
         "marker": {
          "color": "#EF553B",
          "size": [
           0.03916347092644198,
           0.033537009333243925,
           0.029040633437244806,
           0.057498650076736,
           0.0317919229703798,
           0.05391374506381847,
           0.03245845963786931,
           0.09149620978095703
          ],
          "sizemode": "area",
          "sizeref": 0.0002649660976761309,
          "symbol": "circle"
         },
         "mode": "markers",
         "name": "1e-5/1e-5",
         "orientation": "v",
         "showlegend": true,
         "type": "scatter",
         "x": [
          5,
          6,
          7,
          8,
          9,
          10,
          11,
          12
         ],
         "xaxis": "x",
         "y": [
          0.8292565473499999,
          0.8021993781500001,
          0.7457445143,
          0.82688181985,
          0.70394970135,
          0.84160006715,
          0.6994353995,
          0.7644778352500001
         ],
         "yaxis": "y"
        },
        {
         "customdata": [
          [
           0.05691182991443826,
           0.00001,
           0.000001
          ],
          [
           0.025610279136877405,
           0.00001,
           0.000001
          ],
          [
           0.027889419635711815,
           0.00001,
           0.000001
          ],
          [
           0.05745487745056764,
           0.00001,
           0.000001
          ],
          [
           0.05154777614080017,
           0.00001,
           0.000001
          ],
          [
           0.03192828171936524,
           0.00001,
           0.000001
          ],
          [
           0.0385313879481151,
           0.00001,
           0.000001
          ],
          [
           0.035810971713919705,
           0.00001,
           0.000001
          ]
         ],
         "hovertemplate": "reg_l1_l2=1e-5/1e-6<br>encoding_dim=%{x}<br>auc=%{y}<br>js_div=%{customdata[0]}<br>l1=%{customdata[1]}<br>l2=%{customdata[2]}<extra></extra>",
         "legendgroup": "1e-5/1e-6",
         "marker": {
          "color": "#00cc96",
          "size": [
           0.05691182991443826,
           0.025610279136877405,
           0.027889419635711815,
           0.05745487745056764,
           0.05154777614080017,
           0.03192828171936524,
           0.0385313879481151,
           0.035810971713919705
          ],
          "sizemode": "area",
          "sizeref": 0.0002649660976761309,
          "symbol": "circle"
         },
         "mode": "markers",
         "name": "1e-5/1e-6",
         "orientation": "v",
         "showlegend": true,
         "type": "scatter",
         "x": [
          5,
          6,
          7,
          8,
          9,
          10,
          11,
          12
         ],
         "xaxis": "x",
         "y": [
          0.7383182609,
          0.70365614555,
          0.66908717935,
          0.80941820685,
          0.85106555055,
          0.7460510221000001,
          0.7246399557000001,
          0.7598005275999999
         ],
         "yaxis": "y"
        },
        {
         "customdata": [
          [
           0.03617968000164169,
           0.000001,
           0.00001
          ],
          [
           0.03645635088345848,
           0.000001,
           0.00001
          ],
          [
           0.030382041089481025,
           0.000001,
           0.00001
          ],
          [
           0.10598643907045235,
           0.000001,
           0.00001
          ],
          [
           0.031475036765397424,
           0.000001,
           0.00001
          ],
          [
           0.030454764394913528,
           0.000001,
           0.00001
          ],
          [
           0.046166333763487964,
           0.000001,
           0.00001
          ],
          [
           0.05109566395156295,
           0.000001,
           0.00001
          ]
         ],
         "hovertemplate": "reg_l1_l2=1e-6/1e-5<br>encoding_dim=%{x}<br>auc=%{y}<br>js_div=%{customdata[0]}<br>l1=%{customdata[1]}<br>l2=%{customdata[2]}<extra></extra>",
         "legendgroup": "1e-6/1e-5",
         "marker": {
          "color": "#ab63fa",
          "size": [
           0.03617968000164169,
           0.03645635088345848,
           0.030382041089481025,
           0.10598643907045235,
           0.031475036765397424,
           0.030454764394913528,
           0.046166333763487964,
           0.05109566395156295
          ],
          "sizemode": "area",
          "sizeref": 0.0002649660976761309,
          "symbol": "circle"
         },
         "mode": "markers",
         "name": "1e-6/1e-5",
         "orientation": "v",
         "showlegend": true,
         "type": "scatter",
         "x": [
          5,
          6,
          7,
          8,
          9,
          10,
          11,
          12
         ],
         "xaxis": "x",
         "y": [
          0.84738740405,
          0.8021137272,
          0.7445504352000001,
          0.8119007821499999,
          0.7187733065499999,
          0.6865016181000001,
          0.8247886699,
          0.7624164951500001
         ],
         "yaxis": "y"
        }
       ],
       "layout": {
        "legend": {
         "itemsizing": "constant",
         "title": {
          "text": "reg_l1_l2"
         },
         "tracegroupgap": 0
        },
        "margin": {
         "t": 60
        },
        "template": {
         "data": {
          "bar": [
           {
            "error_x": {
             "color": "#f2f5fa"
            },
            "error_y": {
             "color": "#f2f5fa"
            },
            "marker": {
             "line": {
              "color": "rgb(17,17,17)",
              "width": 0.5
             }
            },
            "type": "bar"
           }
          ],
          "barpolar": [
           {
            "marker": {
             "line": {
              "color": "rgb(17,17,17)",
              "width": 0.5
             }
            },
            "type": "barpolar"
           }
          ],
          "carpet": [
           {
            "aaxis": {
             "endlinecolor": "#A2B1C6",
             "gridcolor": "#506784",
             "linecolor": "#506784",
             "minorgridcolor": "#506784",
             "startlinecolor": "#A2B1C6"
            },
            "baxis": {
             "endlinecolor": "#A2B1C6",
             "gridcolor": "#506784",
             "linecolor": "#506784",
             "minorgridcolor": "#506784",
             "startlinecolor": "#A2B1C6"
            },
            "type": "carpet"
           }
          ],
          "choropleth": [
           {
            "colorbar": {
             "outlinewidth": 0,
             "ticks": ""
            },
            "type": "choropleth"
           }
          ],
          "contour": [
           {
            "colorbar": {
             "outlinewidth": 0,
             "ticks": ""
            },
            "colorscale": [
             [
              0,
              "#0d0887"
             ],
             [
              0.1111111111111111,
              "#46039f"
             ],
             [
              0.2222222222222222,
              "#7201a8"
             ],
             [
              0.3333333333333333,
              "#9c179e"
             ],
             [
              0.4444444444444444,
              "#bd3786"
             ],
             [
              0.5555555555555556,
              "#d8576b"
             ],
             [
              0.6666666666666666,
              "#ed7953"
             ],
             [
              0.7777777777777778,
              "#fb9f3a"
             ],
             [
              0.8888888888888888,
              "#fdca26"
             ],
             [
              1,
              "#f0f921"
             ]
            ],
            "type": "contour"
           }
          ],
          "contourcarpet": [
           {
            "colorbar": {
             "outlinewidth": 0,
             "ticks": ""
            },
            "type": "contourcarpet"
           }
          ],
          "heatmap": [
           {
            "colorbar": {
             "outlinewidth": 0,
             "ticks": ""
            },
            "colorscale": [
             [
              0,
              "#0d0887"
             ],
             [
              0.1111111111111111,
              "#46039f"
             ],
             [
              0.2222222222222222,
              "#7201a8"
             ],
             [
              0.3333333333333333,
              "#9c179e"
             ],
             [
              0.4444444444444444,
              "#bd3786"
             ],
             [
              0.5555555555555556,
              "#d8576b"
             ],
             [
              0.6666666666666666,
              "#ed7953"
             ],
             [
              0.7777777777777778,
              "#fb9f3a"
             ],
             [
              0.8888888888888888,
              "#fdca26"
             ],
             [
              1,
              "#f0f921"
             ]
            ],
            "type": "heatmap"
           }
          ],
          "heatmapgl": [
           {
            "colorbar": {
             "outlinewidth": 0,
             "ticks": ""
            },
            "colorscale": [
             [
              0,
              "#0d0887"
             ],
             [
              0.1111111111111111,
              "#46039f"
             ],
             [
              0.2222222222222222,
              "#7201a8"
             ],
             [
              0.3333333333333333,
              "#9c179e"
             ],
             [
              0.4444444444444444,
              "#bd3786"
             ],
             [
              0.5555555555555556,
              "#d8576b"
             ],
             [
              0.6666666666666666,
              "#ed7953"
             ],
             [
              0.7777777777777778,
              "#fb9f3a"
             ],
             [
              0.8888888888888888,
              "#fdca26"
             ],
             [
              1,
              "#f0f921"
             ]
            ],
            "type": "heatmapgl"
           }
          ],
          "histogram": [
           {
            "marker": {
             "colorbar": {
              "outlinewidth": 0,
              "ticks": ""
             }
            },
            "type": "histogram"
           }
          ],
          "histogram2d": [
           {
            "colorbar": {
             "outlinewidth": 0,
             "ticks": ""
            },
            "colorscale": [
             [
              0,
              "#0d0887"
             ],
             [
              0.1111111111111111,
              "#46039f"
             ],
             [
              0.2222222222222222,
              "#7201a8"
             ],
             [
              0.3333333333333333,
              "#9c179e"
             ],
             [
              0.4444444444444444,
              "#bd3786"
             ],
             [
              0.5555555555555556,
              "#d8576b"
             ],
             [
              0.6666666666666666,
              "#ed7953"
             ],
             [
              0.7777777777777778,
              "#fb9f3a"
             ],
             [
              0.8888888888888888,
              "#fdca26"
             ],
             [
              1,
              "#f0f921"
             ]
            ],
            "type": "histogram2d"
           }
          ],
          "histogram2dcontour": [
           {
            "colorbar": {
             "outlinewidth": 0,
             "ticks": ""
            },
            "colorscale": [
             [
              0,
              "#0d0887"
             ],
             [
              0.1111111111111111,
              "#46039f"
             ],
             [
              0.2222222222222222,
              "#7201a8"
             ],
             [
              0.3333333333333333,
              "#9c179e"
             ],
             [
              0.4444444444444444,
              "#bd3786"
             ],
             [
              0.5555555555555556,
              "#d8576b"
             ],
             [
              0.6666666666666666,
              "#ed7953"
             ],
             [
              0.7777777777777778,
              "#fb9f3a"
             ],
             [
              0.8888888888888888,
              "#fdca26"
             ],
             [
              1,
              "#f0f921"
             ]
            ],
            "type": "histogram2dcontour"
           }
          ],
          "mesh3d": [
           {
            "colorbar": {
             "outlinewidth": 0,
             "ticks": ""
            },
            "type": "mesh3d"
           }
          ],
          "parcoords": [
           {
            "line": {
             "colorbar": {
              "outlinewidth": 0,
              "ticks": ""
             }
            },
            "type": "parcoords"
           }
          ],
          "pie": [
           {
            "automargin": true,
            "type": "pie"
           }
          ],
          "scatter": [
           {
            "marker": {
             "line": {
              "color": "#283442"
             }
            },
            "type": "scatter"
           }
          ],
          "scatter3d": [
           {
            "line": {
             "colorbar": {
              "outlinewidth": 0,
              "ticks": ""
             }
            },
            "marker": {
             "colorbar": {
              "outlinewidth": 0,
              "ticks": ""
             }
            },
            "type": "scatter3d"
           }
          ],
          "scattercarpet": [
           {
            "marker": {
             "colorbar": {
              "outlinewidth": 0,
              "ticks": ""
             }
            },
            "type": "scattercarpet"
           }
          ],
          "scattergeo": [
           {
            "marker": {
             "colorbar": {
              "outlinewidth": 0,
              "ticks": ""
             }
            },
            "type": "scattergeo"
           }
          ],
          "scattergl": [
           {
            "marker": {
             "line": {
              "color": "#283442"
             }
            },
            "type": "scattergl"
           }
          ],
          "scattermapbox": [
           {
            "marker": {
             "colorbar": {
              "outlinewidth": 0,
              "ticks": ""
             }
            },
            "type": "scattermapbox"
           }
          ],
          "scatterpolar": [
           {
            "marker": {
             "colorbar": {
              "outlinewidth": 0,
              "ticks": ""
             }
            },
            "type": "scatterpolar"
           }
          ],
          "scatterpolargl": [
           {
            "marker": {
             "colorbar": {
              "outlinewidth": 0,
              "ticks": ""
             }
            },
            "type": "scatterpolargl"
           }
          ],
          "scatterternary": [
           {
            "marker": {
             "colorbar": {
              "outlinewidth": 0,
              "ticks": ""
             }
            },
            "type": "scatterternary"
           }
          ],
          "surface": [
           {
            "colorbar": {
             "outlinewidth": 0,
             "ticks": ""
            },
            "colorscale": [
             [
              0,
              "#0d0887"
             ],
             [
              0.1111111111111111,
              "#46039f"
             ],
             [
              0.2222222222222222,
              "#7201a8"
             ],
             [
              0.3333333333333333,
              "#9c179e"
             ],
             [
              0.4444444444444444,
              "#bd3786"
             ],
             [
              0.5555555555555556,
              "#d8576b"
             ],
             [
              0.6666666666666666,
              "#ed7953"
             ],
             [
              0.7777777777777778,
              "#fb9f3a"
             ],
             [
              0.8888888888888888,
              "#fdca26"
             ],
             [
              1,
              "#f0f921"
             ]
            ],
            "type": "surface"
           }
          ],
          "table": [
           {
            "cells": {
             "fill": {
              "color": "#506784"
             },
             "line": {
              "color": "rgb(17,17,17)"
             }
            },
            "header": {
             "fill": {
              "color": "#2a3f5f"
             },
             "line": {
              "color": "rgb(17,17,17)"
             }
            },
            "type": "table"
           }
          ]
         },
         "layout": {
          "annotationdefaults": {
           "arrowcolor": "#f2f5fa",
           "arrowhead": 0,
           "arrowwidth": 1
          },
          "autotypenumbers": "strict",
          "coloraxis": {
           "colorbar": {
            "outlinewidth": 0,
            "ticks": ""
           }
          },
          "colorscale": {
           "diverging": [
            [
             0,
             "#8e0152"
            ],
            [
             0.1,
             "#c51b7d"
            ],
            [
             0.2,
             "#de77ae"
            ],
            [
             0.3,
             "#f1b6da"
            ],
            [
             0.4,
             "#fde0ef"
            ],
            [
             0.5,
             "#f7f7f7"
            ],
            [
             0.6,
             "#e6f5d0"
            ],
            [
             0.7,
             "#b8e186"
            ],
            [
             0.8,
             "#7fbc41"
            ],
            [
             0.9,
             "#4d9221"
            ],
            [
             1,
             "#276419"
            ]
           ],
           "sequential": [
            [
             0,
             "#0d0887"
            ],
            [
             0.1111111111111111,
             "#46039f"
            ],
            [
             0.2222222222222222,
             "#7201a8"
            ],
            [
             0.3333333333333333,
             "#9c179e"
            ],
            [
             0.4444444444444444,
             "#bd3786"
            ],
            [
             0.5555555555555556,
             "#d8576b"
            ],
            [
             0.6666666666666666,
             "#ed7953"
            ],
            [
             0.7777777777777778,
             "#fb9f3a"
            ],
            [
             0.8888888888888888,
             "#fdca26"
            ],
            [
             1,
             "#f0f921"
            ]
           ],
           "sequentialminus": [
            [
             0,
             "#0d0887"
            ],
            [
             0.1111111111111111,
             "#46039f"
            ],
            [
             0.2222222222222222,
             "#7201a8"
            ],
            [
             0.3333333333333333,
             "#9c179e"
            ],
            [
             0.4444444444444444,
             "#bd3786"
            ],
            [
             0.5555555555555556,
             "#d8576b"
            ],
            [
             0.6666666666666666,
             "#ed7953"
            ],
            [
             0.7777777777777778,
             "#fb9f3a"
            ],
            [
             0.8888888888888888,
             "#fdca26"
            ],
            [
             1,
             "#f0f921"
            ]
           ]
          },
          "colorway": [
           "#636efa",
           "#EF553B",
           "#00cc96",
           "#ab63fa",
           "#FFA15A",
           "#19d3f3",
           "#FF6692",
           "#B6E880",
           "#FF97FF",
           "#FECB52"
          ],
          "font": {
           "color": "#f2f5fa"
          },
          "geo": {
           "bgcolor": "rgb(17,17,17)",
           "lakecolor": "rgb(17,17,17)",
           "landcolor": "rgb(17,17,17)",
           "showlakes": true,
           "showland": true,
           "subunitcolor": "#506784"
          },
          "hoverlabel": {
           "align": "left"
          },
          "hovermode": "closest",
          "mapbox": {
           "style": "dark"
          },
          "paper_bgcolor": "rgb(17,17,17)",
          "plot_bgcolor": "rgb(17,17,17)",
          "polar": {
           "angularaxis": {
            "gridcolor": "#506784",
            "linecolor": "#506784",
            "ticks": ""
           },
           "bgcolor": "rgb(17,17,17)",
           "radialaxis": {
            "gridcolor": "#506784",
            "linecolor": "#506784",
            "ticks": ""
           }
          },
          "scene": {
           "xaxis": {
            "backgroundcolor": "rgb(17,17,17)",
            "gridcolor": "#506784",
            "gridwidth": 2,
            "linecolor": "#506784",
            "showbackground": true,
            "ticks": "",
            "zerolinecolor": "#C8D4E3"
           },
           "yaxis": {
            "backgroundcolor": "rgb(17,17,17)",
            "gridcolor": "#506784",
            "gridwidth": 2,
            "linecolor": "#506784",
            "showbackground": true,
            "ticks": "",
            "zerolinecolor": "#C8D4E3"
           },
           "zaxis": {
            "backgroundcolor": "rgb(17,17,17)",
            "gridcolor": "#506784",
            "gridwidth": 2,
            "linecolor": "#506784",
            "showbackground": true,
            "ticks": "",
            "zerolinecolor": "#C8D4E3"
           }
          },
          "shapedefaults": {
           "line": {
            "color": "#f2f5fa"
           }
          },
          "sliderdefaults": {
           "bgcolor": "#C8D4E3",
           "bordercolor": "rgb(17,17,17)",
           "borderwidth": 1,
           "tickwidth": 0
          },
          "ternary": {
           "aaxis": {
            "gridcolor": "#506784",
            "linecolor": "#506784",
            "ticks": ""
           },
           "baxis": {
            "gridcolor": "#506784",
            "linecolor": "#506784",
            "ticks": ""
           },
           "bgcolor": "rgb(17,17,17)",
           "caxis": {
            "gridcolor": "#506784",
            "linecolor": "#506784",
            "ticks": ""
           }
          },
          "title": {
           "x": 0.05
          },
          "updatemenudefaults": {
           "bgcolor": "#506784",
           "borderwidth": 0
          },
          "xaxis": {
           "automargin": true,
           "gridcolor": "#283442",
           "linecolor": "#506784",
           "ticks": "",
           "title": {
            "standoff": 15
           },
           "zerolinecolor": "#283442",
           "zerolinewidth": 2
          },
          "yaxis": {
           "automargin": true,
           "gridcolor": "#283442",
           "linecolor": "#506784",
           "ticks": "",
           "title": {
            "standoff": 15
           },
           "zerolinecolor": "#283442",
           "zerolinewidth": 2
          }
         }
        },
        "title": {
         "text": "Initial Hyperparameter Scan"
        },
        "xaxis": {
         "anchor": "y",
         "domain": [
          0,
          1
         ],
         "title": {
          "text": "encoding_dim"
         }
        },
        "yaxis": {
         "anchor": "x",
         "domain": [
          0,
          1
         ],
         "title": {
          "text": "auc"
         }
        }
       }
      }
     },
     "metadata": {}
    }
   ],
   "source": [
    "\n",
    "fig = px.scatter(df, y='auc', x='encoding_dim', size='js_div', color='reg_l1_l2', hover_data=['auc', 'js_div', 'l1', 'l2'])\n",
    "fig.update_layout(title_text='Initial Hyperparameter Scan')\n",
    "fig.write_html('results.html')\n",
    "fig.show('vscode')"
   ]
  },
  {
   "cell_type": "code",
   "execution_count": 11,
   "metadata": {},
   "outputs": [
    {
     "output_type": "stream",
     "name": "stdout",
     "text": [
      "64\n"
     ]
    }
   ],
   "source": [
    "print(len(data['l1']))"
   ]
  },
  {
   "cell_type": "code",
   "execution_count": null,
   "metadata": {},
   "outputs": [],
   "source": []
  }
 ]
}