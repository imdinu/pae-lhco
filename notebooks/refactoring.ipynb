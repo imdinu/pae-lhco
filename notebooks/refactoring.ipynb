{
 "metadata": {
  "language_info": {
   "codemirror_mode": {
    "name": "ipython",
    "version": 3
   },
   "file_extension": ".py",
   "mimetype": "text/x-python",
   "name": "python",
   "nbconvert_exporter": "python",
   "pygments_lexer": "ipython3",
   "version": "3.8.6"
  },
  "orig_nbformat": 2,
  "kernelspec": {
   "name": "python3",
   "display_name": "Python 3.8.6 64-bit ('tf-gpu-qnR-nPlh': pipenv)",
   "metadata": {
    "interpreter": {
     "hash": "c54dcb49feb1adc8f812ad9c72cfa03fa8121de330c707127d4f2bd30b21b3cd"
    }
   }
  }
 },
 "nbformat": 4,
 "nbformat_minor": 2,
 "cells": [
  {
   "cell_type": "code",
   "execution_count": 1,
   "metadata": {},
   "outputs": [],
   "source": [
    "import sys\n",
    "\n",
    "sys.path.append('../')\n"
   ]
  },
  {
   "cell_type": "code",
   "execution_count": 2,
   "metadata": {},
   "outputs": [],
   "source": [
    "from pae.loaders import LHCO, download_dataset, download_file"
   ]
  },
  {
   "cell_type": "code",
   "execution_count": 3,
   "metadata": {},
   "outputs": [
    {
     "output_type": "stream",
     "name": "stderr",
     "text": [
      "Downloading RnD data: 285646kB [05:04, 938.19kB/s]\n",
      "Downloading RnD_images_sig data: 285984kB [04:21, 1092.87kB/s]\n"
     ]
    }
   ],
   "source": [
    "download_dataset('RnD', images=True)\n",
    "# l = LHCO.LhcoRnDLoader(None,None)"
   ]
  },
  {
   "cell_type": "code",
   "execution_count": 4,
   "metadata": {},
   "outputs": [
    {
     "output_type": "stream",
     "name": "stdout",
     "text": [
      "analysis.ipynb\t\tlatent_scan_restult.json  refactoring.ipynb\nano_scores.ipynb\tmjj.svg\t\t\t  regularization_result2.json\ncmaf.ipynb\t\toptimization.ipynb\t  regularization_result.json\ncnn.ipynb\t\tpae_cnn.ipynb\t\t  regularization_scan\nfigures\t\t\tperformance.svg\t\t  results.html\nhyperparameter_scan.py\tprototyping.ipynb\n"
     ]
    }
   ],
   "source": [
    "!ls\n"
   ]
  },
  {
   "cell_type": "code",
   "execution_count": null,
   "metadata": {},
   "outputs": [],
   "source": []
  }
 ]
}