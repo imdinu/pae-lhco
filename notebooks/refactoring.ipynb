{
 "metadata": {
  "language_info": {
   "codemirror_mode": {
    "name": "ipython",
    "version": 3
   },
   "file_extension": ".py",
   "mimetype": "text/x-python",
   "name": "python",
   "nbconvert_exporter": "python",
   "pygments_lexer": "ipython3",
   "version": "3.8.6"
  },
  "orig_nbformat": 2,
  "kernelspec": {
   "name": "python3",
   "display_name": "Python 3.8.6 64-bit ('tf-gpu-qnR-nPlh': pipenv)",
   "metadata": {
    "interpreter": {
     "hash": "c54dcb49feb1adc8f812ad9c72cfa03fa8121de330c707127d4f2bd30b21b3cd"
    }
   }
  }
 },
 "nbformat": 4,
 "nbformat_minor": 2,
 "cells": [
  {
   "cell_type": "code",
   "execution_count": 1,
   "metadata": {},
   "outputs": [],
   "source": [
    "import sys\n",
    "\n",
    "sys.path.append('../')\n"
   ]
  },
  {
   "cell_type": "code",
   "execution_count": 2,
   "metadata": {},
   "outputs": [],
   "source": [
    "from pae.loaders.LHCO import ScalarLoaderLHCO, DatasetBuilder"
   ]
  },
  {
   "cell_type": "code",
   "execution_count": 3,
   "metadata": {},
   "outputs": [],
   "source": [
    "x = ScalarLoaderLHCO.from_json(\"../pae/configs/loader/scalar_rnd.json\")\n",
    "mjj = ScalarLoaderLHCO.from_json(\"../pae/configs/loader/scalar_mjj.json\")"
   ]
  },
  {
   "cell_type": "code",
   "execution_count": 4,
   "metadata": {},
   "outputs": [],
   "source": [
    "builder = DatasetBuilder(x, mjj)"
   ]
  },
  {
   "cell_type": "code",
   "execution_count": 5,
   "metadata": {},
   "outputs": [],
   "source": [
    "builder.data_preparation(sample_sizes ={'sig':1000, 'bkg': 20_000}, fit_key='bkg')\n",
    "\n"
   ]
  },
  {
   "cell_type": "code",
   "execution_count": 6,
   "metadata": {},
   "outputs": [],
   "source": [
    "spec = {'train':{'bkg':10_000}, 'test':{'sig':100, 'bkg': 10_000}}"
   ]
  },
  {
   "cell_type": "code",
   "execution_count": 7,
   "metadata": {},
   "outputs": [],
   "source": [
    "data = builder.make_dataset(train = {'bkg':10_000}, test={'sig':100, 'bkg': 10_000})"
   ]
  },
  {
   "cell_type": "code",
   "execution_count": 9,
   "metadata": {},
   "outputs": [
    {
     "output_type": "execute_result",
     "data": {
      "text/plain": [
       "{'X_train': array([[0.55622486, 0.26245873, 0.51976523, ..., 0.27305892, 0.60610611,\n",
       "         0.40741422],\n",
       "        [0.68489136, 0.01314124, 0.54317152, ..., 0.        , 0.        ,\n",
       "         0.78232076],\n",
       "        [0.00541585, 0.08111903, 0.18030021, ..., 0.13113776, 0.31231231,\n",
       "         0.90755438],\n",
       "        ...,\n",
       "        [0.42031663, 0.21348886, 0.57743242, ..., 0.88989778, 0.60610611,\n",
       "         0.15543901],\n",
       "        [0.7636169 , 0.20995675, 0.0883917 , ..., 0.6916836 , 0.60610611,\n",
       "         0.79910039],\n",
       "        [0.25484589, 0.85766261, 0.31391437, ..., 0.71428545, 0.82932933,\n",
       "         0.14760545]]),\n",
       " 'X_test': array([[0.61961962, 0.58958959, 0.1971972 , ..., 1.        , 0.49249249,\n",
       "         0.79279279],\n",
       "        [0.9009009 , 0.15715716, 0.06306306, ..., 0.        , 0.        ,\n",
       "         0.95395395],\n",
       "        [0.47047047, 0.62162162, 0.50850851, ..., 0.43643644, 0.        ,\n",
       "         0.65365365],\n",
       "        ...,\n",
       "        [0.71112646, 0.89721447, 0.34331853, ..., 0.93960766, 0.        ,\n",
       "         0.95287383],\n",
       "        [0.75192975, 0.53948846, 0.28928464, ..., 0.78085207, 0.82932933,\n",
       "         0.52885771],\n",
       "        [0.51026674, 0.89883704, 0.30078274, ..., 0.45737817, 0.31231231,\n",
       "         0.89019383]]),\n",
       " 'X_valid': array([[0.69120414, 0.3257017 , 0.177829  , ..., 0.43186141, 0.31231231,\n",
       "         0.64045511],\n",
       "        [0.97734491, 0.6225229 , 0.89802534, ..., 0.5625588 , 0.31231231,\n",
       "         0.86989128],\n",
       "        [0.35755676, 0.83019891, 0.43039449, ..., 0.53392944, 0.        ,\n",
       "         0.59398062],\n",
       "        ...,\n",
       "        [0.60367884, 0.74723041, 0.17516247, ..., 0.28127225, 0.94294294,\n",
       "         0.34960008],\n",
       "        [0.5321675 , 0.15335752, 0.14308408, ..., 0.21325044, 0.94294294,\n",
       "         0.92898152],\n",
       "        [0.4471916 , 0.31190171, 0.72518566, ..., 0.81704203, 0.31231231,\n",
       "         0.35023619]])}"
      ]
     },
     "metadata": {},
     "execution_count": 9
    }
   ],
   "source": [
    "data"
   ]
  },
  {
   "cell_type": "code",
   "execution_count": 6,
   "metadata": {},
   "outputs": [],
   "source": [
    "import numpy as np\n",
    "spec = {'train':{'bkg':np.arange(1000)+1000}, 'test':{'sig':np.arange(99), 'bkg': np.arange(1000)}}\n",
    "data = ldr.make_dataset(spec)"
   ]
  },
  {
   "cell_type": "code",
   "execution_count": 9,
   "metadata": {},
   "outputs": [
    {
     "output_type": "execute_result",
     "data": {
      "text/plain": [
       "{'sig': array([False, False, False, False, False, False, False, False, False,\n",
       "        False, False, False, False, False, False, False, False, False,\n",
       "        False, False, False, False, False, False, False, False, False,\n",
       "        False, False, False, False, False, False, False, False, False,\n",
       "        False, False, False, False, False, False, False, False, False,\n",
       "        False, False, False, False, False, False, False, False, False,\n",
       "        False, False, False, False, False, False, False, False, False,\n",
       "        False, False, False, False, False, False, False, False, False,\n",
       "        False, False, False, False, False, False, False, False, False,\n",
       "        False, False, False, False, False, False, False, False, False,\n",
       "        False, False, False, False, False, False, False, False, False,\n",
       "         True]),\n",
       " 'bkg': array([False, False, False, ...,  True,  True,  True])}"
      ]
     },
     "metadata": {},
     "execution_count": 9
    }
   ],
   "source": [
    "ldr._available_events\n",
    "#print(len(ldr))"
   ]
  },
  {
   "cell_type": "code",
   "execution_count": 8,
   "metadata": {},
   "outputs": [
    {
     "output_type": "stream",
     "name": "stdout",
     "text": [
      "default_dataset.json  louis_dataset.json  minimal_rnd.json  rnd_files.json\ndefault_rnd.json      louis_rnd.json\t  minmax_rnd.json   scalar_rnd.json\n"
     ]
    }
   ],
   "source": [
    "!ls ../pae/configs/loader\n"
   ]
  },
  {
   "cell_type": "code",
   "execution_count": null,
   "metadata": {},
   "outputs": [],
   "source": []
  }
 ]
}