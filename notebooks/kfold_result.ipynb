{
 "cells": [
  {
   "cell_type": "code",
   "execution_count": null,
   "metadata": {},
   "outputs": [],
   "source": [
    "import sys\n",
    "import numpy as np\n",
    "from pathlib import Path\n",
    "\n",
    "sys.path.append(\"../\")\n",
    "import plotly.graph_objects as go\n",
    "import plotly.express as px\n",
    "import plotly.io as pio\n",
    "\n",
    "from plotly.offline import download_plotlyjs, init_notebook_mode\n",
    "init_notebook_mode(connected = True)\n",
    "pio.templates.default = \"plotly_dark\"\n",
    "\n",
    "from pae.utils import load_json"
   ]
  },
  {
   "cell_type": "code",
   "execution_count": null,
   "metadata": {},
   "outputs": [],
   "source": [
    "results_dir = Path(\"notebooks/logs/20211210-012812\")\n",
    "\n",
    "jsdivs_pae {f\"{i:02d}\":load_json(results_dir / )}"
   ]
  },
  {
   "cell_type": "code",
   "execution_count": null,
   "metadata": {},
   "outputs": [],
   "source": [
    "fig = go.Figure()\n",
    "# fig.add_shape(\n",
    "#     type='line', line=dict(dash='dash', color=\"tomato\", width=1),\n",
    "#     x0=90, x1=90, y0=0, y1=0.04, \n",
    "# )\n",
    "\n",
    "fig.add_trace(\n",
    "    go.Scatter(x=list(js_div_pae.keys()), y=list(js_div_nf.values()), mode='lines',\n",
    "        name=r\"$-\\log p_x$\", line=dict(color=\"rosybrown\", width=3))\n",
    ")\n",
    "fig.add_trace(\n",
    "    go.Scatter(x=list(js_div_pae.keys()), y=list(js_div_lpz.values()), mode='lines',\n",
    "        name=r\"$-\\log p_z$\", line=dict(color=\"chocolate\", width=3))\n",
    ")\n",
    "fig.add_trace(\n",
    "    go.Scatter(x=list(js_div_pae.keys()), y=list(js_div_mse.values()), mode='lines',\n",
    "        name=r\"$\\text{MSE}$\", line=dict(color=\"steelblue\", width=3))\n",
    ")\n",
    "fig.add_trace(\n",
    "    go.Scatter(x=list(js_div_pae.keys()), y=list(js_div_nmse.values()), mode='lines',\n",
    "        name=r\"$\\text{MSE} \\cdot \\sigma^{\\circ-2}$\", line=dict(color=\"cornflowerblue\", width=3))\n",
    ")\n",
    "fig.add_trace(\n",
    "    go.Scatter(x=list(js_div_pae.keys()), y=list(js_div_pae.values()), mode='lines',\n",
    "        name=r\"$\\text{PAE}$\", line=dict(color=\"plum\", width=3))\n",
    ")\n",
    "\n",
    "\n",
    "\n",
    "# fig.add_trace(go.Scatter(\n",
    "#     x=[86],\n",
    "#     y=[0.003],\n",
    "#     mode=\"text\",\n",
    "#     text=[\"97th percentile\"],\n",
    "#     textposition=\"top center\",\n",
    "#     showlegend=False\n",
    "# ))\n",
    "\n",
    "fig.update_layout(\n",
    "    title_text = \"Mass sculpting\",\n",
    "    xaxis_title = \"Percentile Cut\",\n",
    "    yaxis_title = \"Jensen–Shannon\",\n",
    "    margin={'l': 80, 'b': 40, 't': 40, 'r': 0},\n",
    "    width=600, height=500,\n",
    "    paper_bgcolor='rgba(0,0,0,1)',\n",
    "        legend = dict(x=0, y=1,\n",
    "        traceorder='normal',\n",
    "        font=dict(size=15))\n",
    ")\n",
    "fig.show('svg')\n",
    "fig.write_image(\"JS-plot.pdf\")"
   ]
  }
 ],
 "metadata": {
  "interpreter": {
   "hash": "70f45a738872f66498ef9def3ce24bedd18274b41618f938c7df5c328e4074a6"
  },
  "kernelspec": {
   "display_name": "Python 3.9.7 64-bit ('tf-gpu': conda)",
   "language": "python",
   "name": "python3"
  },
  "language_info": {
   "codemirror_mode": {
    "name": "ipython",
    "version": 3
   },
   "file_extension": ".py",
   "mimetype": "text/x-python",
   "name": "python",
   "nbconvert_exporter": "python",
   "pygments_lexer": "ipython3",
   "version": "3.9.7"
  }
 },
 "nbformat": 4,
 "nbformat_minor": 2
}
