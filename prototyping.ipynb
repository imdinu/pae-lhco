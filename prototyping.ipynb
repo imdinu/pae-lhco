{
 "metadata": {
  "orig_nbformat": 2,
  "kernelspec": {
   "name": "tf-gpu",
   "display_name": "tf-gpu"
  }
 },
 "nbformat": 4,
 "nbformat_minor": 2,
 "cells": [
  {
   "cell_type": "code",
   "execution_count": null,
   "metadata": {},
   "outputs": [],
   "source": [
    "import numpy as np\n",
    "import matplotlib.pyplot as plt\n",
    "import pandas as pd\n",
    "\n",
    "from models.autoencoder import DenseAutoencoder\n",
    "from models.flows import MAF\n",
    "from models.nn import PaeBuilder\n",
    "\n",
    "import tensorflow as tf\n",
    "import tensorflow_probability as tfp\n",
    "import tensorflow.keras as tfk"
   ]
  },
  {
   "cell_type": "code",
   "execution_count": null,
   "metadata": {},
   "outputs": [],
   "source": [
    "from loaders.LHCO import LhcoRnDLoader\n",
    "from sklearn.preprocessing import MinMaxScaler, QuantileTransformer\n",
    "\n",
    "scaler = QuantileTransformer(output_distribution='uniform')\n",
    "#scaler = MinMaxScaler()\n",
    "files = {\n",
    "    'bkg':'../data/RnD_bkg_HLF.h5',\n",
    "    'sig1':'../data/RnD_sig1_HLF.h5',\n",
    "    'sig2':'../data/RnD_sig2_HLF.h5'\n",
    "}\n",
    "\n",
    "train_fractions = {\n",
    "    'bkg':1\n",
    "}\n",
    "\n",
    "test_fractions = {\n",
    "    'bkg':.5,\n",
    "    'sig1':.5\n",
    "}\n",
    "\n",
    "loader = LhcoRnDLoader(files, 'all', scaler)\n",
    "loader.preprocessing('bkg')\n",
    "train = loader.make_train_val(250_000, train_fractions, val_split=.2)\n",
    "test = loader.make_test(100_000, test_fractions, replace=False)"
   ]
  },
  {
   "cell_type": "code",
   "execution_count": null,
   "metadata": {},
   "outputs": [],
   "source": [
    "from utils.plotting import optimal_grid\n",
    "\n",
    "r, c = optimal_grid(train['x_train'].shape[1])\n",
    "fig = plt.figure(figsize=(15,8))\n",
    "for i in range(train['x_train'].shape[1]):\n",
    "    plt.subplot(r, c, i+1)\n",
    "    n1, b, _ = plt.hist(train['x_train'][:,i], bins=30, density=True, alpha=0.5)\n",
    "    plt.tight_layout()\n",
    "plt.show()\n",
    "\n"
   ]
  },
  {
   "cell_type": "code",
   "execution_count": null,
   "metadata": {},
   "outputs": [],
   "source": [
    "\n",
    "fig = plt.figure(figsize=(15,8))\n",
    "for i in range(test['x_test'].shape[1]):\n",
    "    plt.subplot(r, c, i+1)\n",
    "    n1, b, _ = plt.hist(test['x_test'][25_000:,i], bins=30, density=True, alpha=0.5)\n",
    "    plt.tight_layout()\n",
    "plt.show()\n"
   ]
  },
  {
   "cell_type": "code",
   "execution_count": null,
   "metadata": {
    "tags": []
   },
   "outputs": [],
   "source": [
    "import tensorflow as tf\n",
    "import tensorflow_probability as tfp\n",
    "import tensorflow.keras as tfk\n",
    "import numpy as np\n",
    "import sys\n",
    "\n",
    "tfd = tfp.distributions\n",
    "tfb = tfp.bijectors\n",
    "tfkl = tfk.layers\n",
    "\n",
    "sys.path.append('../')\n",
    "\n",
    "from models.autoencoder import DenseAutoencoder\n",
    "from models.flows import MAF\n",
    "tf.config.list_physical_devices()"
   ]
  },
  {
   "cell_type": "code",
   "execution_count": null,
   "metadata": {},
   "outputs": [],
   "source": [
    "from tensorflow.python.client import device_lib\n",
    "print(device_lib.list_local_devices())\n"
   ]
  },
  {
   "cell_type": "code",
   "execution_count": null,
   "metadata": {
    "tags": []
   },
   "outputs": [],
   "source": [
    "\n",
    "builder = PaeBuilder()\n",
    "\n",
    "ae_config = {\n",
    "    'input_dim':47, \n",
    "    'encoding_dim':10, \n",
    "    'units_list':[30, 20],\n",
    "    'weight_reg':tfk.regularizers.l1(1e-6),\n",
    "    'output_activation':tf.nn.sigmoid\n",
    "}\n",
    "nf_config = {\n",
    "    'n_dims':10, \n",
    "    'n_layers':5, \n",
    "    'units':[32 for i in range(4)]\n",
    "}\n",
    "optimizer_ae = {\n",
    "    'lr': 0.05\n",
    "}\n",
    "optimizer_nf = {\n",
    "    'lr': 0.005\n",
    "}\n",
    "\n",
    "builder.make_ae_model(DenseAutoencoder, ae_config)\n",
    "builder.make_nf_optimizer(tfk.optimizers.Adam, optimizer_ae)\n",
    "builder.make_nf_model(MAF, nf_config)\n",
    "builder.make_nf_optimizer(tfk.optimizers.Adam, optimizer_nf)\n",
    "builder.compile_ae()\n",
    "builder.compile_nf()\n",
    "pae = builder.pae"
   ]
  },
  {
   "cell_type": "code",
   "execution_count": null,
   "metadata": {
    "tags": []
   },
   "outputs": [],
   "source": [
    "ae_train ={\n",
    "    'batch_size':200,\n",
    "    'epochs':70,\n",
    "    'validation_data':(train[\"x_valid\"],train[\"x_valid\"]),\n",
    "    'callbacks':tfk.callbacks.ReduceLROnPlateau(\n",
    "        factor=0.2,\n",
    "        patience=5,\n",
    "        verbose=1\n",
    "    )\n",
    "}\n",
    "\n",
    "nf_train ={\n",
    "    'batch_size':200,\n",
    "    'epochs':100,\n",
    "    'validation_data':(train[\"x_valid\"],train[\"x_valid\"]),\n",
    "    'callbacks':tfk.callbacks.ReduceLROnPlateau(\n",
    "        factor=0.2,\n",
    "        patience=5,\n",
    "        verbose=1\n",
    "    )\n",
    "}\n",
    "pae.fit(train[\"x_train\"],ae_train,nf_train)"
   ]
  },
  {
   "cell_type": "code",
   "execution_count": null,
   "metadata": {
    "tags": []
   },
   "outputs": [],
   "source": [
    "from utils.plotting import loss_plot, latent_space_plot, mjj_cut_plot, \\\n",
    "                           sculpting_plot\n",
    "\n",
    "loss_plot(pae.history)\n"
   ]
  },
  {
   "cell_type": "code",
   "execution_count": null,
   "metadata": {},
   "outputs": [],
   "source": [
    "latent_space_plot(pae, train['x_train'], save_path='plots/latent_space.png')"
   ]
  },
  {
   "cell_type": "code",
   "execution_count": null,
   "metadata": {
    "tags": []
   },
   "outputs": [],
   "source": [
    "def optimal_grid(n):\n",
    "    rows = np.floor(np.sqrt(n))\n",
    "    residual = 1 if n%rows != 0 else 0\n",
    "    cols = n//rows + residual\n",
    "    return int(rows), int(cols)\n",
    "\n"
   ]
  },
  {
   "cell_type": "code",
   "execution_count": null,
   "metadata": {
    "tags": []
   },
   "outputs": [],
   "source": [
    "mse = pae.reco_error(train['x_train'])\n",
    "from scipy.stats import entropy\n",
    "from scipy.spatial.distance import jensenshannon\n",
    "\n",
    "\n",
    "mjj_cut_plot(mse, train['excl_train'], prc=80, score_name='MSE', save_path='./plots/mse_cut.png')\n",
    "sculpting_plot(mse, train['excl_train'], max_prc=99, save_path='./plots/mse_sculpting.png')\n"
   ]
  },
  {
   "cell_type": "code",
   "execution_count": null,
   "metadata": {},
   "outputs": [],
   "source": [
    "# i_val = np.random.choice(bkg_train.shape[0], 10_000, replace=False)\n",
    "# bkg_train[i_val,:]\n",
    "pae.compute_implicit_sigma(train['x_valid'])\n",
    "ascore = pae.anomaly_score(train['x_train'])\n",
    "mjj_cut_plot(-ascore, train['excl_train'], prc=80, score_name='ln p(x)')\n",
    "sculpting_plot(-ascore, train['excl_train'], max_prc=99)"
   ]
  },
  {
   "cell_type": "code",
   "execution_count": null,
   "metadata": {},
   "outputs": [],
   "source": [
    "# loader._scaled_data['sig1']\n",
    "\n",
    "# from utils.plotting import optimal_grid\n",
    "\n",
    "# r, c = optimal_grid(loader._scaled_data['sig1'].shape[1])\n",
    "# fig = plt.figure(figsize=(15,8))\n",
    "# for i in range(loader._scaled_data['sig1'].shape[1]):\n",
    "#     plt.subplot(r, c, i+1)\n",
    "#     n1, b, _ = plt.hist(loader._scaled_data['sig1'][:,i], bins=30, density=True, alpha=0.5)\n",
    "#     plt.tight_layout()\n",
    "# plt.show()"
   ]
  },
  {
   "cell_type": "code",
   "execution_count": null,
   "metadata": {
    "tags": []
   },
   "outputs": [],
   "source": [
    "print(test['labels'].shape)\n",
    "def binarize(label):\n",
    "    return 1 if label == 'sig1' else 0\n",
    "print(binarize(test['labels'][0]), binarize(test['labels'][-1]))\n",
    "print( np.array(list(map(binarize, test['labels']))))"
   ]
  },
  {
   "cell_type": "code",
   "execution_count": null,
   "metadata": {
    "tags": []
   },
   "outputs": [],
   "source": [
    "mse_test = pae.reco_error(test['x_test'])\n",
    "#ascore_test = np.concatenate([-pae.anomaly_score(test['x_test'][:25000]), -pae.anomaly_score(test['x_test'][25000:])])\n",
    "ascore_test = -pae.anomaly_score(test['x_test'])\n",
    "targets = np.array(list(map(binarize, test['labels'])))\n",
    "print(targets)\n",
    "from sklearn.metrics import roc_curve, auc\n",
    "scores = ascore_test\n",
    "scores_mse = mse_test\n",
    "#targets = np.concatenate([np.zeros(ascore.shape[0]), np.ones(ascore_sig.shape[0])])\n",
    "fpr, tpr, _ = roc_curve(targets, scores)\n",
    "roc_auc = auc(fpr, tpr)\n",
    "label = f'ROC curve (AUC = {roc_auc:.2f})'\n",
    "fig = plt.figure(figsize=(8,8))\n",
    "plt.plot(fpr,tpr,color='red',label='NLL '+label)\n",
    "fpr, tpr, _ = roc_curve(targets, scores_mse)\n",
    "roc_auc = auc(fpr, tpr)\n",
    "label = f'ROC curve (AUC = {roc_auc:.2f})'\n",
    "plt.plot(fpr,tpr,color='orange',label='MSE '+label)\n",
    "plt.xlabel('FPR')\n",
    "plt.ylabel('TPR')\n",
    "plt.title(\"ROC Curve\")\n",
    "plt.plot([0, 1],[0, 1], linestyle='--',color=(0.6, 0.6, 0.6), label='Random guess')\n",
    "plt.legend(loc=\"best\")\n",
    "plt.tight_layout()\n",
    "plt.grid()"
   ]
  },
  {
   "cell_type": "code",
   "execution_count": null,
   "metadata": {},
   "outputs": [],
   "source": [
    "mid = ascore_test.shape[0]//2\n",
    "print(pae.sigma_square)"
   ]
  },
  {
   "cell_type": "code",
   "execution_count": null,
   "metadata": {},
   "outputs": [],
   "source": [
    "plt.figure(figsize=(12,8))\n",
    "n,b,p = plt.hist(ascore_test[:mid], bins=60, alpha=.5)\n",
    "plt.hist(ascore_test[mid:], bins=b, alpha=.5)\n",
    "plt.show()\n",
    "\n",
    "plt.figure(figsize=(12,8))\n",
    "n,b,p = plt.hist(test['excl_test'][:mid], bins=60, alpha=.5)\n",
    "plt.hist(test['excl_test'][mid:], bins=b, alpha=.5)\n",
    "plt.show()\n"
   ]
  },
  {
   "cell_type": "code",
   "execution_count": null,
   "metadata": {},
   "outputs": [],
   "source": [
    "reco_error = np.square(pae.ae(test['x_test'])-test['x_test'])\n",
    "z = pae._ae.encode(test['x_test'])\n",
    "byz = pae._nf.inverse(z)\n",
    "detJ = pae._nf.inverse_log_det_jacobian(z)\n",
    "\n",
    "as2 = -0.5*np.dot(reco_error,pae.sigma_square**(-1))-0.5*np.linalg.norm(byz,axis=1)**2+detJ\n",
    "mjj_cut_plot(-as2, test['excl_test'], prc=80, score_name='-ln p(x)')\n",
    "sculpting_plot(-as2, test['excl_test'], max_prc=99)\n",
    "\n",
    "print(np.linalg.norm(byz,axis=1))\n"
   ]
  },
  {
   "cell_type": "code",
   "execution_count": null,
   "metadata": {},
   "outputs": [],
   "source": [
    "x = train['x_valid']\n",
    "z = pae.ae.encode(x)\n",
    "byz = pae._nf.inverse(z)\n",
    "print(byz.shape)\n",
    "plt.hist(byz[:,2], bins=30, alpha= 0.5)\n",
    "plt.hist(z[:,2], bins=30, alpha=0.5)"
   ]
  },
  {
   "cell_type": "code",
   "execution_count": null,
   "metadata": {},
   "outputs": [],
   "source": [
    "plt.figure(figsize=(12,8))\n",
    "n,b,p = plt.hist(as2[:25_000], bins=60, alpha=.5)\n",
    "plt.hist(as2[25_000:], bins=b, alpha=.5)\n",
    "plt.show()"
   ]
  },
  {
   "cell_type": "code",
   "execution_count": null,
   "metadata": {},
   "outputs": [],
   "source": [
    "def roc_plot(fp, vp, roc_auc, save_path: str = None):\n",
    "    label = f'ROC curve (AUC = {roc_auc:.2f})'\n",
    "    fig = plt.figure(figsize=(8,8))\n",
    "    plt.plot(fp,vp,color='red',label=label)\n",
    "    plt.xlabel('FPR')\n",
    "    plt.ylabel('TPR')\n",
    "    plt.title(\"ROC Curve\")\n",
    "    plt.plot([0, 1],[0, 1], linestyle='--',color=(0.6, 0.6, 0.6), label='Random guess')\n",
    "    plt.legend(loc=\"best\")\n",
    "    plt.tight_layout()\n",
    "    plt.grid()\n",
    "    if save_path is not None:\n",
    "        plt.savefig(save_path)\n",
    "    plt.show()\n",
    "\n",
    "scores = -as2\n",
    "targets = np.concatenate([np.zeros(as2.shape[0]//2), np.ones(as2.shape[0]//2)])\n",
    "fpr, tpr, _ = roc_curve(targets, scores)\n",
    "roc_auc = auc(fpr, tpr)\n",
    "roc_plot(fpr, tpr, roc_auc)"
   ]
  },
  {
   "cell_type": "code",
   "execution_count": null,
   "metadata": {},
   "outputs": [],
   "source": [
    "scores"
   ]
  },
  {
   "cell_type": "code",
   "execution_count": null,
   "metadata": {},
   "outputs": [],
   "source": []
  }
 ]
}