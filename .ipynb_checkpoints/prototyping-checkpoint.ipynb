{
 "cells": [
  {
   "cell_type": "code",
   "execution_count": 1,
   "metadata": {},
   "outputs": [],
   "source": [
    "import numpy as np\n",
    "import matplotlib.pyplot as plt\n",
    "import pandas as pd\n",
    "\n",
    "from models.autoencoder import DenseAutoencoder\n",
    "from models.flows import MAF\n",
    "from models.nn import PaeBuilder\n",
    "\n",
    "import tensorflow as tf\n",
    "import tensorflow_probability as tfp\n",
    "import tensorflow.keras as tfk"
   ]
  },
  {
   "cell_type": "code",
   "execution_count": 47,
   "metadata": {},
   "outputs": [],
   "source": [
    "from loaders.LHCO import LhcoDataloader"
   ]
  },
  {
   "cell_type": "code",
   "execution_count": null,
   "metadata": {
    "tags": []
   },
   "outputs": [],
   "source": [
    "# colList = ['pt1', 'eta1', 'E1', 'm1', '21tau1', '32tau1', \n",
    "#           'pt2', 'eta2', 'E2', 'm2', '21tau2', '32tau2']\n",
    "\n",
    "# colList = ['pt1', 'eta1', 'phi1', 'E1', 'm1', 'nc1', 'nisj1', 'nesj1', '1tau1',\n",
    "#        '2tau1', '3tau1', '32tau1', '21tau1', 'pt2', 'eta2', 'phi2', 'E2', 'm2',\n",
    "#        'nc2', 'nisj2', 'nesj2', '1tau2', '2tau2', '3tau2', '32tau2', '21tau2',\n",
    "#        'eRing0_1', 'eRing1_1', 'eRing2_1', 'eRing3_1', 'eRing4_1', 'eRing5_1',\n",
    "#        'eRing6_1', 'eRing7_1', 'eRing8_1', 'eRing9_1', 'eRing0_2', 'eRing1_2',\n",
    "#        'eRing2_2', 'eRing3_2', 'eRing4_2', 'eRing5_2', 'eRing6_2', 'eRing7_2',\n",
    "#        'eRing8_2', 'eRing9_2', 'mjj', 'nj']\n",
    "colList = ['pt1', 'eta1', 'phi1', 'E1', 'm1', '1tau1',\n",
    "       '2tau1', '3tau1', '32tau1', '21tau1', 'pt2', 'eta2', 'phi2', 'E2', 'm2',\n",
    "        '1tau2', '2tau2', '3tau2', '32tau2', '21tau2',\n",
    "       'eRing0_1', 'eRing1_1', 'eRing2_1', 'eRing3_1', 'eRing4_1', 'eRing5_1',\n",
    "       'eRing6_1', 'eRing7_1', 'eRing8_1', 'eRing9_1', 'eRing0_2', 'eRing1_2',\n",
    "       'eRing2_2', 'eRing3_2', 'eRing4_2', 'eRing5_2', 'eRing6_2', 'eRing7_2',\n",
    "       'eRing8_2', 'eRing9_2', 'mjj']\n",
    "print(len(colList))\n",
    "sample_size = 100_000\n",
    "\n",
    "bkg_all = pd.read_hdf('../data/RnD_bkg_HLF.h5')#[colList+['mjj']]\n",
    "sig1_all = pd.read_hdf('../data/RnD_sig1_HLF.h5')#[colList+['mjj']]\n",
    "sig2_all = pd.read_hdf('../data/RnD_sig2_HLF.h5')#[colList+['mjj']]\n",
    "\n",
    "print (sig2_all.shape, sig1_all.shape)\n",
    "bkg_sample = bkg_all.sample(sample_size).reset_index(drop=True)\n",
    "sig1_sample = sig1_all.sample(sample_size//10).reset_index(drop=True)\n",
    "sig2_sample = sig2_all.sample(sample_size//10).reset_index(drop=True)\n",
    "bkg_sample_test =  bkg_all.sample(sample_size//10).reset_index(drop=True)\n",
    "\n",
    "bkg_sample_mjj = bkg_sample['mjj']\n",
    "sig1_sample_mjj = sig1_sample['mjj']\n",
    "sig2_sample_mjj = sig1_sample['mjj']\n",
    "bkg_sample_test_mjj = bkg_sample_test['mjj']\n",
    "\n",
    "bkg_sample = bkg_sample.drop(['mjj'], axis=1)\n",
    "sig1_sample = sig1_sample.drop(['mjj'], axis=1)\n",
    "sig2_sample = sig2_sample.drop(['mjj'], axis=1)\n",
    "bkg_sample_test = bkg_sample_test.drop(['mjj'], axis=1)"
   ]
  },
  {
   "cell_type": "code",
   "execution_count": null,
   "metadata": {},
   "outputs": [],
   "source": [
    "from sklearn.preprocessing import MinMaxScaler, QuantileTransformer\n",
    "scaler = MinMaxScaler(feature_range=(0,1))\n",
    "scaler = QuantileTransformer(output_distribution='normal')\n",
    "\n",
    "bkg_train = scaler.fit_transform(bkg_sample)\n",
    "bkg_test = scaler.transform(bkg_sample_test)\n",
    "sig1_test = scaler.transform(sig1_sample)\n",
    "sig2_test = scaler.transform(sig2_sample)"
   ]
  },
  {
   "cell_type": "code",
   "execution_count": null,
   "metadata": {},
   "outputs": [],
   "source": [
    "from tensorflow.data import Dataset\n",
    "from utils.plotting import optimal_grid\n",
    "\n",
    "r, c = optimal_grid(bkg_test.shape[1])\n",
    "fig = plt.figure(figsize=(15,8))\n",
    "for i in range(bkg_test.shape[1]):\n",
    "    plt.subplot(r, c, i+1)\n",
    "    n1, b, _ = plt.hist(bkg_test[:,i], bins=30, density=True, alpha=0.5)\n",
    "    #n2, _, _ = plt.hist(z_sample[:,i], bins=b, density=True, alpha=0.5)\n",
    "    plt.tight_layout()\n",
    "    #plt.title(f\"kl={entropy(n1, n2):.6f}\")\n",
    "\n"
   ]
  },
  {
   "cell_type": "code",
   "execution_count": null,
   "metadata": {
    "tags": []
   },
   "outputs": [],
   "source": [
    "print(*['#' for _ in range (79)],sep='')"
   ]
  },
  {
   "cell_type": "code",
   "execution_count": null,
   "metadata": {
    "tags": []
   },
   "outputs": [],
   "source": [
    "import tensorflow as tf\n",
    "import tensorflow_probability as tfp\n",
    "import tensorflow.keras as tfk\n",
    "import numpy as np\n",
    "import sys\n",
    "\n",
    "tfd = tfp.distributions\n",
    "tfb = tfp.bijectors\n",
    "tfkl = tfk.layers\n",
    "\n",
    "sys.path.append('../')\n",
    "\n",
    "from models.autoencoder import DenseAutoencoder\n",
    "from models.flows import MAF\n",
    "tf.config.list_physical_devices()"
   ]
  },
  {
   "cell_type": "code",
   "execution_count": null,
   "metadata": {
    "tags": []
   },
   "outputs": [],
   "source": [
    "builder = PaeBuilder()\n",
    "\n",
    "ae_config = {\n",
    "    'input_dim':47, \n",
    "    'encoding_dim':10, \n",
    "    'units_list':[20],\n",
    "    'weight_reg':tfk.regularizers.l1(1e-6)\n",
    "}\n",
    "nf_config = {\n",
    "    'n_dims':10, \n",
    "    'n_layers':5, \n",
    "    'units':[32 for i in range(4)]\n",
    "}\n",
    "optimizer_ae = {\n",
    "    'lr': 0.005\n",
    "}\n",
    "optimizer_nf = {\n",
    "    'lr': 0.005\n",
    "}\n",
    "\n",
    "builder.make_ae_model(DenseAutoencoder, ae_config)\n",
    "builder.make_nf_optimizer(tfk.optimizers.Adam, optimizer_ae)\n",
    "builder.make_nf_model(MAF, nf_config)\n",
    "builder.make_nf_optimizer(tfk.optimizers.Adam, optimizer_nf)\n",
    "builder.compile_ae()\n",
    "builder.compile_nf()\n",
    "pae = builder.pae"
   ]
  },
  {
   "cell_type": "code",
   "execution_count": null,
   "metadata": {
    "tags": []
   },
   "outputs": [],
   "source": [
    "print(bkg_train.shape)"
   ]
  },
  {
   "cell_type": "code",
   "execution_count": null,
   "metadata": {
    "tags": []
   },
   "outputs": [],
   "source": [
    "ae_train ={\n",
    "    'batch_size':200,\n",
    "    'epochs':30,\n",
    "    'validation_split':.2\n",
    "}\n",
    "\n",
    "nf_train ={\n",
    "    'batch_size':200,\n",
    "    'epochs':100,\n",
    "    'validation_split':.2,\n",
    "    'callbacks':tfk.callbacks.ReduceLROnPlateau(\n",
    "        factor=0.2,\n",
    "        patience=5,\n",
    "        verbose=1\n",
    "    )\n",
    "}\n",
    "pae.fit(bkg_train,ae_train,nf_train)"
   ]
  },
  {
   "cell_type": "code",
   "execution_count": null,
   "metadata": {
    "tags": []
   },
   "outputs": [],
   "source": [
    "from utils.plotting import loss_plot, latent_space_plot, mjj_cut_plot, \\\n",
    "                           sculpting_plot\n",
    "\n",
    "loss_plot(pae.history)\n"
   ]
  },
  {
   "cell_type": "code",
   "execution_count": null,
   "metadata": {},
   "outputs": [],
   "source": [
    "latent_space_plot(pae, bkg_test, save_path='plots/latent_space.png')"
   ]
  },
  {
   "cell_type": "code",
   "execution_count": null,
   "metadata": {
    "tags": []
   },
   "outputs": [],
   "source": [
    "def optimal_grid(n):\n",
    "    rows = np.floor(np.sqrt(n))\n",
    "    residual = 1 if n%rows != 0 else 0\n",
    "    cols = n//rows + residual\n",
    "    return int(rows), int(cols)\n",
    "\n"
   ]
  },
  {
   "cell_type": "code",
   "execution_count": null,
   "metadata": {
    "tags": []
   },
   "outputs": [],
   "source": [
    "mse = pae.reco_error(bkg_test)\n",
    "from scipy.stats import entropy\n",
    "from scipy.spatial.distance import jensenshannon\n",
    "\n",
    "\n",
    "mjj_cut_plot(mse, bkg_sample_test_mjj, prc=80, score_name='MSE', save_path='./plots/mse_cut.png')\n",
    "sculpting_plot(mse, bkg_sample_test_mjj, max_prc=99, save_path='./plots/mse_sculpting.png')\n"
   ]
  },
  {
   "cell_type": "code",
   "execution_count": null,
   "metadata": {},
   "outputs": [],
   "source": [
    "i_val = np.random.choice(bkg_train.shape[0], 10_000, replace=False)\n",
    "bkg_train[i_val,:]\n",
    "pae.compute_implicit_sigma(bkg_train[i_val,:])\n",
    "ascore = pae.anomaly_score(bkg_test)\n",
    "mjj_cut_plot(-ascore, bkg_sample_test_mjj, prc=80, score_name='ln p(x)')\n",
    "sculpting_plot(-ascore, bkg_sample_test_mjj, max_prc=99)"
   ]
  },
  {
   "cell_type": "code",
   "execution_count": null,
   "metadata": {
    "tags": []
   },
   "outputs": [],
   "source": [
    "mse_sig = pae.reco_error(sig1_test)\n",
    "\n",
    "ascore_sig = pae.anomaly_score(sig1_test)\n",
    "from sklearn.metrics import roc_curve, auc\n",
    "scores = np.concatenate([-ascore, -ascore_sig])\n",
    "scores_mse = np.concatenate([mse, mse_sig])\n",
    "targets = np.concatenate([np.zeros(ascore.shape[0]), np.ones(ascore_sig.shape[0])])\n",
    "fpr, tpr, _ = roc_curve(targets, scores)\n",
    "roc_auc = auc(fpr, tpr)\n",
    "label = f'ROC curve (AUC = {roc_auc:.2f})'\n",
    "fig = plt.figure(figsize=(8,8))\n",
    "plt.plot(fpr,tpr,color='red',label='NLL '+label)\n",
    "fpr, tpr, _ = roc_curve(targets, scores_mse)\n",
    "roc_auc = auc(fpr, tpr)\n",
    "label = f'ROC curve (AUC = {roc_auc:.2f})'\n",
    "plt.plot(fpr,tpr,color='orange',label='MSE '+label)\n",
    "plt.xlabel('FPR')\n",
    "plt.ylabel('TPR')\n",
    "plt.title(\"ROC Curve\")\n",
    "plt.plot([0, 1],[0, 1], linestyle='--',color=(0.6, 0.6, 0.6), label='Random guess')\n",
    "plt.legend(loc=\"best\")\n",
    "plt.tight_layout()\n",
    "plt.grid()"
   ]
  },
  {
   "cell_type": "code",
   "execution_count": null,
   "metadata": {},
   "outputs": [],
   "source": [
    "plt.figure(figsize=(12,8))\n",
    "n,b,p = plt.hist(ascore, bins=60, alpha=.5)\n",
    "plt.hist(ascore_sig, bins=b, alpha=.5)\n",
    "plt.show()"
   ]
  },
  {
   "cell_type": "code",
   "execution_count": null,
   "metadata": {},
   "outputs": [],
   "source": [
    "reco_error = np.square(pae.ae(bkg_test)-bkg_test)\n",
    "z = pae._ae.encode(bkg_test)\n",
    "byz = pae._nf.inverse(z)\n",
    "detJ = pae._nf.forward_log_det_jacobian(z)\n",
    "\n",
    "as2 = -0.5*np.dot(reco_error,pae.sigma_square**(-1))-0.5*np.linalg.norm(byz)+detJ\n",
    "mjj_cut_plot(-as2, bkg_sample_test_mjj, prc=80, score_name='-ln p(x)')\n",
    "sculpting_plot(-as2, bkg_sample_test_mjj, max_prc=99)"
   ]
  },
  {
   "cell_type": "code",
   "execution_count": null,
   "metadata": {},
   "outputs": [],
   "source": [
    "reco_error = np.square(pae.ae(sig1_test)-sig1_test)\n",
    "z = pae._ae.encode(sig1_test)\n",
    "byz = pae._nf.inverse(z)\n",
    "detJ = pae._nf.forward_log_det_jacobian(z)\n",
    "\n",
    "as2_sig = -0.5*np.dot(reco_error,pae.sigma_square**(-1))-0.5*np.linalg.norm(byz)+detJ"
   ]
  },
  {
   "cell_type": "code",
   "execution_count": null,
   "metadata": {},
   "outputs": [],
   "source": [
    "plt.figure(figsize=(12,8))\n",
    "n,b,p = plt.hist(as2, bins=60, alpha=.5)\n",
    "plt.hist(as2_sig, bins=b, alpha=.5)\n",
    "plt.show()"
   ]
  },
  {
   "cell_type": "code",
   "execution_count": null,
   "metadata": {},
   "outputs": [],
   "source": [
    "def roc_plot(fp, vp, roc_auc, save_path: str = None):\n",
    "    label = f'ROC curve (AUC = {roc_auc:.2f})'\n",
    "    fig = plt.figure(figsize=(8,8))\n",
    "    plt.plot(fp,vp,color='red',label=label)\n",
    "    plt.xlabel('FPR')\n",
    "    plt.ylabel('TPR')\n",
    "    plt.title(\"ROC Curve\")\n",
    "    plt.plot([0, 1],[0, 1], linestyle='--',color=(0.6, 0.6, 0.6), label='Random guess')\n",
    "    plt.legend(loc=\"best\")\n",
    "    plt.tight_layout()\n",
    "    plt.grid()\n",
    "    if save_path is not None:\n",
    "        plt.savefig(save_path)\n",
    "    plt.show()\n",
    "\n",
    "scores = np.concatenate([-as2, -as2_sig])\n",
    "targets = np.concatenate([np.zeros(as2.shape[0]), np.ones(as2_sig.shape[0])])\n",
    "fpr, tpr, _ = roc_curve(targets, scores)\n",
    "roc_auc = auc(fpr, tpr)\n",
    "roc_plot(fpr, tpr, roc_auc)"
   ]
  },
  {
   "cell_type": "code",
   "execution_count": null,
   "metadata": {},
   "outputs": [],
   "source": [
    "scores"
   ]
  },
  {
   "cell_type": "code",
   "execution_count": null,
   "metadata": {},
   "outputs": [],
   "source": [
    "tst = np.concatenate([bkg_sample_test_mjj.to_numpy(), sig1_sample_mjj.to_numpy()])\n",
    "mjj_cut_plot(scores, tst, prc=80)"
   ]
  },
  {
   "cell_type": "code",
   "execution_count": null,
   "metadata": {
    "tags": []
   },
   "outputs": [],
   "source": [
    "i_val = np.random.choice(bkg_train.shape[0], 10_000, replace=False)\n",
    "bkg_train[i_val,:]\n",
    "pae.compute_implicit_sigma(bkg_train[i_val,:])\n",
    "\n",
    "mse = (pae.ae(bkg_test)-bkg_test)\n",
    "z = pae._ae.encode(bkg_test)\n",
    "byz = pae._nf.inverse(z)\n",
    "detJ = pae._nf.chain.forward_log_det_jacobian(z,1).numpy()\n",
    "\n",
    "asx= -0.5*np.dot(mse**2,pae.sigma_square**(-1))-0.5*np.linalg.norm(byz)+detJ\n",
    "#mjj_cut_plot(asx, bkg_sample_test_mjj, prc=80, score_name='asx')\n",
    "\n",
    "mse = (pae.ae(sig1_test)-sig1_test)\n",
    "z = pae._ae.encode(sig1_test)\n",
    "byz = pae._nf.inverse(z)\n",
    "detJ = pae._nf.chain.forward_log_det_jacobian(z,1).numpy()\n",
    "\n",
    "asx2= -0.5*np.dot(mse**2,pae.sigma_square**(-1))-0.5*np.linalg.norm(byz)+detJ\n",
    "#mjj_cut_plot(asx, bkg_sample_test_mjj, prc=80, score_name='asx')\n",
    "\n",
    "print(detJ)\n",
    "plt.figure(figsize=(12,8))\n",
    "n,b,p = plt.hist(asx, bins=20, alpha=.5)\n",
    "plt.hist(asx2, bins=b, alpha=.5)\n",
    "plt.show()\n",
    "\n",
    "mjj_cut_plot(-asx, bkg_sample_test_mjj, prc=80)"
   ]
  },
  {
   "cell_type": "code",
   "execution_count": null,
   "metadata": {},
   "outputs": [],
   "source": [
    "np.mean(np.square(bkg_test-xr), axis=0)"
   ]
  },
  {
   "cell_type": "code",
   "execution_count": null,
   "metadata": {},
   "outputs": [],
   "source": [
    "def sculpting_plot(ano_score, mjj, \n",
    "                   max_prc: int = 90, \n",
    "                   bins: int = 60,\n",
    "                   save_path: str = None):\n",
    "\n",
    "    n_full, b = np.histogram(mjj, bins=bins, density=True)\n",
    "    js_divs = {}\n",
    "    for prc in range(1, max_prc+1):\n",
    "        x_prc = np.percentile(ano_score, prc)\n",
    "        i_prc = np.where(ano_score >= x_prc)[0]\n",
    "        n_prc, _ = np.histogram(mjj[i_prc], bins=b, density=True)\n",
    "        js_divs[prc] = jensenshannon(n_full,n_prc)\n",
    "    return js_divs\n",
    "\n",
    "ano_js = sculpting_plot(-ascore, bkg_sample_test_mjj)\n",
    "mse_js = sculpting_plot(mse, bkg_sample_test_mjj)\n",
    "\n",
    "plt.figure(figsize=(10,6))\n",
    "plt.plot(ano_js.keys(), ano_js.values(), label='NLL', color='red')\n",
    "plt.plot(mse_js.keys(), mse_js.values(), label='MSE', color='orange')\n",
    "plt.ylabel('Mass sculpting')\n",
    "plt.xlabel('Percentile cut')\n",
    "plt.tight_layout()\n",
    "plt.legend()\n",
    "\n",
    "plt.show()\n",
    "    "
   ]
  },
  {
   "cell_type": "code",
   "execution_count": null,
   "metadata": {},
   "outputs": [],
   "source": [
    "ae = DenseAutoencoder(47, 10)\n",
    "ae.fit(bkg_train, bkg_train)"
   ]
  },
  {
   "cell_type": "code",
   "execution_count": null,
   "metadata": {
    "tags": []
   },
   "outputs": [],
   "source": [
    "x = PAE(ae, nf)\n",
    "ae_dict = {\n",
    "        'input_dim':2,\n",
    "        'encoding_dim':1,\n",
    "        'units_list':[]\n",
    "}\n",
    "x.make_ae(Autoencoder, ae_dict)\n",
    "x.ae(np.array((2,2)).reshape(1,2))"
   ]
  },
  {
   "cell_type": "code",
   "execution_count": null,
   "metadata": {},
   "outputs": [],
   "source": [
    "ae = ae = Autoencoder(2, 1) \n",
    "nf = MAF(2, 3, [10,10])\n",
    "x = PAE(ae, np.array(0))"
   ]
  },
  {
   "cell_type": "code",
   "execution_count": null,
   "metadata": {},
   "outputs": [],
   "source": [
    "import matplotlib.pyplot as plt\n",
    "x = nf.sample(1000)\n",
    "plt.scatter(x[:,0], x[:,1])\n",
    "y = nf.inverse(x)\n",
    "plt.scatter(y[:,0], y[:,1])"
   ]
  },
  {
   "cell_type": "code",
   "execution_count": null,
   "metadata": {},
   "outputs": [],
   "source": [
    "an =tfb.AutoregressiveNetwork(params=2, hidden_units=[512, 512])\n",
    "#an.input"
   ]
  },
  {
   "cell_type": "code",
   "execution_count": null,
   "metadata": {
    "tags": []
   },
   "outputs": [],
   "source": [
    "# Generate data -- as in Figure 1 in [Papamakarios et al. (2017)][2]).\n",
    "n = 2000\n",
    "x2 = np.random.randn(n).astype(dtype=np.float32) * 2.\n",
    "x1 = np.random.randn(n).astype(dtype=np.float32) + (x2 * x2 / 4.)\n",
    "data = np.stack([x1, x2], axis=-1)\n",
    "\n",
    "# Density estimation with MADE.\n",
    "made = tfb.AutoregressiveNetwork(params=2, hidden_units=[10, 10])\n",
    "maf = tfb.MaskedAutoregressiveFlow(made)\n",
    "\n",
    "distribution = tfd.TransformedDistribution(\n",
    "    distribution=tfd.Normal(loc=0., scale=1.),\n",
    "    bijector=maf,\n",
    "    event_shape=[2])\n",
    "\n",
    "# Construct and fit model.\n",
    "x_ = tfkl.Input(shape=(2,), dtype=tf.float32)\n",
    "log_prob_ = distribution.log_prob(x_)\n",
    "model = tfk.Model(x_, log_prob_)\n",
    "\n",
    "model.compile(optimizer=tf.optimizers.Adam(),\n",
    "              loss=lambda _, log_prob: -log_prob)\n",
    "\n",
    "batch_size = 25\n",
    "model.fit(x=data,\n",
    "          y=np.zeros((n, 0), dtype=np.float32),\n",
    "          batch_size=batch_size,\n",
    "          epochs=1,\n",
    "          steps_per_epoch=1,  # Usually `n // batch_size`.\n",
    "          shuffle=True,\n",
    "          verbose=True)\n",
    "\n",
    "# Use the fitted distribution.\n",
    "distribution.sample((3, 1))\n",
    "distribution.log_prob(np.ones((3, 2), dtype=np.float32))"
   ]
  },
  {
   "cell_type": "code",
   "execution_count": null,
   "metadata": {
    "tags": []
   },
   "outputs": [],
   "source": [
    "k = [[1 ,2], [1, 1]]\n",
    "x = np.array(k, dtype=np.float32)\n",
    "\n",
    "print(made(x))\n",
    "\n",
    "print(maf(x))\n"
   ]
  },
  {
   "cell_type": "code",
   "execution_count": null,
   "metadata": {},
   "outputs": [],
   "source": [
    "made.input_shape"
   ]
  },
  {
   "cell_type": "code",
   "execution_count": null,
   "metadata": {
    "tags": []
   },
   "outputs": [],
   "source": [
    "a = np.array([1.,2.]).reshape(1,2)\n",
    "b = np.array([[0.1,0.],[0.2,1.]])\n",
    "c = np.array([2.,1.])\n",
    "\n",
    "print(a.shape, b.shape, c.shape)"
   ]
  },
  {
   "cell_type": "code",
   "execution_count": null,
   "metadata": {
    "tags": []
   },
   "outputs": [],
   "source": [
    "np.matmul(a,b,c)"
   ]
  },
  {
   "cell_type": "code",
   "execution_count": null,
   "metadata": {},
   "outputs": [],
   "source": []
  }
 ],
 "metadata": {
  "kernelspec": {
   "display_name": "tf-gpu",
   "language": "python",
   "name": "tf-gpu"
  },
  "language_info": {
   "codemirror_mode": {
    "name": "ipython",
    "version": 3
   },
   "file_extension": ".py",
   "mimetype": "text/x-python",
   "name": "python",
   "nbconvert_exporter": "python",
   "pygments_lexer": "ipython3",
   "version": "3.8.6"
  }
 },
 "nbformat": 4,
 "nbformat_minor": 2
}
