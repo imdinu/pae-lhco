{
 "cells": [
  {
   "cell_type": "code",
   "execution_count": null,
   "metadata": {},
   "outputs": [],
   "source": [
    "import numpy as np\n",
    "import matplotlib.pyplot as plt\n",
    "import pandas as pd\n",
    "\n",
    "from models.autoencoder import DenseAutoencoder\n",
    "from models.flows import MAF\n",
    "from models.nn import PaeBuilder\n",
    "\n",
    "import tensorflow as tf\n",
    "import tensorflow_probability as tfp\n",
    "import tensorflow.keras as tfk\n",
    "print(tf.__version__)"
   ]
  },
  {
   "cell_type": "code",
   "execution_count": null,
   "metadata": {},
   "outputs": [],
   "source": [
    "from tensorflow.python.client import device_lib\n",
    "print(device_lib.list_local_devices())\n",
    "#tf.config.list_physical_devices()\n"
   ]
  },
  {
   "cell_type": "code",
   "execution_count": null,
   "metadata": {},
   "outputs": [],
   "source": [
    "from loaders.LHCO import LhcoRnDLoader\n",
    "from sklearn.preprocessing import MinMaxScaler, QuantileTransformer\n",
    "\n",
    "scaler = QuantileTransformer(output_distribution='uniform')\n",
    "#scaler = MinMaxScaler()\n",
    "files = {\n",
    "    'bkg':'../data/MC_bkgHLF_merged.h5',\n",
    "    'bbox':'../data/BBOX1_bkgHLF_merged.h5',\n",
    "    'bbox2':'../data/BBOX2_bkgHLF_merged.h5'\n",
    "}\n",
    "\n",
    "train_fractions = {\n",
    "    'bkg':1\n",
    "}\n",
    "\n",
    "test_fractions = {\n",
    "    'bbox2':1\n",
    "}\n",
    "\n",
    "loader = LhcoRnDLoader(files, 'all', scaler)\n",
    "loader.preprocessing('bkg')\n",
    "train = loader.make_train_val(1_000_000, train_fractions, val_split=.2)\n",
    "test = loader.make_test(1_000_000, test_fractions, replace=False)"
   ]
  },
  {
   "cell_type": "code",
   "execution_count": null,
   "metadata": {},
   "outputs": [],
   "source": [
    "from utils.plotting import feature_plots\n",
    "\n",
    "feature_plots(train['x_train'])\n",
    "\n"
   ]
  },
  {
   "cell_type": "code",
   "execution_count": null,
   "metadata": {},
   "outputs": [],
   "source": [
    "feature_plots(test['x_test'])\n"
   ]
  },
  {
   "cell_type": "markdown",
   "metadata": {},
   "source": [
    "### Reweighting"
   ]
  },
  {
   "cell_type": "code",
   "execution_count": null,
   "metadata": {},
   "outputs": [],
   "source": [
    "from sklearn.mixture import GaussianMixture\n",
    "GMM = GaussianMixture\n",
    "\n",
    "gmm = GMM(n_components=200, covariance_type='full').fit(train[\"mjj_train\"].reshape(-1,1))\n",
    "plt.figure(figsize=(12,8))\n",
    "_, b, _ = plt.hist(train[\"mjj_train\"], bins=50, label='mjj true', alpha=.5, density=True)\n",
    "sample = gmm.sample(train[\"mjj_train\"].shape[0])\n",
    "plt.hist(sample[0], bins=b, label='mjj GMM', alpha=.5, density=True)\n",
    "plt.legend()\n",
    "plt.show()"
   ]
  },
  {
   "cell_type": "code",
   "execution_count": null,
   "metadata": {},
   "outputs": [],
   "source": [
    "weights2 = gmm.score_samples(train[\"mjj_train\"].reshape(-1,1))\n",
    "weights2_valid = gmm.score_samples(train[\"mjj_valid\"].reshape(-1,1))\n",
    "plt.figure(figsize=(12,8))\n",
    "_, b, _ = plt.hist(train[\"mjj_train\"], bins=50, label='mjj weighted', alpha=.5, weights=np.exp(weights2))\n",
    "plt.legend()\n",
    "plt.show()"
   ]
  },
  {
   "cell_type": "code",
   "execution_count": null,
   "metadata": {},
   "outputs": [],
   "source": [
    "plt.figure(figsize=(12,8))\n",
    "plt.scatter(train[\"mjj_train\"], 1/np.exp(weights2))\n",
    "plt.show()"
   ]
  },
  {
   "cell_type": "code",
   "execution_count": null,
   "metadata": {
    "tags": []
   },
   "outputs": [],
   "source": [
    "import tensorflow as tf\n",
    "import tensorflow_probability as tfp\n",
    "import tensorflow.keras as tfk\n",
    "import numpy as np\n",
    "import sys\n",
    "\n",
    "tfd = tfp.distributions\n",
    "tfb = tfp.bijectors\n",
    "tfkl = tfk.layers\n",
    "\n",
    "sys.path.append('../')\n",
    "\n",
    "from models.autoencoder import DenseAutoencoder\n",
    "from models.flows import MAF"
   ]
  },
  {
   "cell_type": "code",
   "execution_count": null,
   "metadata": {
    "tags": []
   },
   "outputs": [],
   "source": [
    "\n",
    "builder = PaeBuilder()\n",
    "\n",
    "ae_config = {\n",
    "    'input_dim':47, \n",
    "    'encoding_dim':10, \n",
    "    'units_list':[30],\n",
    "    'weight_reg':tfk.regularizers.l1(1e-6),\n",
    "    'output_activation':tf.nn.sigmoid\n",
    "}\n",
    "nf_config = {\n",
    "    'n_dims':10, \n",
    "    'n_layers':5, \n",
    "    'units':[32 for i in range(4)]\n",
    "}\n",
    "optimizer_ae = {\n",
    "    'lr': 0.05\n",
    "}\n",
    "optimizer_nf = {\n",
    "    'lr': 0.005\n",
    "}\n",
    "\n",
    "builder.make_ae_model(DenseAutoencoder, ae_config)\n",
    "builder.make_nf_optimizer(tfk.optimizers.Adam, optimizer_ae)\n",
    "builder.make_nf_model(MAF, nf_config)\n",
    "builder.make_nf_optimizer(tfk.optimizers.Adam, optimizer_nf)\n",
    "builder.compile_ae()\n",
    "builder.compile_nf()\n",
    "pae = builder.pae"
   ]
  },
  {
   "cell_type": "code",
   "execution_count": null,
   "metadata": {
    "tags": [
     "outputPrepend"
    ]
   },
   "outputs": [],
   "source": [
    "ae_train ={\n",
    "    'batch_size':200,\n",
    "    'epochs':180,\n",
    "    'sample_weight':1/np.exp(weights2),\n",
    "    'validation_data':(train[\"x_valid\"],train[\"x_valid\"],1/np.exp(weights2_valid)),\n",
    "    'callbacks':tfk.callbacks.ReduceLROnPlateau(\n",
    "        factor=0.2,\n",
    "        patience=10,\n",
    "        verbose=1\n",
    "    )\n",
    "}\n",
    "\n",
    "nf_train ={\n",
    "    'batch_size':200,\n",
    "    'epochs':100,\n",
    "    'validation_data':(train[\"x_valid\"],train[\"x_valid\"]),\n",
    "    'callbacks':tfk.callbacks.ReduceLROnPlateau(\n",
    "        factor=0.2,\n",
    "        patience=5,\n",
    "        verbose=1\n",
    "    )\n",
    "}\n",
    "with tf.device(\"/device:GPU:0\"):\n",
    "    %time pae.fit(train[\"x_train\"],ae_train,nf_train)"
   ]
  },
  {
   "cell_type": "code",
   "execution_count": null,
   "metadata": {
    "tags": []
   },
   "outputs": [],
   "source": [
    "from utils.plotting import loss_plot, latent_space_plot, mjj_cut_plot, \\\n",
    "                           sculpting_plot, roc_plot\n",
    "\n",
    "loss_plot(pae.history)\n"
   ]
  },
  {
   "cell_type": "code",
   "execution_count": null,
   "metadata": {},
   "outputs": [],
   "source": [
    "print(\"Encoding . . .\")\n",
    "z_true = pae.ae.encode(train['x_train'])\n",
    "print(\"Sampling . . .\")\n",
    "z_sample = pae.nf.sample(train['x_train'].shape[0])\n",
    "print(\"Plotting . . .\")\n",
    "latent_space_plot(z_true, z_sample, save_path='plots/latent_space.png')"
   ]
  },
  {
   "cell_type": "code",
   "execution_count": null,
   "metadata": {
    "tags": []
   },
   "outputs": [],
   "source": [
    "def optimal_grid(n):\n",
    "    rows = np.floor(np.sqrt(n))\n",
    "    residual = 1 if n%rows != 0 else 0\n",
    "    cols = n//rows + residual\n",
    "    return int(rows), int(cols)\n",
    "\n"
   ]
  },
  {
   "cell_type": "code",
   "execution_count": null,
   "metadata": {
    "tags": []
   },
   "outputs": [],
   "source": [
    "mse = pae.reco_error(train['x_train'])\n",
    "pae.compute_implicit_sigma(train['x_valid'])\n",
    "ascore = -pae.anomaly_score(train['x_train'])\n",
    "\n",
    "mjj_cut_plot(mse, train['mjj_train'], prc=80, score_name='MSE')#, save_path='./plots/mse_cut.png')\n",
    "mjj_cut_plot(ascore, train['mjj_train'], prc=80, score_name='NLL')\n"
   ]
  },
  {
   "cell_type": "code",
   "execution_count": null,
   "metadata": {},
   "outputs": [],
   "source": [
    "ano_scores = {\n",
    "    'MSE': mse,\n",
    "    'NLL': ascore\n",
    "}\n",
    "\n",
    "sculpting_plot(ano_scores, train['mjj_train'], max_prc=99)#, save_path='./plots/mass_sculpting.png')"
   ]
  },
  {
   "cell_type": "code",
   "execution_count": null,
   "metadata": {},
   "outputs": [],
   "source": [
    "# scaler2 = QuantileTransformer(output_distribution='uniform')\n",
    "# files2 = {\n",
    "#     'bbox':'../data/BBOX1_bkgHLF_merged.h5'\n",
    "# }\n",
    "\n",
    "# test_fractions = {\n",
    "#     'bbox':1\n",
    "# }\n",
    "\n",
    "# loader = LhcoRnDLoader(files, 'all', scaler2)\n",
    "# loader.preprocessing('bbox')\n",
    "# test2 = loader.make_test(1_000_000, test_fractions, replace=False)"
   ]
  },
  {
   "cell_type": "code",
   "execution_count": null,
   "metadata": {},
   "outputs": [],
   "source": [
    "ascore_test = -pae.anomaly_score(test['x_test'])\n",
    "mjj_cut_plot(ascore_test, test['mjj_test'], prc=90, score_name='NLL', bins=100, save_path=None)\n"
   ]
  },
  {
   "cell_type": "code",
   "execution_count": null,
   "metadata": {},
   "outputs": [],
   "source": [
    "\n",
    "ano_scores = {\n",
    "    'MSE': mse,\n",
    "    'NLL': ascore\n",
    "}\n",
    "\n",
    "sculpting_plot(ano_scores, train['mjj_train'], max_prc=99, save_path='./plots/mass_sculpting_bkg.png')\n",
    "\n",
    "ascore_test = -pae.anomaly_score(test['x_test'])\n",
    "bkg, data = mjj_cut_plot(ascore_test, test['mjj_test'], prc=99, score_name='NLL', bins=100, save_path='./plots/cut_bbox1_samescaler.png')\n",
    "\n",
    "import pyBumpHunter as BH\n",
    "\n",
    "weights = np.repeat(1/(bkg.shape[0]/data.shape[0]),bkg.shape[0])\n",
    "hunter = BH.BumpHunter(rang=(3200,4800),\n",
    "                    width_min=2,\n",
    "                    width_max=6,\n",
    "                    width_step=1,\n",
    "                    scan_step=1,\n",
    "                    Npe=10000,\n",
    "                    Nworker=1,\n",
    "                    seed=666,\n",
    "                    weights=weights\n",
    "                )\n",
    "hunter.BumpScan(data,bkg)\n",
    "hunter.PlotBump(data,bkg,filename='./plots/bump_bbox1.png')\n",
    "hunter.PrintBumpTrue(data,bkg)"
   ]
  },
  {
   "cell_type": "code",
   "execution_count": null,
   "metadata": {},
   "outputs": [],
   "source": []
  }
 ],
 "metadata": {
  "kernelspec": {
   "display_name": "tf-gpu",
   "language": "python",
   "name": "tf-gpu"
  },
  "language_info": {
   "codemirror_mode": {
    "name": "ipython",
    "version": 3
   },
   "file_extension": ".py",
   "mimetype": "text/x-python",
   "name": "python",
   "nbconvert_exporter": "python",
   "pygments_lexer": "ipython3",
   "version": "3.8.6-final"
  }
 },
 "nbformat": 4,
 "nbformat_minor": 2
}